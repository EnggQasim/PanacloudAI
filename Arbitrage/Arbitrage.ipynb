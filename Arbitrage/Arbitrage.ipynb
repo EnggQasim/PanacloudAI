{
 "cells": [
  {
   "cell_type": "code",
   "execution_count": 23,
   "metadata": {
    "collapsed": true
   },
   "outputs": [],
   "source": [
    "import requests\n",
    "import matplotlib.pyplot as plt\n",
    "import datetime\n",
    "import pandas as pd"
   ]
  },
  {
   "cell_type": "code",
   "execution_count": 24,
   "metadata": {
    "collapsed": true
   },
   "outputs": [],
   "source": [
    "def price():\n",
    "    url = 'https://api.cryptonator.com/api/full/btc-usd?fa821dba_ipp_uid2=MGOUqWes6Fj05RZn%2FazMwgQ8DRdoLwDFsCHuePQ%3D%3D&fa821dba_ipp_uid1=1519650610134&fa821dba_ipp_key=1519650610135%2FILcIJQ%2FMARVlZGdh2ad%2B5g%3D%3D'\n",
    "    \n",
    "    page = requests.get(url)\n",
    "    data = page.json()\n",
    "    print(url)\n",
    "    return data"
   ]
  },
  {
   "cell_type": "code",
   "execution_count": 25,
   "metadata": {},
   "outputs": [
    {
     "name": "stdout",
     "output_type": "stream",
     "text": [
      "https://api.cryptonator.com/api/full/btc-usd?fa821dba_ipp_uid2=MGOUqWes6Fj05RZn%2FazMwgQ8DRdoLwDFsCHuePQ%3D%3D&fa821dba_ipp_uid1=1519650610134&fa821dba_ipp_key=1519650610135%2FILcIJQ%2FMARVlZGdh2ad%2B5g%3D%3D\n"
     ]
    },
    {
     "data": {
      "text/plain": [
       "{'error': '',\n",
       " 'success': True,\n",
       " 'ticker': {'base': 'BTC',\n",
       "  'change': '20.69634875',\n",
       "  'markets': [{'market': 'BitFinex',\n",
       "    'price': '10355.00000000',\n",
       "    'volume': 44796.09544409},\n",
       "   {'market': 'Bitstamp', 'price': '10358.26000000', 'volume': 16086.77644711},\n",
       "   {'market': 'Bittrex', 'price': '10389.99999989', 'volume': 3895.75654415},\n",
       "   {'market': 'C-Cex', 'price': '10960.00000000', 'volume': 1.93875954},\n",
       "   {'market': 'Cex.io', 'price': '10584.90000000', 'volume': 1769.91872249},\n",
       "   {'market': 'Exmo', 'price': '10600.00000000', 'volume': 1223.62913698},\n",
       "   {'market': 'Hitbtc', 'price': '10422.46000000', 'volume': 5505.36},\n",
       "   {'market': 'Kraken', 'price': '10353.50000000', 'volume': 8655.51078685},\n",
       "   {'market': 'Livecoin', 'price': '10431.00000000', 'volume': 1116.84673659},\n",
       "   {'market': 'Poloniex', 'price': '10345.11199999', 'volume': 4022.71786738},\n",
       "   {'market': 'wexnz', 'price': '10327.71500000', 'volume': 1211.33466},\n",
       "   {'market': 'YoBit', 'price': '10716.99900000', 'volume': 134.40119934}],\n",
       "  'price': '10369.88091362',\n",
       "  'target': 'USD',\n",
       "  'volume': '88420.28630452'},\n",
       " 'timestamp': 1519717622}"
      ]
     },
     "execution_count": 25,
     "metadata": {},
     "output_type": "execute_result"
    }
   ],
   "source": [
    "abc=price()\n",
    "abc"
   ]
  },
  {
   "cell_type": "code",
   "execution_count": 35,
   "metadata": {},
   "outputs": [
    {
     "data": {
      "text/plain": [
       "[{'market': 'BitFinex', 'price': '10355.00000000', 'volume': 44796.09544409},\n",
       " {'market': 'Bitstamp', 'price': '10358.26000000', 'volume': 16086.77644711},\n",
       " {'market': 'Bittrex', 'price': '10389.99999989', 'volume': 3895.75654415},\n",
       " {'market': 'C-Cex', 'price': '10960.00000000', 'volume': 1.93875954},\n",
       " {'market': 'Cex.io', 'price': '10584.90000000', 'volume': 1769.91872249},\n",
       " {'market': 'Exmo', 'price': '10600.00000000', 'volume': 1223.62913698},\n",
       " {'market': 'Hitbtc', 'price': '10422.46000000', 'volume': 5505.36},\n",
       " {'market': 'Kraken', 'price': '10353.50000000', 'volume': 8655.51078685},\n",
       " {'market': 'Livecoin', 'price': '10431.00000000', 'volume': 1116.84673659},\n",
       " {'market': 'Poloniex', 'price': '10345.11199999', 'volume': 4022.71786738},\n",
       " {'market': 'wexnz', 'price': '10327.71500000', 'volume': 1211.33466},\n",
       " {'market': 'YoBit', 'price': '10716.99900000', 'volume': 134.40119934}]"
      ]
     },
     "execution_count": 35,
     "metadata": {},
     "output_type": "execute_result"
    }
   ],
   "source": [
    "data=pd.DataFrame(abc)['ticker']['markets']\n",
    "data\n"
   ]
  },
  {
   "cell_type": "code",
   "execution_count": 37,
   "metadata": {},
   "outputs": [
    {
     "data": {
      "text/html": [
       "<div>\n",
       "<style>\n",
       "    .dataframe thead tr:only-child th {\n",
       "        text-align: right;\n",
       "    }\n",
       "\n",
       "    .dataframe thead th {\n",
       "        text-align: left;\n",
       "    }\n",
       "\n",
       "    .dataframe tbody tr th {\n",
       "        vertical-align: top;\n",
       "    }\n",
       "</style>\n",
       "<table border=\"1\" class=\"dataframe\">\n",
       "  <thead>\n",
       "    <tr style=\"text-align: right;\">\n",
       "      <th></th>\n",
       "      <th>market</th>\n",
       "      <th>price</th>\n",
       "      <th>volume</th>\n",
       "    </tr>\n",
       "  </thead>\n",
       "  <tbody>\n",
       "    <tr>\n",
       "      <th>0</th>\n",
       "      <td>BitFinex</td>\n",
       "      <td>10355.00000000</td>\n",
       "      <td>44796.095444</td>\n",
       "    </tr>\n",
       "    <tr>\n",
       "      <th>1</th>\n",
       "      <td>Bitstamp</td>\n",
       "      <td>10358.26000000</td>\n",
       "      <td>16086.776447</td>\n",
       "    </tr>\n",
       "    <tr>\n",
       "      <th>2</th>\n",
       "      <td>Bittrex</td>\n",
       "      <td>10389.99999989</td>\n",
       "      <td>3895.756544</td>\n",
       "    </tr>\n",
       "    <tr>\n",
       "      <th>3</th>\n",
       "      <td>C-Cex</td>\n",
       "      <td>10960.00000000</td>\n",
       "      <td>1.938760</td>\n",
       "    </tr>\n",
       "    <tr>\n",
       "      <th>4</th>\n",
       "      <td>Cex.io</td>\n",
       "      <td>10584.90000000</td>\n",
       "      <td>1769.918722</td>\n",
       "    </tr>\n",
       "    <tr>\n",
       "      <th>5</th>\n",
       "      <td>Exmo</td>\n",
       "      <td>10600.00000000</td>\n",
       "      <td>1223.629137</td>\n",
       "    </tr>\n",
       "    <tr>\n",
       "      <th>6</th>\n",
       "      <td>Hitbtc</td>\n",
       "      <td>10422.46000000</td>\n",
       "      <td>5505.360000</td>\n",
       "    </tr>\n",
       "    <tr>\n",
       "      <th>7</th>\n",
       "      <td>Kraken</td>\n",
       "      <td>10353.50000000</td>\n",
       "      <td>8655.510787</td>\n",
       "    </tr>\n",
       "    <tr>\n",
       "      <th>8</th>\n",
       "      <td>Livecoin</td>\n",
       "      <td>10431.00000000</td>\n",
       "      <td>1116.846737</td>\n",
       "    </tr>\n",
       "    <tr>\n",
       "      <th>9</th>\n",
       "      <td>Poloniex</td>\n",
       "      <td>10345.11199999</td>\n",
       "      <td>4022.717867</td>\n",
       "    </tr>\n",
       "    <tr>\n",
       "      <th>10</th>\n",
       "      <td>wexnz</td>\n",
       "      <td>10327.71500000</td>\n",
       "      <td>1211.334660</td>\n",
       "    </tr>\n",
       "    <tr>\n",
       "      <th>11</th>\n",
       "      <td>YoBit</td>\n",
       "      <td>10716.99900000</td>\n",
       "      <td>134.401199</td>\n",
       "    </tr>\n",
       "  </tbody>\n",
       "</table>\n",
       "</div>"
      ],
      "text/plain": [
       "      market           price        volume\n",
       "0   BitFinex  10355.00000000  44796.095444\n",
       "1   Bitstamp  10358.26000000  16086.776447\n",
       "2    Bittrex  10389.99999989   3895.756544\n",
       "3      C-Cex  10960.00000000      1.938760\n",
       "4     Cex.io  10584.90000000   1769.918722\n",
       "5       Exmo  10600.00000000   1223.629137\n",
       "6     Hitbtc  10422.46000000   5505.360000\n",
       "7     Kraken  10353.50000000   8655.510787\n",
       "8   Livecoin  10431.00000000   1116.846737\n",
       "9   Poloniex  10345.11199999   4022.717867\n",
       "10     wexnz  10327.71500000   1211.334660\n",
       "11     YoBit  10716.99900000    134.401199"
      ]
     },
     "execution_count": 37,
     "metadata": {},
     "output_type": "execute_result"
    }
   ],
   "source": [
    "pdata=pd.DataFrame(data)\n",
    "pdata\n",
    "\n",
    "    "
   ]
  },
  {
   "cell_type": "code",
   "execution_count": 45,
   "metadata": {},
   "outputs": [],
   "source": [
    "exchanges=pdata['market'].values\n",
    "prices=pdata['price'].values\n",
    "volumes=pdata['volume'].values\n"
   ]
  },
  {
   "cell_type": "code",
   "execution_count": 46,
   "metadata": {},
   "outputs": [
    {
     "name": "stdout",
     "output_type": "stream",
     "text": [
      "['BitFinex' 'Bitstamp' 'Bittrex' 'C-Cex' 'Cex.io' 'Exmo' 'Hitbtc' 'Kraken'\n",
      " 'Livecoin' 'Poloniex' 'wexnz' 'YoBit']\n",
      "['10355.00000000' '10358.26000000' '10389.99999989' '10960.00000000'\n",
      " '10584.90000000' '10600.00000000' '10422.46000000' '10353.50000000'\n",
      " '10431.00000000' '10345.11199999' '10327.71500000' '10716.99900000']\n",
      "[  4.47960954e+04   1.60867764e+04   3.89575654e+03   1.93875954e+00\n",
      "   1.76991872e+03   1.22362914e+03   5.50536000e+03   8.65551079e+03\n",
      "   1.11684674e+03   4.02271787e+03   1.21133466e+03   1.34401199e+02]\n"
     ]
    }
   ],
   "source": [
    "\n",
    "\n",
    "print(exchanges)\n",
    "print(prices)\n",
    "print(volumes)\n",
    "        "
   ]
  },
  {
   "cell_type": "code",
   "execution_count": 47,
   "metadata": {
    "collapsed": true
   },
   "outputs": [],
   "source": [
    "import matplotlib.pyplot as plt"
   ]
  },
  {
   "cell_type": "code",
   "execution_count": 132,
   "metadata": {},
   "outputs": [
    {
     "data": {
      "image/png": "[encoded data removed]",
      "text/plain": [
       "<matplotlib.figure.Figure at 0x1cab2110f98>"
      ]
     },
     "metadata": {},
     "output_type": "display_data"
    }
   ],
   "source": [
    "plt.figure(figsize=(20,10))\n",
    "plt.scatter(prices,volumes)\n",
    "plt.xlabel(\"Prices\", fontsize=30)\n",
    "plt.ylabel(\"Volumes\", fontsize=30)\n",
    "plt.title(\"Bit VS Dollar\", fontsize=36)\n",
    "for exchange, x,y in zip(exchanges, prices, volumes):\n",
    " plt.annotate(exchange,\n",
    " xy=(x, y), # put the label with its point\n",
    " xytext=(-5, 5), # but slightly offset\n",
    " textcoords='offset points', fontsize=12)\n",
    "\n",
    "plt.show()"
   ]
  },
  {
   "cell_type": "code",
   "execution_count": 57,
   "metadata": {},
   "outputs": [
    {
     "data": {
      "text/plain": [
       "{'BitFinex': [3.2597656,\n",
       "  35.0,\n",
       "  605.0,\n",
       "  229.90039,\n",
       "  245.0,\n",
       "  67.459961,\n",
       "  -1.5,\n",
       "  76.0,\n",
       "  -9.8876953,\n",
       "  -27.285156,\n",
       "  361.99902],\n",
       " 'Bitstamp': [-3.2597656,\n",
       "  31.740234,\n",
       "  601.74023,\n",
       "  226.64063,\n",
       "  241.74023,\n",
       "  64.200195,\n",
       "  -4.7597656,\n",
       "  72.740234,\n",
       "  -13.147461,\n",
       "  -30.544922,\n",
       "  358.73926],\n",
       " 'Bittrex': [-35.0,\n",
       "  -31.740234,\n",
       "  570.0,\n",
       "  194.90039,\n",
       "  210.0,\n",
       "  32.459961,\n",
       "  -36.5,\n",
       "  41.0,\n",
       "  -44.887695,\n",
       "  -62.285156,\n",
       "  326.99902],\n",
       " 'C-Cex': [-605.0,\n",
       "  -601.74023,\n",
       "  -570.0,\n",
       "  -375.09961,\n",
       "  -360.0,\n",
       "  -537.54004,\n",
       "  -606.5,\n",
       "  -529.0,\n",
       "  -614.8877,\n",
       "  -632.28516,\n",
       "  -243.00098],\n",
       " 'Cex.io': [-229.90039,\n",
       "  -226.64063,\n",
       "  -194.90039,\n",
       "  375.09961,\n",
       "  15.099609,\n",
       "  -162.44043,\n",
       "  -231.40039,\n",
       "  -153.90039,\n",
       "  -239.78809,\n",
       "  -257.18555,\n",
       "  132.09863],\n",
       " 'Exmo': [-245.0,\n",
       "  -241.74023,\n",
       "  -210.0,\n",
       "  360.0,\n",
       "  -15.099609,\n",
       "  -177.54004,\n",
       "  -246.5,\n",
       "  -169.0,\n",
       "  -254.8877,\n",
       "  -272.28516,\n",
       "  116.99902],\n",
       " 'Hitbtc': [-67.459961,\n",
       "  -64.200195,\n",
       "  -32.459961,\n",
       "  537.54004,\n",
       "  162.44043,\n",
       "  177.54004,\n",
       "  -68.959961,\n",
       "  8.5400391,\n",
       "  -77.347656,\n",
       "  -94.745117,\n",
       "  294.53906],\n",
       " 'Kraken': [1.5,\n",
       "  4.7597656,\n",
       "  36.5,\n",
       "  606.5,\n",
       "  231.40039,\n",
       "  246.5,\n",
       "  68.959961,\n",
       "  77.5,\n",
       "  -8.3876953,\n",
       "  -25.785156,\n",
       "  363.49902],\n",
       " 'Livecoin': [-76.0,\n",
       "  -72.740234,\n",
       "  -41.0,\n",
       "  529.0,\n",
       "  153.90039,\n",
       "  169.0,\n",
       "  -8.5400391,\n",
       "  -77.5,\n",
       "  -85.887695,\n",
       "  -103.28516,\n",
       "  285.99902],\n",
       " 'Poloniex': [9.8876953,\n",
       "  13.147461,\n",
       "  44.887695,\n",
       "  614.8877,\n",
       "  239.78809,\n",
       "  254.8877,\n",
       "  77.347656,\n",
       "  8.3876953,\n",
       "  85.887695,\n",
       "  -17.397461,\n",
       "  371.88672],\n",
       " 'YoBit': [-361.99902,\n",
       "  -358.73926,\n",
       "  -326.99902,\n",
       "  243.00098,\n",
       "  -132.09863,\n",
       "  -116.99902,\n",
       "  -294.53906,\n",
       "  -363.49902,\n",
       "  -285.99902,\n",
       "  -371.88672,\n",
       "  -389.28418],\n",
       " 'wexnz': [27.285156,\n",
       "  30.544922,\n",
       "  62.285156,\n",
       "  632.28516,\n",
       "  257.18555,\n",
       "  272.28516,\n",
       "  94.745117,\n",
       "  25.785156,\n",
       "  103.28516,\n",
       "  17.397461,\n",
       "  389.28418]}"
      ]
     },
     "execution_count": 57,
     "metadata": {},
     "output_type": "execute_result"
    }
   ],
   "source": [
    "import numpy as np\n",
    "dprices={}\n",
    "for id,stock in enumerate(exchanges):\n",
    "    ndlist=[]\n",
    "    for pid, p in enumerate(prices):        \n",
    "        if pid!=id:\n",
    "            ndlist.append({np.float32(p)-np.float32(prices[id])})\n",
    "        dprices[stock]=ndlist\n",
    "dprices"
   ]
  },
  {
   "cell_type": "code",
   "execution_count": 141,
   "metadata": {},
   "outputs": [
    {
     "name": "stdout",
     "output_type": "stream",
     "text": [
      "BitFinex == 605.0\n",
      "Bitstamp == 601.74\n",
      "wexnz == 632.285\n",
      "Livecoin == 529.0\n",
      "C-Cex == -243.001\n",
      "Hitbtc == 537.54\n",
      "YoBit == 243.001\n",
      "Bittrex == 570.0\n",
      "Cex.io == 375.1\n",
      "Kraken == 606.5\n",
      "Exmo == 360.0\n",
      "Poloniex == 614.888\n"
     ]
    },
    {
     "data": {
      "text/plain": [
       "[{'SSS': 'C-Cex', 'exc': 'BitFinex', 'max': 605.0},\n",
       " {'SSS': 'C-Cex', 'exc': 'Bitstamp', 'max': 601.74023},\n",
       " {'SSS': 'C-Cex', 'exc': 'wexnz', 'max': 632.28516},\n",
       " {'SSS': 'C-Cex', 'exc': 'Livecoin', 'max': 529.0},\n",
       " {'SSS': 'C-Cex', 'exc': 'C-Cex', 'max': -243.00098},\n",
       " {'SSS': 'C-Cex', 'exc': 'Hitbtc', 'max': 537.54004},\n",
       " {'SSS': 'C-Cex', 'exc': 'YoBit', 'max': 243.00098},\n",
       " {'SSS': 'C-Cex', 'exc': 'Bittrex', 'max': 570.0},\n",
       " {'SSS': 'C-Cex', 'exc': 'Cex.io', 'max': 375.09961},\n",
       " {'SSS': 'C-Cex', 'exc': 'Kraken', 'max': 606.5},\n",
       " {'SSS': 'C-Cex', 'exc': 'Exmo', 'max': 360.0},\n",
       " {'SSS': 'C-Cex', 'exc': 'Poloniex', 'max': 614.8877}]"
      ]
     },
     "execution_count": 141,
     "metadata": {},
     "output_type": "execute_result"
    }
   ],
   "source": [
    "x=[]\n",
    "\n",
    "for i in dprices:\n",
    "    print(i,\"==\",np.max(dprices[i]))\n",
    "    x.append({'exc':i,'max':np.max(dprices[i]),'SSS':exchanges[np.argmax(prices)]})\n",
    "\n",
    "x "
   ]
  },
  {
   "cell_type": "code",
   "execution_count": 161,
   "metadata": {},
   "outputs": [
    {
     "data": {
      "text/html": [
       "<div>\n",
       "<style>\n",
       "    .dataframe thead tr:only-child th {\n",
       "        text-align: right;\n",
       "    }\n",
       "\n",
       "    .dataframe thead th {\n",
       "        text-align: left;\n",
       "    }\n",
       "\n",
       "    .dataframe tbody tr th {\n",
       "        vertical-align: top;\n",
       "    }\n",
       "</style>\n",
       "<table border=\"1\" class=\"dataframe\">\n",
       "  <thead>\n",
       "    <tr style=\"text-align: right;\">\n",
       "      <th></th>\n",
       "      <th>SSS</th>\n",
       "      <th>exc</th>\n",
       "      <th>max</th>\n",
       "    </tr>\n",
       "  </thead>\n",
       "  <tbody>\n",
       "    <tr>\n",
       "      <th>0</th>\n",
       "      <td>C-Cex</td>\n",
       "      <td>BitFinex</td>\n",
       "      <td>605.000000</td>\n",
       "    </tr>\n",
       "    <tr>\n",
       "      <th>1</th>\n",
       "      <td>C-Cex</td>\n",
       "      <td>Bitstamp</td>\n",
       "      <td>601.740234</td>\n",
       "    </tr>\n",
       "    <tr>\n",
       "      <th>2</th>\n",
       "      <td>C-Cex</td>\n",
       "      <td>wexnz</td>\n",
       "      <td>632.285156</td>\n",
       "    </tr>\n",
       "    <tr>\n",
       "      <th>3</th>\n",
       "      <td>C-Cex</td>\n",
       "      <td>Livecoin</td>\n",
       "      <td>529.000000</td>\n",
       "    </tr>\n",
       "    <tr>\n",
       "      <th>4</th>\n",
       "      <td>C-Cex</td>\n",
       "      <td>C-Cex</td>\n",
       "      <td>-243.000977</td>\n",
       "    </tr>\n",
       "    <tr>\n",
       "      <th>5</th>\n",
       "      <td>C-Cex</td>\n",
       "      <td>Hitbtc</td>\n",
       "      <td>537.540039</td>\n",
       "    </tr>\n",
       "    <tr>\n",
       "      <th>6</th>\n",
       "      <td>C-Cex</td>\n",
       "      <td>YoBit</td>\n",
       "      <td>243.000977</td>\n",
       "    </tr>\n",
       "    <tr>\n",
       "      <th>7</th>\n",
       "      <td>C-Cex</td>\n",
       "      <td>Bittrex</td>\n",
       "      <td>570.000000</td>\n",
       "    </tr>\n",
       "    <tr>\n",
       "      <th>8</th>\n",
       "      <td>C-Cex</td>\n",
       "      <td>Cex.io</td>\n",
       "      <td>375.099609</td>\n",
       "    </tr>\n",
       "    <tr>\n",
       "      <th>9</th>\n",
       "      <td>C-Cex</td>\n",
       "      <td>Kraken</td>\n",
       "      <td>606.500000</td>\n",
       "    </tr>\n",
       "    <tr>\n",
       "      <th>10</th>\n",
       "      <td>C-Cex</td>\n",
       "      <td>Exmo</td>\n",
       "      <td>360.000000</td>\n",
       "    </tr>\n",
       "    <tr>\n",
       "      <th>11</th>\n",
       "      <td>C-Cex</td>\n",
       "      <td>Poloniex</td>\n",
       "      <td>614.887695</td>\n",
       "    </tr>\n",
       "  </tbody>\n",
       "</table>\n",
       "</div>"
      ],
      "text/plain": [
       "      SSS       exc         max\n",
       "0   C-Cex  BitFinex  605.000000\n",
       "1   C-Cex  Bitstamp  601.740234\n",
       "2   C-Cex     wexnz  632.285156\n",
       "3   C-Cex  Livecoin  529.000000\n",
       "4   C-Cex     C-Cex -243.000977\n",
       "5   C-Cex    Hitbtc  537.540039\n",
       "6   C-Cex     YoBit  243.000977\n",
       "7   C-Cex   Bittrex  570.000000\n",
       "8   C-Cex    Cex.io  375.099609\n",
       "9   C-Cex    Kraken  606.500000\n",
       "10  C-Cex      Exmo  360.000000\n",
       "11  C-Cex  Poloniex  614.887695"
      ]
     },
     "execution_count": 161,
     "metadata": {},
     "output_type": "execute_result"
    }
   ],
   "source": [
    "summery=pd.DataFrame(x)\n",
    "summery"
   ]
  },
  {
   "cell_type": "code",
   "execution_count": null,
   "metadata": {
    "collapsed": true
   },
   "outputs": [],
   "source": []
  }
 ],
 "metadata": {
  "kernelspec": {
   "display_name": "Python 3",
   "language": "python",
   "name": "python3"
  },
  "language_info": {
   "codemirror_mode": {
    "name": "ipython",
    "version": 3
   },
   "file_extension": ".py",
   "mimetype": "text/x-python",
   "name": "python",
   "nbconvert_exporter": "python",
   "pygments_lexer": "ipython3",
   "version": "3.5.4"
  }
 },
 "nbformat": 4,
 "nbformat_minor": 2
}
