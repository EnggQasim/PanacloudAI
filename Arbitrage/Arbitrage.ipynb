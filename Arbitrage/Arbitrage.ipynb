{
 "cells": [
  {
   "cell_type": "code",
   "execution_count": 1,
   "metadata": {
    "collapsed": true
   },
   "outputs": [],
   "source": [
    "import requests\n",
    "import matplotlib.pyplot as plt\n",
    "import datetime\n",
    "import pandas as pd"
   ]
  },
  {
   "cell_type": "code",
   "execution_count": 2,
   "metadata": {
    "collapsed": true
   },
   "outputs": [],
   "source": [
    "def price():\n",
    "    url = 'https://api.cryptonator.com/api/full/btc-usd?fa821dba_ipp_uid2=MGOUqWes6Fj05RZn%2FazMwgQ8DRdoLwDFsCHuePQ%3D%3D&fa821dba_ipp_uid1=1519650610134&fa821dba_ipp_key=1519650610135%2FILcIJQ%2FMARVlZGdh2ad%2B5g%3D%3D'\n",
    "    \n",
    "    page = requests.get(url)\n",
    "    data = page.json()\n",
    "    print(url)\n",
    "    return data"
   ]
  },
  {
   "cell_type": "code",
   "execution_count": 3,
   "metadata": {},
   "outputs": [
    {
     "name": "stdout",
     "output_type": "stream",
     "text": [
      "https://api.cryptonator.com/api/full/btc-usd?fa821dba_ipp_uid2=MGOUqWes6Fj05RZn%2FazMwgQ8DRdoLwDFsCHuePQ%3D%3D&fa821dba_ipp_uid1=1519650610134&fa821dba_ipp_key=1519650610135%2FILcIJQ%2FMARVlZGdh2ad%2B5g%3D%3D\n"
     ]
    },
    {
     "data": {
      "text/plain": [
       "{'error': '',\n",
       " 'success': True,\n",
       " 'ticker': {'base': 'BTC',\n",
       "  'change': '69.55350394',\n",
       "  'markets': [{'market': 'BitFinex',\n",
       "    'price': '10756.00000000',\n",
       "    'volume': 40061.89788657},\n",
       "   {'market': 'Bitstamp', 'price': '10774.60000000', 'volume': 11234.42457965},\n",
       "   {'market': 'Bittrex', 'price': '10736.04000008', 'volume': 3671.53447862},\n",
       "   {'market': 'C-Cex', 'price': '11087.98999899', 'volume': 2.36278672},\n",
       "   {'market': 'Cex.io', 'price': '10855.20000000', 'volume': 1280.74110606},\n",
       "   {'market': 'Exmo', 'price': '10950.21000100', 'volume': 1228.24076807},\n",
       "   {'market': 'Hitbtc', 'price': '10844.03000000', 'volume': 5086.01},\n",
       "   {'market': 'Kraken', 'price': '10758.10000000', 'volume': 6993.41643326},\n",
       "   {'market': 'Livecoin', 'price': '10802.74020000', 'volume': 1120.59800641},\n",
       "   {'market': 'Poloniex', 'price': '10778.07300829', 'volume': 3474.55922094},\n",
       "   {'market': 'wexnz', 'price': '10700.88500000', 'volume': 1094.75688},\n",
       "   {'market': 'YoBit', 'price': '11298.90000000', 'volume': 126.08356761}],\n",
       "  'price': '10770.61551373',\n",
       "  'target': 'USD',\n",
       "  'volume': '75374.62571391'},\n",
       " 'timestamp': 1519768562}"
      ]
     },
     "execution_count": 3,
     "metadata": {},
     "output_type": "execute_result"
    }
   ],
   "source": [
    "abc=price()\n",
    "abc"
   ]
  },
  {
   "cell_type": "code",
   "execution_count": 4,
   "metadata": {},
   "outputs": [
    {
     "data": {
      "text/plain": [
       "[{'market': 'BitFinex', 'price': '10756.00000000', 'volume': 40061.89788657},\n",
       " {'market': 'Bitstamp', 'price': '10774.60000000', 'volume': 11234.42457965},\n",
       " {'market': 'Bittrex', 'price': '10736.04000008', 'volume': 3671.53447862},\n",
       " {'market': 'C-Cex', 'price': '11087.98999899', 'volume': 2.36278672},\n",
       " {'market': 'Cex.io', 'price': '10855.20000000', 'volume': 1280.74110606},\n",
       " {'market': 'Exmo', 'price': '10950.21000100', 'volume': 1228.24076807},\n",
       " {'market': 'Hitbtc', 'price': '10844.03000000', 'volume': 5086.01},\n",
       " {'market': 'Kraken', 'price': '10758.10000000', 'volume': 6993.41643326},\n",
       " {'market': 'Livecoin', 'price': '10802.74020000', 'volume': 1120.59800641},\n",
       " {'market': 'Poloniex', 'price': '10778.07300829', 'volume': 3474.55922094},\n",
       " {'market': 'wexnz', 'price': '10700.88500000', 'volume': 1094.75688},\n",
       " {'market': 'YoBit', 'price': '11298.90000000', 'volume': 126.08356761}]"
      ]
     },
     "execution_count": 4,
     "metadata": {},
     "output_type": "execute_result"
    }
   ],
   "source": [
    "data=pd.DataFrame(abc)['ticker']['markets']\n",
    "data\n"
   ]
  },
  {
   "cell_type": "code",
   "execution_count": 5,
   "metadata": {},
   "outputs": [
    {
     "data": {
      "text/html": [
       "<div>\n",
       "<style>\n",
       "    .dataframe thead tr:only-child th {\n",
       "        text-align: right;\n",
       "    }\n",
       "\n",
       "    .dataframe thead th {\n",
       "        text-align: left;\n",
       "    }\n",
       "\n",
       "    .dataframe tbody tr th {\n",
       "        vertical-align: top;\n",
       "    }\n",
       "</style>\n",
       "<table border=\"1\" class=\"dataframe\">\n",
       "  <thead>\n",
       "    <tr style=\"text-align: right;\">\n",
       "      <th></th>\n",
       "      <th>market</th>\n",
       "      <th>price</th>\n",
       "      <th>volume</th>\n",
       "    </tr>\n",
       "  </thead>\n",
       "  <tbody>\n",
       "    <tr>\n",
       "      <th>0</th>\n",
       "      <td>BitFinex</td>\n",
       "      <td>10756.00000000</td>\n",
       "      <td>40061.897887</td>\n",
       "    </tr>\n",
       "    <tr>\n",
       "      <th>1</th>\n",
       "      <td>Bitstamp</td>\n",
       "      <td>10774.60000000</td>\n",
       "      <td>11234.424580</td>\n",
       "    </tr>\n",
       "    <tr>\n",
       "      <th>2</th>\n",
       "      <td>Bittrex</td>\n",
       "      <td>10736.04000008</td>\n",
       "      <td>3671.534479</td>\n",
       "    </tr>\n",
       "    <tr>\n",
       "      <th>3</th>\n",
       "      <td>C-Cex</td>\n",
       "      <td>11087.98999899</td>\n",
       "      <td>2.362787</td>\n",
       "    </tr>\n",
       "    <tr>\n",
       "      <th>4</th>\n",
       "      <td>Cex.io</td>\n",
       "      <td>10855.20000000</td>\n",
       "      <td>1280.741106</td>\n",
       "    </tr>\n",
       "    <tr>\n",
       "      <th>5</th>\n",
       "      <td>Exmo</td>\n",
       "      <td>10950.21000100</td>\n",
       "      <td>1228.240768</td>\n",
       "    </tr>\n",
       "    <tr>\n",
       "      <th>6</th>\n",
       "      <td>Hitbtc</td>\n",
       "      <td>10844.03000000</td>\n",
       "      <td>5086.010000</td>\n",
       "    </tr>\n",
       "    <tr>\n",
       "      <th>7</th>\n",
       "      <td>Kraken</td>\n",
       "      <td>10758.10000000</td>\n",
       "      <td>6993.416433</td>\n",
       "    </tr>\n",
       "    <tr>\n",
       "      <th>8</th>\n",
       "      <td>Livecoin</td>\n",
       "      <td>10802.74020000</td>\n",
       "      <td>1120.598006</td>\n",
       "    </tr>\n",
       "    <tr>\n",
       "      <th>9</th>\n",
       "      <td>Poloniex</td>\n",
       "      <td>10778.07300829</td>\n",
       "      <td>3474.559221</td>\n",
       "    </tr>\n",
       "    <tr>\n",
       "      <th>10</th>\n",
       "      <td>wexnz</td>\n",
       "      <td>10700.88500000</td>\n",
       "      <td>1094.756880</td>\n",
       "    </tr>\n",
       "    <tr>\n",
       "      <th>11</th>\n",
       "      <td>YoBit</td>\n",
       "      <td>11298.90000000</td>\n",
       "      <td>126.083568</td>\n",
       "    </tr>\n",
       "  </tbody>\n",
       "</table>\n",
       "</div>"
      ],
      "text/plain": [
       "      market           price        volume\n",
       "0   BitFinex  10756.00000000  40061.897887\n",
       "1   Bitstamp  10774.60000000  11234.424580\n",
       "2    Bittrex  10736.04000008   3671.534479\n",
       "3      C-Cex  11087.98999899      2.362787\n",
       "4     Cex.io  10855.20000000   1280.741106\n",
       "5       Exmo  10950.21000100   1228.240768\n",
       "6     Hitbtc  10844.03000000   5086.010000\n",
       "7     Kraken  10758.10000000   6993.416433\n",
       "8   Livecoin  10802.74020000   1120.598006\n",
       "9   Poloniex  10778.07300829   3474.559221\n",
       "10     wexnz  10700.88500000   1094.756880\n",
       "11     YoBit  11298.90000000    126.083568"
      ]
     },
     "execution_count": 5,
     "metadata": {},
     "output_type": "execute_result"
    }
   ],
   "source": [
    "pdata=pd.DataFrame(data)\n",
    "pdata\n",
    "\n",
    "    "
   ]
  },
  {
   "cell_type": "code",
   "execution_count": 6,
   "metadata": {},
   "outputs": [],
   "source": [
    "exchanges=pdata['market'].values\n",
    "prices=pdata['price'].values\n",
    "volumes=pdata['volume'].values\n"
   ]
  },
  {
   "cell_type": "code",
   "execution_count": 7,
   "metadata": {},
   "outputs": [
    {
     "name": "stdout",
     "output_type": "stream",
     "text": [
      "['BitFinex' 'Bitstamp' 'Bittrex' 'C-Cex' 'Cex.io' 'Exmo' 'Hitbtc' 'Kraken'\n",
      " 'Livecoin' 'Poloniex' 'wexnz' 'YoBit']\n",
      "['10756.00000000' '10774.60000000' '10736.04000008' '11087.98999899'\n",
      " '10855.20000000' '10950.21000100' '10844.03000000' '10758.10000000'\n",
      " '10802.74020000' '10778.07300829' '10700.88500000' '11298.90000000']\n",
      "[  4.00618979e+04   1.12344246e+04   3.67153448e+03   2.36278672e+00\n",
      "   1.28074111e+03   1.22824077e+03   5.08601000e+03   6.99341643e+03\n",
      "   1.12059801e+03   3.47455922e+03   1.09475688e+03   1.26083568e+02]\n"
     ]
    }
   ],
   "source": [
    "\n",
    "\n",
    "print(exchanges)\n",
    "print(prices)\n",
    "print(volumes)\n",
    "        "
   ]
  },
  {
   "cell_type": "code",
   "execution_count": 8,
   "metadata": {
    "collapsed": true
   },
   "outputs": [],
   "source": [
    "import matplotlib.pyplot as plt"
   ]
  },
  {
   "cell_type": "code",
   "execution_count": 9,
   "metadata": {},
   "outputs": [
    {
     "data": {
      "image/png": "[encoded data removed]",
      "text/plain": [
       "<matplotlib.figure.Figure at 0x20ba1272d30>"
      ]
     },
     "metadata": {},
     "output_type": "display_data"
    }
   ],
   "source": [
    "plt.figure(figsize=(20,10))\n",
    "plt.scatter(prices,volumes)\n",
    "plt.xlabel(\"Prices\", fontsize=30)\n",
    "plt.ylabel(\"Volumes\", fontsize=30)\n",
    "plt.title(\"Bit VS Dollar\", fontsize=36)\n",
    "for exchange, x,y in zip(exchanges, prices, volumes):\n",
    " plt.annotate(exchange,\n",
    " xy=(x, y), # put the label with its point\n",
    " xytext=(-5, 5), # but slightly offset\n",
    " textcoords='offset points', fontsize=12)\n",
    "\n",
    "plt.show()"
   ]
  },
  {
   "cell_type": "code",
   "execution_count": 10,
   "metadata": {},
   "outputs": [
    {
     "data": {
      "text/plain": [
       "{'BitFinex': [18.599609,\n",
       "  -19.959961,\n",
       "  331.99023,\n",
       "  99.200195,\n",
       "  194.20996,\n",
       "  88.030273,\n",
       "  2.0996094,\n",
       "  46.740234,\n",
       "  22.073242,\n",
       "  -55.115234,\n",
       "  542.90039],\n",
       " 'Bitstamp': [-18.599609,\n",
       "  -38.55957,\n",
       "  313.39063,\n",
       "  80.600586,\n",
       "  175.61035,\n",
       "  69.430664,\n",
       "  -16.5,\n",
       "  28.140625,\n",
       "  3.4736328,\n",
       "  -73.714844,\n",
       "  524.30078],\n",
       " 'Bittrex': [19.959961,\n",
       "  38.55957,\n",
       "  351.9502,\n",
       "  119.16016,\n",
       "  214.16992,\n",
       "  107.99023,\n",
       "  22.05957,\n",
       "  66.700195,\n",
       "  42.033203,\n",
       "  -35.155273,\n",
       "  562.86035],\n",
       " 'C-Cex': [-331.99023,\n",
       "  -313.39063,\n",
       "  -351.9502,\n",
       "  -232.79004,\n",
       "  -137.78027,\n",
       "  -243.95996,\n",
       "  -329.89063,\n",
       "  -285.25,\n",
       "  -309.91699,\n",
       "  -387.10547,\n",
       "  210.91016],\n",
       " 'Cex.io': [-99.200195,\n",
       "  -80.600586,\n",
       "  -119.16016,\n",
       "  232.79004,\n",
       "  95.009766,\n",
       "  -11.169922,\n",
       "  -97.100586,\n",
       "  -52.459961,\n",
       "  -77.126953,\n",
       "  -154.31543,\n",
       "  443.7002],\n",
       " 'Exmo': [-194.20996,\n",
       "  -175.61035,\n",
       "  -214.16992,\n",
       "  137.78027,\n",
       "  -95.009766,\n",
       "  -106.17969,\n",
       "  -192.11035,\n",
       "  -147.46973,\n",
       "  -172.13672,\n",
       "  -249.3252,\n",
       "  348.69043],\n",
       " 'Hitbtc': [-88.030273,\n",
       "  -69.430664,\n",
       "  -107.99023,\n",
       "  243.95996,\n",
       "  11.169922,\n",
       "  106.17969,\n",
       "  -85.930664,\n",
       "  -41.290039,\n",
       "  -65.957031,\n",
       "  -143.14551,\n",
       "  454.87012],\n",
       " 'Kraken': [-2.0996094,\n",
       "  16.5,\n",
       "  -22.05957,\n",
       "  329.89063,\n",
       "  97.100586,\n",
       "  192.11035,\n",
       "  85.930664,\n",
       "  44.640625,\n",
       "  19.973633,\n",
       "  -57.214844,\n",
       "  540.80078],\n",
       " 'Livecoin': [-46.740234,\n",
       "  -28.140625,\n",
       "  -66.700195,\n",
       "  285.25,\n",
       "  52.459961,\n",
       "  147.46973,\n",
       "  41.290039,\n",
       "  -44.640625,\n",
       "  -24.666992,\n",
       "  -101.85547,\n",
       "  496.16016],\n",
       " 'Poloniex': [-22.073242,\n",
       "  -3.4736328,\n",
       "  -42.033203,\n",
       "  309.91699,\n",
       "  77.126953,\n",
       "  172.13672,\n",
       "  65.957031,\n",
       "  -19.973633,\n",
       "  24.666992,\n",
       "  -77.188477,\n",
       "  520.82715],\n",
       " 'YoBit': [-542.90039,\n",
       "  -524.30078,\n",
       "  -562.86035,\n",
       "  -210.91016,\n",
       "  -443.7002,\n",
       "  -348.69043,\n",
       "  -454.87012,\n",
       "  -540.80078,\n",
       "  -496.16016,\n",
       "  -520.82715,\n",
       "  -598.01563],\n",
       " 'wexnz': [55.115234,\n",
       "  73.714844,\n",
       "  35.155273,\n",
       "  387.10547,\n",
       "  154.31543,\n",
       "  249.3252,\n",
       "  143.14551,\n",
       "  57.214844,\n",
       "  101.85547,\n",
       "  77.188477,\n",
       "  598.01563]}"
      ]
     },
     "execution_count": 10,
     "metadata": {},
     "output_type": "execute_result"
    }
   ],
   "source": [
    "import numpy as np\n",
    "dprices={}\n",
    "for id,stock in enumerate(exchanges):\n",
    "    ndlist=[]\n",
    "    for pid, p in enumerate(prices):        \n",
    "        if pid!=id:\n",
    "            ndlist.append(np.float32(p)-np.float32(prices[id]))\n",
    "        dprices[stock]=ndlist\n",
    "dprices"
   ]
  },
  {
   "cell_type": "code",
   "execution_count": 11,
   "metadata": {},
   "outputs": [
    {
     "name": "stdout",
     "output_type": "stream",
     "text": [
      "C-Cex == 210.91\n",
      "Kraken == 540.801\n",
      "Bitstamp == 524.301\n",
      "Livecoin == 496.16\n",
      "Poloniex == 520.827\n",
      "wexnz == 598.016\n",
      "Hitbtc == 454.87\n",
      "BitFinex == 542.9\n",
      "Exmo == 348.69\n",
      "Cex.io == 443.7\n",
      "Bittrex == 562.86\n",
      "YoBit == -210.91\n"
     ]
    },
    {
     "data": {
      "text/plain": [
       "[{'SSS': 'YoBit', 'exc': 'C-Cex', 'max': 210.91016},\n",
       " {'SSS': 'YoBit', 'exc': 'Kraken', 'max': 540.80078},\n",
       " {'SSS': 'YoBit', 'exc': 'Bitstamp', 'max': 524.30078},\n",
       " {'SSS': 'YoBit', 'exc': 'Livecoin', 'max': 496.16016},\n",
       " {'SSS': 'YoBit', 'exc': 'Poloniex', 'max': 520.82715},\n",
       " {'SSS': 'YoBit', 'exc': 'wexnz', 'max': 598.01563},\n",
       " {'SSS': 'YoBit', 'exc': 'Hitbtc', 'max': 454.87012},\n",
       " {'SSS': 'YoBit', 'exc': 'BitFinex', 'max': 542.90039},\n",
       " {'SSS': 'YoBit', 'exc': 'Exmo', 'max': 348.69043},\n",
       " {'SSS': 'YoBit', 'exc': 'Cex.io', 'max': 443.7002},\n",
       " {'SSS': 'YoBit', 'exc': 'Bittrex', 'max': 562.86035},\n",
       " {'SSS': 'YoBit', 'exc': 'YoBit', 'max': -210.91016}]"
      ]
     },
     "execution_count": 11,
     "metadata": {},
     "output_type": "execute_result"
    }
   ],
   "source": [
    "x=[]\n",
    "\n",
    "for i in dprices:\n",
    "    print(i,\"==\",np.max(dprices[i]))\n",
    "    x.append({'exc':i,'max':np.max(dprices[i]),'SSS':exchanges[np.argmax(prices)]})\n",
    "\n",
    "x "
   ]
  },
  {
   "cell_type": "code",
   "execution_count": 12,
   "metadata": {},
   "outputs": [
    {
     "data": {
      "text/html": [
       "<div>\n",
       "<style>\n",
       "    .dataframe thead tr:only-child th {\n",
       "        text-align: right;\n",
       "    }\n",
       "\n",
       "    .dataframe thead th {\n",
       "        text-align: left;\n",
       "    }\n",
       "\n",
       "    .dataframe tbody tr th {\n",
       "        vertical-align: top;\n",
       "    }\n",
       "</style>\n",
       "<table border=\"1\" class=\"dataframe\">\n",
       "  <thead>\n",
       "    <tr style=\"text-align: right;\">\n",
       "      <th></th>\n",
       "      <th>SSS</th>\n",
       "      <th>exc</th>\n",
       "      <th>max</th>\n",
       "    </tr>\n",
       "  </thead>\n",
       "  <tbody>\n",
       "    <tr>\n",
       "      <th>0</th>\n",
       "      <td>YoBit</td>\n",
       "      <td>C-Cex</td>\n",
       "      <td>210.910156</td>\n",
       "    </tr>\n",
       "    <tr>\n",
       "      <th>1</th>\n",
       "      <td>YoBit</td>\n",
       "      <td>Kraken</td>\n",
       "      <td>540.800781</td>\n",
       "    </tr>\n",
       "    <tr>\n",
       "      <th>2</th>\n",
       "      <td>YoBit</td>\n",
       "      <td>Bitstamp</td>\n",
       "      <td>524.300781</td>\n",
       "    </tr>\n",
       "    <tr>\n",
       "      <th>3</th>\n",
       "      <td>YoBit</td>\n",
       "      <td>Livecoin</td>\n",
       "      <td>496.160156</td>\n",
       "    </tr>\n",
       "    <tr>\n",
       "      <th>4</th>\n",
       "      <td>YoBit</td>\n",
       "      <td>Poloniex</td>\n",
       "      <td>520.827148</td>\n",
       "    </tr>\n",
       "    <tr>\n",
       "      <th>5</th>\n",
       "      <td>YoBit</td>\n",
       "      <td>wexnz</td>\n",
       "      <td>598.015625</td>\n",
       "    </tr>\n",
       "    <tr>\n",
       "      <th>6</th>\n",
       "      <td>YoBit</td>\n",
       "      <td>Hitbtc</td>\n",
       "      <td>454.870117</td>\n",
       "    </tr>\n",
       "    <tr>\n",
       "      <th>7</th>\n",
       "      <td>YoBit</td>\n",
       "      <td>BitFinex</td>\n",
       "      <td>542.900391</td>\n",
       "    </tr>\n",
       "    <tr>\n",
       "      <th>8</th>\n",
       "      <td>YoBit</td>\n",
       "      <td>Exmo</td>\n",
       "      <td>348.690430</td>\n",
       "    </tr>\n",
       "    <tr>\n",
       "      <th>9</th>\n",
       "      <td>YoBit</td>\n",
       "      <td>Cex.io</td>\n",
       "      <td>443.700195</td>\n",
       "    </tr>\n",
       "    <tr>\n",
       "      <th>10</th>\n",
       "      <td>YoBit</td>\n",
       "      <td>Bittrex</td>\n",
       "      <td>562.860352</td>\n",
       "    </tr>\n",
       "    <tr>\n",
       "      <th>11</th>\n",
       "      <td>YoBit</td>\n",
       "      <td>YoBit</td>\n",
       "      <td>-210.910156</td>\n",
       "    </tr>\n",
       "  </tbody>\n",
       "</table>\n",
       "</div>"
      ],
      "text/plain": [
       "      SSS       exc         max\n",
       "0   YoBit     C-Cex  210.910156\n",
       "1   YoBit    Kraken  540.800781\n",
       "2   YoBit  Bitstamp  524.300781\n",
       "3   YoBit  Livecoin  496.160156\n",
       "4   YoBit  Poloniex  520.827148\n",
       "5   YoBit     wexnz  598.015625\n",
       "6   YoBit    Hitbtc  454.870117\n",
       "7   YoBit  BitFinex  542.900391\n",
       "8   YoBit      Exmo  348.690430\n",
       "9   YoBit    Cex.io  443.700195\n",
       "10  YoBit   Bittrex  562.860352\n",
       "11  YoBit     YoBit -210.910156"
      ]
     },
     "execution_count": 12,
     "metadata": {},
     "output_type": "execute_result"
    }
   ],
   "source": [
    "summery=pd.DataFrame(x)\n",
    "summery"
   ]
  },
  {
   "cell_type": "code",
   "execution_count": 13,
   "metadata": {},
   "outputs": [
    {
     "data": {
      "image/png": "[encoded data removed]",
      "text/plain": [
       "<matplotlib.figure.Figure at 0x20ba1257f60>"
      ]
     },
     "metadata": {},
     "output_type": "display_data"
    }
   ],
   "source": [
    "#column summery x\n",
    "csx=[x for x in range(len(summery.exc.values))]\n",
    "\n",
    "cxt=summery.exc.values\n",
    "plt.figure(figsize=(20,10))\n",
    "plt.bar(csx,prices, label='Pricess')\n",
    "plt\n",
    "plt.xticks(csx,cxt)\n",
    "plt.xlabel('Exchanges', fontsize='30')\n",
    "plt.ylabel('USD', fontsize='30')\n",
    "plt.title(\"\\nBitCoinEach Exchange VS Price \\n\", fontsize='30')\n",
    "plt.show()"
   ]
  },
  {
   "cell_type": "code",
   "execution_count": 14,
   "metadata": {},
   "outputs": [
    {
     "data": {
      "image/png": "[encoded data removed]",
      "text/plain": [
       "<matplotlib.figure.Figure at 0x20ba178e710>"
      ]
     },
     "metadata": {},
     "output_type": "display_data"
    }
   ],
   "source": [
    "#column summery x\n",
    "csx=[x for x in range(len(summery.exc.values))]\n",
    "csy=summery['max'].values\n",
    "cxt=summery.exc.values\n",
    "plt.figure(figsize=(20,10))\n",
    "plt.bar(csx,csy, label='Exchanges')\n",
    "plt\n",
    "plt.xticks(csx,cxt)\n",
    "plt.xlabel('Exchanges', fontsize='30')\n",
    "plt.ylabel('Profit', fontsize='30')\n",
    "plt.title(\"\\nEach Exchange Max Profit\\n\", fontsize='30')\n",
    "plt.show()"
   ]
  },
  {
   "cell_type": "code",
   "execution_count": 15,
   "metadata": {},
   "outputs": [
    {
     "data": {
      "image/png": "[encoded data removed]",
      "text/plain": [
       "<matplotlib.figure.Figure at 0x20ba17d76d8>"
      ]
     },
     "metadata": {},
     "output_type": "display_data"
    }
   ],
   "source": [
    "#column summery x\n",
    "csx=[x for x in range(len(pdata.market))]\n",
    "csy=pdata.volume.values\n",
    "cxt=summery.exc.values\n",
    "plt.figure(figsize=(20,10))\n",
    "plt.bar(csx,csy,color='r', label='Exchanges')\n",
    "plt\n",
    "plt.xticks(csx,cxt)\n",
    "plt.xlabel('Exchanges', fontsize='30')\n",
    "plt.ylabel('Volumes', fontsize='30')\n",
    "plt.title(\"\\nEach Exchange Volume \\n\", fontsize='30')\n",
    "plt.show()"
   ]
  }
 ],
 "metadata": {
  "kernelspec": {
   "display_name": "Python 3",
   "language": "python",
   "name": "python3"
  },
  "language_info": {
   "codemirror_mode": {
    "name": "ipython",
    "version": 3
   },
   "file_extension": ".py",
   "mimetype": "text/x-python",
   "name": "python",
   "nbconvert_exporter": "python",
   "pygments_lexer": "ipython3",
   "version": "3.5.4"
  }
 },
 "nbformat": 4,
 "nbformat_minor": 2
}
