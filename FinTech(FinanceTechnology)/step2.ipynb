{
 "cells": [
  {
   "cell_type": "markdown",
   "metadata": {},
   "source": [
    "# Part 2: Modern Portfolio Theory with Python\n",
    "Modern portfolio theory (MPT), or mean-variance analysis, introduced by Harry Markowitz, is a mathematical framework for assembling a portfolio of assets such that the expected return is maximized for a given level of risk, defined as variance. Its key insight is that an asset’s risk and return should not be assessed by itself, but by how it contributes to a portfolio’s overall risk and return."
   ]
  },
  {
   "cell_type": "markdown",
   "metadata": {},
   "source": [
    "# Model Assumptions\n",
    "The MPT assumes that investors are rational and risk averse. That is, given two portfolios that offer the same expected return, investors will prefer the less risky one. Thus, an investor will take on increased risk only if compensated by higher expected returns. Conversely, an investor who wants higher expected returns must accept more risk.\n",
    "<ul>\n",
    "<li>Asset returns are normally distributed random variables.\n",
    "<li>Investors attempt to maximize economic market returns.\n",
    "<li>Investors are rational and avoid risk when possible.\n",
    "<li>Investors all have access to the same sources of information for investment decisions.\n",
    "<li>Investors share similar views on expected returns.\n",
    "<li>Taxes and brokerage commissions are not considered.\n",
    "<li>Investors are not large enough players in the market to influence the price.\n",
    "<li>Investors have unlimited access to borrow (and lend) money at the risk free rate.\n",
    "</ul>"
   ]
  },
  {
   "cell_type": "markdown",
   "metadata": {
    "collapsed": true
   },
   "source": [
    "Building Available Market Portfolios\n",
    "With the following functions we can create random portfolio weights which are used to construct random portfolios from the included returns series. For these randomly created portfolios we calculate the means and standard deviation, and finally plot the set of obtain random portfolios."
   ]
  },
  {
   "cell_type": "code",
   "execution_count": 1,
   "metadata": {
    "collapsed": true
   },
   "outputs": [],
   "source": [
    "def create_random_weights(n_assets):\n",
    "    '''\n",
    "    returns randomly choosen portfolio weights that sum to one\n",
    "    '''\n",
    "    w = np.random.rand(n_assets)\n",
    "    return w / w.sum()"
   ]
  },
  {
   "cell_type": "code",
   "execution_count": 2,
   "metadata": {
    "collapsed": true
   },
   "outputs": [],
   "source": [
    "def evaluate_random_portfolio(returns):\n",
    "    ''' \n",
    "    returns the mean and standard deviation of returns for a random portfolio\n",
    "    '''\n",
    "    # in case a resampler is used\n",
    "    returns = pd.DataFrame(returns)   \n",
    "    \n",
    "    # calculate from covariance, asset returns and weights\n",
    "    cov = np.matrix(returns.cov())\n",
    "    R = np.matrix(returns.mean())\n",
    "    w = np.matrix(create_random_weights(returns.shape[1]))\n",
    "    \n",
    "    # calculate expected portfolio return and risk\n",
    "    mu = w * R.T\n",
    "    sigma = np.sqrt(w * cov * w.T)\n",
    "    \n",
    "    return mu, sigma"
   ]
  },
  {
   "cell_type": "code",
   "execution_count": 3,
   "metadata": {
    "collapsed": true
   },
   "outputs": [],
   "source": [
    "def create_random_portfolios(returns, n_portfolios=1500):\n",
    "    '''\n",
    "    plots randomly created portfolios\n",
    "    '''\n",
    "    # calculate mean and std for every portfolio\n",
    "    pf_mus, pf_sigmas = np.column_stack([evaluate_random_portfolio(returns) for _ in range(n_portfolios)])\n",
    "\n",
    "    return pf_mus, pf_sigmas"
   ]
  },
  {
   "cell_type": "code",
   "execution_count": 4,
   "metadata": {},
   "outputs": [
    {
     "data": {
      "text/plain": [
       "array([[ 1.67434536, -0.56175641, -0.47817175, -1.02296862],\n",
       "       [ 0.91540763, -2.2515387 ,  1.79481176, -0.7112069 ],\n",
       "       [ 0.3690391 , -0.19937038,  1.51210794, -2.01014071],\n",
       "       ...,\n",
       "       [ 0.12341633,  0.46602616, -1.82920004,  0.62545885],\n",
       "       [ 0.15206241,  1.23430372, -0.74484305, -0.07590305],\n",
       "       [-0.9103464 , -0.79391327,  0.67834172,  0.58721449]])"
      ]
     },
     "execution_count": 4,
     "metadata": {},
     "output_type": "execute_result"
    }
   ],
   "source": [
    "import numpy as np\n",
    "import matplotlib.pyplot as plt\n",
    "import pandas as pd\n",
    "\n",
    "np.random.seed(1)\n",
    " \n",
    "# length of artificial time series\n",
    "n_obs = 1000\n",
    " \n",
    "# number of different assets\n",
    "n_assets = 4\n",
    " \n",
    "# sample Nx4 data series matrix\n",
    "artificial_returns = np.random.randn(n_obs, n_assets) + 0.05\n",
    "artificial_returns"
   ]
  },
  {
   "cell_type": "code",
   "execution_count": 7,
   "metadata": {
    "collapsed": true
   },
   "outputs": [],
   "source": [
    "pf_mus, pf_sigmas = create_random_portfolios(artificial_returns, n_portfolios=3000)"
   ]
  },
  {
   "cell_type": "code",
   "execution_count": 28,
   "metadata": {},
   "outputs": [
    {
     "data": {
      "image/png": "[encoded data removed]",
      "text/plain": [
       "<matplotlib.figure.Figure at 0x18559a4f898>"
      ]
     },
     "metadata": {},
     "output_type": "display_data"
    }
   ],
   "source": [
    "# scatter plot for expected return and volatility\n",
    "plt.plot(pf_sigmas, pf_mus, 'o', markersize=10)\n",
    "plt.xlabel('Expected Volatility')\n",
    "plt.ylabel('Expected Return')\n",
    "plt.title('Randomly Weighted Portfolios')\n",
    "\n",
    "plt.show()"
   ]
  },
  {
   "cell_type": "markdown",
   "metadata": {},
   "source": [
    "# Part 3: Efficient Market Frontier\n",
    "Remember that a rational investor will always choose the volatility minimizing portfolio for a given level of return or the return maximizing portfolio for a given level of volatility. Thus, it would make no sense to hold any portfolio other than those on the outermost surface line on the upper half of the graph. This line is called the Efficient Market Frontier as they earn the highest expected return possible for a certain level of risk."
   ]
  },
  {
   "cell_type": "code",
   "execution_count": 29,
   "metadata": {},
   "outputs": [
    {
     "ename": "ImportError",
     "evalue": "DLL load failed: The specified module could not be found.",
     "output_type": "error",
     "traceback": [
      "\u001b[1;31m---------------------------------------------------------------------------\u001b[0m",
      "\u001b[1;31mImportError\u001b[0m                               Traceback (most recent call last)",
      "\u001b[1;32m<ipython-input-29-14abf1b564a4>\u001b[0m in \u001b[0;36m<module>\u001b[1;34m()\u001b[0m\n\u001b[1;32m----> 1\u001b[1;33m \u001b[1;32mimport\u001b[0m \u001b[0mcvxopt\u001b[0m\u001b[1;33m\u001b[0m\u001b[0m\n\u001b[0m",
      "\u001b[1;32m~\\Anaconda3\\lib\\site-packages\\cvxopt\\__init__.py\u001b[0m in \u001b[0;36m<module>\u001b[1;34m()\u001b[0m\n\u001b[0;32m     32\u001b[0m \u001b[1;32mimport\u001b[0m \u001b[0mnumpy\u001b[0m\u001b[1;33m\u001b[0m\u001b[0m\n\u001b[0;32m     33\u001b[0m \u001b[1;33m\u001b[0m\u001b[0m\n\u001b[1;32m---> 34\u001b[1;33m \u001b[1;32mimport\u001b[0m \u001b[0mcvxopt\u001b[0m\u001b[1;33m.\u001b[0m\u001b[0mbase\u001b[0m\u001b[1;33m\u001b[0m\u001b[0m\n\u001b[0m\u001b[0;32m     35\u001b[0m \u001b[1;33m\u001b[0m\u001b[0m\n\u001b[0;32m     36\u001b[0m \u001b[1;32mdef\u001b[0m \u001b[0mnormal\u001b[0m\u001b[1;33m(\u001b[0m\u001b[0mnrows\u001b[0m\u001b[1;33m,\u001b[0m \u001b[0mncols\u001b[0m\u001b[1;33m=\u001b[0m\u001b[1;36m1\u001b[0m\u001b[1;33m,\u001b[0m \u001b[0mmean\u001b[0m\u001b[1;33m=\u001b[0m\u001b[1;36m0.0\u001b[0m\u001b[1;33m,\u001b[0m \u001b[0mstd\u001b[0m\u001b[1;33m=\u001b[0m\u001b[1;36m1.0\u001b[0m\u001b[1;33m)\u001b[0m\u001b[1;33m:\u001b[0m\u001b[1;33m\u001b[0m\u001b[0m\n",
      "\u001b[1;31mImportError\u001b[0m: DLL load failed: The specified module could not be found."
     ]
    }
   ],
   "source": [
    "import cvxopt"
   ]
  },
  {
   "cell_type": "code",
   "execution_count": null,
   "metadata": {
    "collapsed": true
   },
   "outputs": [],
   "source": []
  }
 ],
 "metadata": {
  "kernelspec": {
   "display_name": "Python 3",
   "language": "python",
   "name": "python3"
  },
  "language_info": {
   "codemirror_mode": {
    "name": "ipython",
    "version": 3
   },
   "file_extension": ".py",
   "mimetype": "text/x-python",
   "name": "python",
   "nbconvert_exporter": "python",
   "pygments_lexer": "ipython3",
   "version": "3.5.4"
  }
 },
 "nbformat": 4,
 "nbformat_minor": 2
}
