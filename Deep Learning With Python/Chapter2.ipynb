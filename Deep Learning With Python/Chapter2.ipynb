{
 "cells": [
  {
   "cell_type": "markdown",
   "metadata": {},
   "source": [
    "# Chapter 2\n",
    "### This chapter covers\n",
    "- A first example of a neural network\n",
    "- Tensors and tensor operations\n",
    "- How neural networks learn via backpropagation\n",
    "and gradient descent"
   ]
  },
  {
   "cell_type": "markdown",
   "metadata": {},
   "source": [
    "We simple learn mathmatical concept and, know about tensor, tensor operation and neural network"
   ]
  },
  {
   "cell_type": "markdown",
   "metadata": {},
   "source": [
    "## 2.1 A first look at a neural network\n"
   ]
  },
  {
   "cell_type": "markdown",
   "metadata": {},
   "source": [
    "- Classification Problem Hand writing number (0 to 9) 28X28 pixels\n",
    "- Use MNIST Data set\n",
    "- See some MNIST samples in figure 2.1"
   ]
  },
  {
   "cell_type": "markdown",
   "metadata": {},
   "source": [
    "#### Note on classes and labels\n",
    "In machine learning, a category in a classification problem is called a class. Data\n",
    "points are called samples. The class associated with a specific sample is called a\n",
    "label."
   ]
  },
  {
   "cell_type": "markdown",
   "metadata": {},
   "source": [
    "# <img src=\"images/f2.1.png\">"
   ]
  },
  {
   "cell_type": "markdown",
   "metadata": {},
   "source": [
    "# Use Keras to solve above problem "
   ]
  },
  {
   "cell_type": "code",
   "execution_count": 1,
   "metadata": {},
   "outputs": [
    {
     "name": "stderr",
     "output_type": "stream",
     "text": [
      "C:\\Users\\Muhammad Qasim\\Anaconda3\\lib\\site-packages\\h5py\\__init__.py:34: FutureWarning: Conversion of the second argument of issubdtype from `float` to `np.floating` is deprecated. In future, it will be treated as `np.float64 == np.dtype(float).type`.\n",
      "  from ._conv import register_converters as _register_converters\n",
      "Using TensorFlow backend.\n"
     ]
    }
   ],
   "source": [
    "# 2.1\n",
    "from keras.datasets import mnist\n",
    "(train_images, train_labels), (test_images, test_labels) = mnist.load_data()"
   ]
  },
  {
   "cell_type": "markdown",
   "metadata": {},
   "source": [
    "`mnist.load_data()` this function reuturn four values \n",
    "- train_data, train_labels (60% from all data)\n",
    "- test_data, test_labels (40% from all data)\n"
   ]
  },
  {
   "cell_type": "markdown",
   "metadata": {},
   "source": [
    "#### Our images convert in numpuy array with value of grayscale mode (R,G,B convert into GrayScale= R+G+B/3)\n",
    "#### Labels are in 0 to 9\n",
    "\n",
    "## About Train Data Details"
   ]
  },
  {
   "cell_type": "code",
   "execution_count": 2,
   "metadata": {},
   "outputs": [
    {
     "name": "stdout",
     "output_type": "stream",
     "text": [
      "Train Image Shape:  (60000, 28, 28)\n",
      "Len of train labels: 60000\n"
     ]
    },
    {
     "data": {
      "text/plain": [
       "array([5, 0, 4, ..., 5, 6, 8], dtype=uint8)"
      ]
     },
     "execution_count": 2,
     "metadata": {},
     "output_type": "execute_result"
    }
   ],
   "source": [
    "print(\"Train Image Shape: \", train_images.shape)\n",
    "print(\"Len of train labels:\", len(train_labels))\n",
    "train_labels"
   ]
  },
  {
   "cell_type": "markdown",
   "metadata": {},
   "source": [
    "## About Test Data Details"
   ]
  },
  {
   "cell_type": "code",
   "execution_count": 3,
   "metadata": {},
   "outputs": [
    {
     "name": "stdout",
     "output_type": "stream",
     "text": [
      "Train Image Shape:  (10000, 28, 28)\n",
      "Len of train labels: 10000\n"
     ]
    },
    {
     "data": {
      "text/plain": [
       "array([7, 2, 1, ..., 4, 5, 6], dtype=uint8)"
      ]
     },
     "execution_count": 3,
     "metadata": {},
     "output_type": "execute_result"
    }
   ],
   "source": [
    "print(\"Train Image Shape: \", test_images.shape)\n",
    "print(\"Len of train labels:\", len(test_labels))\n",
    "test_labels"
   ]
  },
  {
   "cell_type": "markdown",
   "metadata": {},
   "source": [
    "Lets Try to train our module \n",
    "- learn train label from train data\n",
    "- predict label on test data then match with test data labels"
   ]
  },
  {
   "cell_type": "markdown",
   "metadata": {},
   "source": [
    "## Listing 2.2 The network architecture"
   ]
  },
  {
   "cell_type": "code",
   "execution_count": 4,
   "metadata": {
    "collapsed": true
   },
   "outputs": [],
   "source": [
    "from keras import models\n",
    "from keras import layers\n",
    "network = models.Sequential()\n",
    "network.add(layers.Dense(512, activation='relu', input_shape=(28 * 28,)))\n",
    "network.add(layers.Dense(10, activation='softmax'))"
   ]
  },
  {
   "cell_type": "markdown",
   "metadata": {},
   "source": [
    "- core think in network is layer\n",
    "- every layer work like filter where data through in layer and it comes out in more usefull form\n",
    "-  layers extract representations out of the data fed into them\n",
    "- deep learning consists of chaining together simple layers that will implement a form\n",
    "of progressive data distillation.\n",
    "- Deep learning model like a sieve for data processing, made of a succession of increasingly refined data filters \n",
    "- <b>our network consists of a sequence of two Dense layers,</b>  which are densely\n",
    "connected (also called fully connected) neural layers. \n",
    "The second (and last) layer is a 10-way softmax layer, that return of 10 probility scores (suming to 1) each score probility the current digit image belong on of our 10 digit classes."
   ]
  },
  {
   "cell_type": "markdown",
   "metadata": {},
   "source": [
    " To make the network ready for training, we need to pick three more things, as part\n",
    "of the compilation step:\n",
    "- loss function\n",
    "- An optimizer\n",
    "- Metrics to monitor during training and testing"
   ]
  },
  {
   "cell_type": "markdown",
   "metadata": {},
   "source": [
    "## Listing 2.3 The compilation step\n"
   ]
  },
  {
   "cell_type": "code",
   "execution_count": 5,
   "metadata": {},
   "outputs": [
    {
     "name": "stdout",
     "output_type": "stream",
     "text": [
      "WARNING:tensorflow:From C:\\Users\\Muhammad Qasim\\Anaconda3\\lib\\site-packages\\keras\\backend\\tensorflow_backend.py:2755: calling reduce_sum (from tensorflow.python.ops.math_ops) with keep_dims is deprecated and will be removed in a future version.\n",
      "Instructions for updating:\n",
      "keep_dims is deprecated, use keepdims instead\n",
      "WARNING:tensorflow:From C:\\Users\\Muhammad Qasim\\Anaconda3\\lib\\site-packages\\keras\\backend\\tensorflow_backend.py:1290: calling reduce_mean (from tensorflow.python.ops.math_ops) with keep_dims is deprecated and will be removed in a future version.\n",
      "Instructions for updating:\n",
      "keep_dims is deprecated, use keepdims instead\n"
     ]
    }
   ],
   "source": [
    "network.compile(optimizer='rmsprop',\n",
    "                loss='categorical_crossentropy',\n",
    "                metrics=['accuracy'])\n"
   ]
  },
  {
   "cell_type": "raw",
   "metadata": {},
   "source": [
    "Before training, we’ll preprocess the data by reshaping it into the shape the network\n",
    "expects and scaling it so that all values are in the [0, 1] interval. Previously, our training\n",
    "images, for instance, were stored in an array of shape (60000, 28, 28) of type\n",
    "uint8 with values in the [0, 255] interval. We transform it into a float32 array of\n",
    "shape (60000, 28 * 28) with values between 0 and 1."
   ]
  },
  {
   "cell_type": "markdown",
   "metadata": {},
   "source": [
    "# Listing 2.4 Preparing the image data"
   ]
  },
  {
   "cell_type": "code",
   "execution_count": 6,
   "metadata": {
    "collapsed": true
   },
   "outputs": [],
   "source": [
    "train_images = train_images.reshape((60000, 28 * 28))\n",
    "train_images = train_images.astype('float32') / 255\n",
    "test_images = test_images.reshape((10000, 28 * 28))\n",
    "test_images = test_images.astype('float32') / 255\n"
   ]
  },
  {
   "cell_type": "markdown",
   "metadata": {},
   "source": [
    "# Listing 2.5 Preparing the labels"
   ]
  },
  {
   "cell_type": "code",
   "execution_count": 7,
   "metadata": {
    "collapsed": true
   },
   "outputs": [],
   "source": [
    "from keras.utils import to_categorical\n",
    "train_labels = to_categorical(train_labels)\n",
    "test_labels = to_categorical(test_labels)"
   ]
  },
  {
   "cell_type": "markdown",
   "metadata": {},
   "source": [
    "We’re now ready to train the network, which in Keras is done via a call to the network’s\n",
    "fit method—we fit the model to its training data:"
   ]
  },
  {
   "cell_type": "code",
   "execution_count": 8,
   "metadata": {},
   "outputs": [
    {
     "name": "stdout",
     "output_type": "stream",
     "text": [
      "Epoch 1/5\n",
      "60000/60000 [==============================] - 9s - loss: 0.2561 - acc: 0.9255     \n",
      "Epoch 2/5\n",
      "60000/60000 [==============================] - 8s - loss: 0.1045 - acc: 0.9690     \n",
      "Epoch 3/5\n",
      "60000/60000 [==============================] - 8s - loss: 0.0682 - acc: 0.9797     \n",
      "Epoch 4/5\n",
      "60000/60000 [==============================] - 8s - loss: 0.0492 - acc: 0.9852     \n",
      "Epoch 5/5\n",
      "60000/60000 [==============================] - 8s - loss: 0.0377 - acc: 0.9886     \n"
     ]
    },
    {
     "data": {
      "text/plain": [
       "<keras.callbacks.History at 0x1ee6feeaeb8>"
      ]
     },
     "execution_count": 8,
     "metadata": {},
     "output_type": "execute_result"
    }
   ],
   "source": [
    " network.fit(train_images, train_labels, epochs=5, batch_size=128)"
   ]
  },
  {
   "cell_type": "markdown",
   "metadata": {},
   "source": [
    "We quickly reach an accuracy of 0.989 (98.9%) on the training data. Now let’s\n",
    "check that the model performs well on the test set, too:\n"
   ]
  },
  {
   "cell_type": "code",
   "execution_count": 9,
   "metadata": {},
   "outputs": [
    {
     "name": "stdout",
     "output_type": "stream",
     "text": [
      " 9920/10000 [============================>.] - ETA: 0s"
     ]
    }
   ],
   "source": [
    " test_loss, test_acc = network.evaluate(test_images, test_labels)"
   ]
  },
  {
   "cell_type": "code",
   "execution_count": 10,
   "metadata": {},
   "outputs": [
    {
     "name": "stdout",
     "output_type": "stream",
     "text": [
      "test_acc: 0.9786\n"
     ]
    }
   ],
   "source": [
    "print('test_acc:', test_acc)"
   ]
  },
  {
   "cell_type": "markdown",
   "metadata": {},
   "source": [
    "what’s going on behind the scenes. You’ll learn about tensors, the data-storing objects\n",
    "going into the network; tensor operations, which layers are made of; and gradient\n",
    "descent, which allows your network to learn from its training examples"
   ]
  },
  {
   "cell_type": "markdown",
   "metadata": {},
   "source": [
    "# 2.2 Data representations for neural networks"
   ]
  },
  {
   "cell_type": "markdown",
   "metadata": {},
   "source": [
    "-  At its core, a tensor is a container for data—almost always numerical data.\n",
    "- which are 2D tensors:\n",
    "tensors are a generalization of matrices to an arbitrary number of dimensions\n",
    "(note that in the context of tensors, a dimension is often called an axis)."
   ]
  },
  {
   "cell_type": "markdown",
   "metadata": {},
   "source": [
    "## 2.2.1 Scalars (0D tensors)\n",
    "- A tensor that contain just one number is call Scalar\n",
    "- a scalar\n",
    "tensor has 0 axes (ndim == 0).The number of axes of a tensor is also called its rank.\n",
    "Here’s a Numpy scalar:\n"
   ]
  },
  {
   "cell_type": "code",
   "execution_count": 11,
   "metadata": {},
   "outputs": [
    {
     "data": {
      "text/plain": [
       "array(12)"
      ]
     },
     "execution_count": 11,
     "metadata": {},
     "output_type": "execute_result"
    }
   ],
   "source": [
    "import numpy as np\n",
    "x = np.array(12)\n",
    "x"
   ]
  },
  {
   "cell_type": "code",
   "execution_count": 12,
   "metadata": {},
   "outputs": [
    {
     "data": {
      "text/plain": [
       "0"
      ]
     },
     "execution_count": 12,
     "metadata": {},
     "output_type": "execute_result"
    }
   ],
   "source": [
    "x.ndim"
   ]
  },
  {
   "cell_type": "markdown",
   "metadata": {},
   "source": [
    "## 2.2.2 Vectors (1D tensors)"
   ]
  },
  {
   "cell_type": "markdown",
   "metadata": {},
   "source": [
    "- Array of numbers is called vector, id tensor, a ID tensor is said to have exactly one axis "
   ]
  },
  {
   "cell_type": "code",
   "execution_count": 13,
   "metadata": {},
   "outputs": [
    {
     "name": "stdout",
     "output_type": "stream",
     "text": [
      "[12  3  6 14]\n",
      "1\n"
     ]
    }
   ],
   "source": [
    "x = np.array([12,3,6,14])\n",
    "print(x)\n",
    "print(x.ndim)"
   ]
  },
  {
   "cell_type": "markdown",
   "metadata": {},
   "source": [
    "- This vector has five entries and so is called a 5-dimensional vector\n",
    "- whereas a 5D tensor has five axes  (and may have any number of dimensions\n",
    "along each axis).\n",
    "-  it’s technically more\n",
    "correct to talk about a tensor of rank 5 (the rank of a tensor being the number of axes),\n"
   ]
  },
  {
   "cell_type": "markdown",
   "metadata": {},
   "source": [
    "# 2.2.3 Matrices (2D tensors)\n",
    "- An array of vectors is a matrix, or 2D tensor. A matrix has two axes (often referred to\n",
    "rows and columns)."
   ]
  },
  {
   "cell_type": "code",
   "execution_count": 14,
   "metadata": {},
   "outputs": [
    {
     "data": {
      "text/plain": [
       "array([[ 5, 78,  2, 34,  0],\n",
       "       [ 6, 79,  3, 35,  1],\n",
       "       [ 7, 80,  4, 36,  2]])"
      ]
     },
     "execution_count": 14,
     "metadata": {},
     "output_type": "execute_result"
    }
   ],
   "source": [
    "x = np.array([[5, 78, 2, 34, 0],\n",
    "              [6, 79, 3, 35, 1],\n",
    "              [7, 80, 4, 36, 2]])\n",
    "x"
   ]
  },
  {
   "cell_type": "code",
   "execution_count": 15,
   "metadata": {},
   "outputs": [
    {
     "data": {
      "text/plain": [
       "2"
      ]
     },
     "execution_count": 15,
     "metadata": {},
     "output_type": "execute_result"
    }
   ],
   "source": [
    "x.ndim"
   ]
  },
  {
   "cell_type": "markdown",
   "metadata": {},
   "source": [
    "# 2.2.4 3D tensors and higher-dimensional tensors\n",
    "-  which you can visually\n",
    "interpret as a cube of numbers. Following is a Numpy 3D tensor:"
   ]
  },
  {
   "cell_type": "code",
   "execution_count": 16,
   "metadata": {},
   "outputs": [
    {
     "data": {
      "text/plain": [
       "array([[[ 5, 78,  2, 34,  0],\n",
       "        [ 6, 79,  3, 35,  1],\n",
       "        [ 7, 80,  4, 36,  2]],\n",
       "\n",
       "       [[ 5, 78,  2, 34,  0],\n",
       "        [ 6, 79,  3, 35,  1],\n",
       "        [ 7, 80,  4, 36,  2]],\n",
       "\n",
       "       [[ 5, 78,  2, 34,  0],\n",
       "        [ 6, 79,  3, 35,  1],\n",
       "        [ 7, 80,  4, 36,  2]]])"
      ]
     },
     "execution_count": 16,
     "metadata": {},
     "output_type": "execute_result"
    }
   ],
   "source": [
    "x = np.array([[[5, 78, 2, 34, 0],\n",
    "               [6, 79, 3, 35, 1],\n",
    "               [7, 80, 4, 36, 2]],\n",
    "              [[5, 78, 2, 34, 0],\n",
    "               [6, 79, 3, 35, 1],\n",
    "               [7, 80, 4, 36, 2]],\n",
    "              [[5, 78, 2, 34, 0],\n",
    "               [6, 79, 3, 35, 1],\n",
    "               [7, 80, 4, 36, 2]]])\n",
    "x"
   ]
  },
  {
   "cell_type": "code",
   "execution_count": 17,
   "metadata": {},
   "outputs": [
    {
     "data": {
      "text/plain": [
       "3"
      ]
     },
     "execution_count": 17,
     "metadata": {},
     "output_type": "execute_result"
    }
   ],
   "source": [
    "x.ndim"
   ]
  },
  {
   "cell_type": "markdown",
   "metadata": {},
   "source": [
    "# 2.2.5 Key attributes"
   ]
  },
  {
   "cell_type": "markdown",
   "metadata": {},
   "source": [
    "- A tensor is defined by three key attributes:\n",
    "- <b>Number of axes (rank)</b>:<br>For instance, a 3D tensor has three axes, and a matrix has\n",
    "two axes. This is also called the tensor’s ndim in Python libraries such as Numpy.\n",
    "- <b>Shape</b>:<br>shape\n",
    "(3, 5), and the 3D tensor example has shape (3, 3, 5). A vector has a shape\n",
    "with a single element, such as (5,), whereas a scalar has an empty shape, ().\n",
    "- <b>Data type</b>:\n",
    "     tensor’s type could be float32, uint8,\n",
    "float64, and so on. On rare occasions, you may see a char tensor. Note that\n",
    "string tensors don’t exist in Numpy (or in most other libraries),To make this more concrete, let’s look back at the data we processed in the MNIST\n",
    "example. First, we load the MNIST dataset:\n"
   ]
  },
  {
   "cell_type": "code",
   "execution_count": 18,
   "metadata": {
    "collapsed": true
   },
   "outputs": [],
   "source": [
    "from keras.datasets import mnist\n",
    "(train_images, train_labels), (test_images, test_labels) = mnist.load_data()"
   ]
  },
  {
   "cell_type": "markdown",
   "metadata": {},
   "source": [
    "Next, we display the number of axes of the tensor train_images, the ndim attribute:"
   ]
  },
  {
   "cell_type": "code",
   "execution_count": 19,
   "metadata": {},
   "outputs": [
    {
     "name": "stdout",
     "output_type": "stream",
     "text": [
      "3\n"
     ]
    }
   ],
   "source": [
    "print(train_images.ndim)"
   ]
  },
  {
   "cell_type": "code",
   "execution_count": 20,
   "metadata": {},
   "outputs": [
    {
     "name": "stdout",
     "output_type": "stream",
     "text": [
      "(60000, 28, 28)\n"
     ]
    }
   ],
   "source": [
    "print(train_images.shape)"
   ]
  },
  {
   "cell_type": "code",
   "execution_count": 21,
   "metadata": {},
   "outputs": [
    {
     "data": {
      "text/plain": [
       "numpy.ndarray"
      ]
     },
     "execution_count": 21,
     "metadata": {},
     "output_type": "execute_result"
    }
   ],
   "source": [
    "type(train_images)"
   ]
  },
  {
   "cell_type": "code",
   "execution_count": 22,
   "metadata": {},
   "outputs": [
    {
     "name": "stdout",
     "output_type": "stream",
     "text": [
      "uint8\n"
     ]
    }
   ],
   "source": [
    "print(train_images.dtype)"
   ]
  },
  {
   "cell_type": "markdown",
   "metadata": {},
   "source": [
    "So what we have here is a 3D tensor of 8-bit integers. More precisely, it’s an array of\n",
    "60,000 matrices of 28 × 8 integers. Each such matrix is a grayscale image, with coefficients\n",
    "between 0 and 255.\n",
    " Let’s display the fourth digit in this 3D tensor, using the library Matplotlib (part of\n",
    "the standard scientific Python suite); see figure 2.2. "
   ]
  },
  {
   "cell_type": "markdown",
   "metadata": {},
   "source": [
    "## Listing 2.6 Displaying the fourth digit"
   ]
  },
  {
   "cell_type": "code",
   "execution_count": 23,
   "metadata": {},
   "outputs": [
    {
     "data": {
      "image/png": "[encoded data removed]",
      "text/plain": [
       "<matplotlib.figure.Figure at 0x1ee715a3438>"
      ]
     },
     "metadata": {},
     "output_type": "display_data"
    }
   ],
   "source": [
    "digit = train_images[4]\n",
    "\n",
    "import matplotlib.pyplot as plt\n",
    "plt.imshow(digit, cmap=plt.cm.binary)\n",
    "plt.show()"
   ]
  },
  {
   "cell_type": "markdown",
   "metadata": {},
   "source": [
    "## 2.2.6 Manipulating tensors in Numpy"
   ]
  },
  {
   "cell_type": "code",
   "execution_count": 24,
   "metadata": {},
   "outputs": [
    {
     "data": {
      "text/plain": [
       "(90, 28, 28)"
      ]
     },
     "execution_count": 24,
     "metadata": {},
     "output_type": "execute_result"
    }
   ],
   "source": [
    "my_slice = train_images[10:100]\n",
    "my_slice.shape"
   ]
  },
  {
   "cell_type": "code",
   "execution_count": 25,
   "metadata": {},
   "outputs": [
    {
     "data": {
      "text/plain": [
       "(90, 28, 28)"
      ]
     },
     "execution_count": 25,
     "metadata": {},
     "output_type": "execute_result"
    }
   ],
   "source": [
    "my_slice = train_images[10:100, :, :]\n",
    "my_slice.shape"
   ]
  },
  {
   "cell_type": "code",
   "execution_count": 26,
   "metadata": {},
   "outputs": [
    {
     "data": {
      "text/plain": [
       "(90, 28, 28)"
      ]
     },
     "execution_count": 26,
     "metadata": {},
     "output_type": "execute_result"
    }
   ],
   "source": [
    "my_slice = train_images[10:100, 0:28, 0:28]\n",
    "my_slice.shape"
   ]
  },
  {
   "cell_type": "markdown",
   "metadata": {},
   "source": [
    "It’s also possible to use negative indices. Much like negative indices in Python lists,\n",
    "they indicate a position relative to the end of the current axis. In order to crop the\n",
    "images to patches of 14 × 14 pixels centered in the middle, you do this:"
   ]
  },
  {
   "cell_type": "code",
   "execution_count": 27,
   "metadata": {},
   "outputs": [
    {
     "data": {
      "text/plain": [
       "(60000, 14, 14)"
      ]
     },
     "execution_count": 27,
     "metadata": {},
     "output_type": "execute_result"
    }
   ],
   "source": [
    "my_slice = train_images[:, 7:-7, 7:-7]\n",
    "my_slice.shape"
   ]
  },
  {
   "cell_type": "markdown",
   "metadata": {},
   "source": [
    "## 2.2.7 The notion of data batches"
   ]
  },
  {
   "cell_type": "markdown",
   "metadata": {},
   "source": [
    "In general, the first axis (axis 0, because indexing starts at 0) in all data tensors you’ll\n",
    "come across in deep learning will be the samples axis (sometimes called the samples\n",
    "dimension). \n",
    "-  In addition, deep-learning models don’t process an entire dataset at once; rather,\n",
    "they break the data into small batches. Concretely, here’s one batch of our MNIST digits,\n",
    "with batch size of 128:"
   ]
  },
  {
   "cell_type": "code",
   "execution_count": 28,
   "metadata": {},
   "outputs": [
    {
     "data": {
      "text/plain": [
       "array([[[0, 0, 0, ..., 0, 0, 0],\n",
       "        [0, 0, 0, ..., 0, 0, 0],\n",
       "        [0, 0, 0, ..., 0, 0, 0],\n",
       "        ...,\n",
       "        [0, 0, 0, ..., 0, 0, 0],\n",
       "        [0, 0, 0, ..., 0, 0, 0],\n",
       "        [0, 0, 0, ..., 0, 0, 0]],\n",
       "\n",
       "       [[0, 0, 0, ..., 0, 0, 0],\n",
       "        [0, 0, 0, ..., 0, 0, 0],\n",
       "        [0, 0, 0, ..., 0, 0, 0],\n",
       "        ...,\n",
       "        [0, 0, 0, ..., 0, 0, 0],\n",
       "        [0, 0, 0, ..., 0, 0, 0],\n",
       "        [0, 0, 0, ..., 0, 0, 0]],\n",
       "\n",
       "       [[0, 0, 0, ..., 0, 0, 0],\n",
       "        [0, 0, 0, ..., 0, 0, 0],\n",
       "        [0, 0, 0, ..., 0, 0, 0],\n",
       "        ...,\n",
       "        [0, 0, 0, ..., 0, 0, 0],\n",
       "        [0, 0, 0, ..., 0, 0, 0],\n",
       "        [0, 0, 0, ..., 0, 0, 0]],\n",
       "\n",
       "       ...,\n",
       "\n",
       "       [[0, 0, 0, ..., 0, 0, 0],\n",
       "        [0, 0, 0, ..., 0, 0, 0],\n",
       "        [0, 0, 0, ..., 0, 0, 0],\n",
       "        ...,\n",
       "        [0, 0, 0, ..., 0, 0, 0],\n",
       "        [0, 0, 0, ..., 0, 0, 0],\n",
       "        [0, 0, 0, ..., 0, 0, 0]],\n",
       "\n",
       "       [[0, 0, 0, ..., 0, 0, 0],\n",
       "        [0, 0, 0, ..., 0, 0, 0],\n",
       "        [0, 0, 0, ..., 0, 0, 0],\n",
       "        ...,\n",
       "        [0, 0, 0, ..., 0, 0, 0],\n",
       "        [0, 0, 0, ..., 0, 0, 0],\n",
       "        [0, 0, 0, ..., 0, 0, 0]],\n",
       "\n",
       "       [[0, 0, 0, ..., 0, 0, 0],\n",
       "        [0, 0, 0, ..., 0, 0, 0],\n",
       "        [0, 0, 0, ..., 0, 0, 0],\n",
       "        ...,\n",
       "        [0, 0, 0, ..., 0, 0, 0],\n",
       "        [0, 0, 0, ..., 0, 0, 0],\n",
       "        [0, 0, 0, ..., 0, 0, 0]]], dtype=uint8)"
      ]
     },
     "execution_count": 28,
     "metadata": {},
     "output_type": "execute_result"
    }
   ],
   "source": [
    "batch = train_images[:128]\n",
    "batch"
   ]
  },
  {
   "cell_type": "markdown",
   "metadata": {},
   "source": [
    "And here’s the next batch:"
   ]
  },
  {
   "cell_type": "code",
   "execution_count": 29,
   "metadata": {
    "collapsed": true
   },
   "outputs": [],
   "source": [
    "batch = train_images[128:256]"
   ]
  },
  {
   "cell_type": "markdown",
   "metadata": {},
   "source": [
    "And the nth batch:"
   ]
  },
  {
   "cell_type": "raw",
   "metadata": {},
   "source": [
    "batch = train_images[128 * n:128 * (n + 1)]"
   ]
  },
  {
   "cell_type": "markdown",
   "metadata": {},
   "source": [
    "- <b>, the first axis (axis 0) is called the batch axis or\n",
    "batch dimension. </b>"
   ]
  },
  {
   "cell_type": "markdown",
   "metadata": {},
   "source": [
    "## 2.2.8 Real-world examples of data tensors"
   ]
  },
  {
   "cell_type": "markdown",
   "metadata": {},
   "source": [
    "Let’s make data tensors more concrete with a few examples similar to what you’ll\n",
    "encounter later. The data you’ll manipulate will almost always fall into one of the following\n",
    "categories:\n",
    "- <b>Vector data—2D</b> tensors of shape (samples, features)\n",
    "- <b>Timeseries data</b> or sequence data—3D tensors of shape (samples, timesteps,\n",
    "features)\n",
    "- <b>Images—4D tensors</b> of shape (samples, height, width, channels) or (samples,\n",
    "channels, height, width)\n",
    "- <b>Video—5D tensors</b> of shape (samples, frames, height, width, channels) or\n",
    "(samples, frames, channels, height, width)"
   ]
  },
  {
   "cell_type": "markdown",
   "metadata": {},
   "source": [
    "## 2.2.9 Vector data"
   ]
  },
  {
   "cell_type": "markdown",
   "metadata": {},
   "source": [
    "(that is, an array of\n",
    "vectors), where the first axis is the samples axis and the second axis is the features axis.\n",
    " Let’s take a look at two examples:\n",
    "-  person’s age, ZIP code,\n",
    "and income.\n",
    "    - 100,000 people can be stored in a 2D tensor of shape\n",
    "(100000, 3)\n",
    "- A dataset of text documents, where we represent each document by the counts\n",
    "of how many times each word appears in it (out of a dictionary of 20,000 common\n",
    "words). Each document can be encoded as a vector of 20,000 values (one\n",
    "count per word in the dictionary), and thus an entire dataset of 500 documents\n",
    "can be stored in a tensor of shape (500, 20000)"
   ]
  },
  {
   "cell_type": "markdown",
   "metadata": {},
   "source": [
    "## 2.2.10 Timeseries data or sequence data"
   ]
  },
  {
   "cell_type": "markdown",
   "metadata": {},
   "source": [
    "Each sample can be encoded as a\n",
    "sequence of vectors (a 2D tensor), and thus a batch of data will be encoded as a 3D\n",
    "tensor (see figure 2.3).<img src='images/f2.3.png'>"
   ]
  },
  {
   "cell_type": "markdown",
   "metadata": {},
   "source": [
    "- The time axis is always the second axis (axis of index 1), by convention. Let’s look at a\n",
    "few examples:"
   ]
  },
  {
   "cell_type": "markdown",
   "metadata": {},
   "source": [
    "- Thus every minute is encoded as a 3D vector, an entire day of trading is\n",
    "encoded as a 2D tensor of shape (390, 3) (there are 390 minutes in a trading\n",
    "day), and 250 days’ worth of data can be stored in a 3D tensor of shape (250,\n",
    "390, 3). Here, each sample would be one day’s worth of data."
   ]
  },
  {
   "cell_type": "markdown",
   "metadata": {},
   "source": [
    "- Then each tweet can be encoded\n",
    "as a 2D tensor of shape (280, 128), and a dataset of 1 million tweets can be\n",
    "stored in a tensor of shape (1000000, 280, 128).`"
   ]
  },
  {
   "cell_type": "markdown",
   "metadata": {},
   "source": [
    "## 2.2.11 Image data\n",
    "<img src='images/f2.4.png'>"
   ]
  },
  {
   "cell_type": "code",
   "execution_count": 30,
   "metadata": {},
   "outputs": [
    {
     "data": {
      "text/plain": [
       "array([[[[ 4.65380537e-04,  8.31999274e-01,  1.53925719e+00],\n",
       "         [ 3.77945514e-01, -3.18618562e-01, -2.21228609e-01],\n",
       "         [ 1.32943771e+00,  1.49269783e+00,  7.42552056e-01],\n",
       "         ...,\n",
       "         [-8.27899499e-01, -7.03430446e-01, -5.07397542e-01],\n",
       "         [-4.36994499e-01, -8.68873920e-01,  1.22794752e+00],\n",
       "         [-4.38048308e-01,  1.32093179e+00, -5.10421466e-01]],\n",
       "\n",
       "        [[ 8.53535997e-01,  1.31912007e-01,  1.22433447e+00],\n",
       "         [-1.15092463e+00,  1.34936940e+00,  1.49663732e+00],\n",
       "         [-3.41204172e-01,  1.11380329e+00, -6.84450330e-01],\n",
       "         ...,\n",
       "         [ 4.83607206e-01, -1.00853113e+00,  9.45756236e-01],\n",
       "         [ 3.95589797e-01,  4.98539784e-01, -1.63393240e+00],\n",
       "         [ 3.05008301e-02,  2.07522429e+00,  8.38126318e-01]],\n",
       "\n",
       "        [[ 1.06577236e-01, -6.65523270e-01, -1.16838216e+00],\n",
       "         [ 2.05462222e-01, -8.95195454e-01,  1.02156208e+00],\n",
       "         [-1.67142044e+00,  1.12409901e+00,  1.24393889e+00],\n",
       "         ...,\n",
       "         [ 6.50602985e-01,  1.52170825e-01,  7.15948668e-01],\n",
       "         [ 4.64841714e-01,  9.20181260e-02, -6.95840492e-01],\n",
       "         [ 6.24888723e-01,  2.45971804e-01,  4.48324860e-01]],\n",
       "\n",
       "        ...,\n",
       "\n",
       "        [[-1.36257840e+00, -8.15354940e-01,  2.98011400e-01],\n",
       "         [-3.09165129e+00,  1.26572843e+00, -9.18584946e-01],\n",
       "         [-9.00139468e-01,  2.22963272e-02, -8.14319714e-01],\n",
       "         ...,\n",
       "         [-5.25331354e-01,  4.80683520e-01,  9.62689186e-01],\n",
       "         [ 7.23236392e-01,  2.97750334e-01, -8.99901690e-02],\n",
       "         [-1.63198767e-01, -1.34419237e+00,  2.54188756e-01]],\n",
       "\n",
       "        [[-6.00063236e-01,  1.95918458e+00,  5.18158689e-01],\n",
       "         [ 7.52758293e-02, -4.38190963e-01, -7.60684761e-01],\n",
       "         [ 1.20561948e+00, -1.33267372e+00, -3.81094668e-01],\n",
       "         ...,\n",
       "         [ 4.09991348e-01,  1.90223349e+00, -8.24205908e-01],\n",
       "         [ 9.55522510e-01, -2.17513513e+00,  8.62019927e-01],\n",
       "         [-1.03940457e+00, -2.73999315e-01,  9.09882056e-01]],\n",
       "\n",
       "        [[-1.43258077e+00, -9.58890872e-01, -6.02391379e-01],\n",
       "         [-6.84259451e-01,  9.20829315e-01,  1.13053993e-02],\n",
       "         [ 5.30634909e-01, -3.92678838e-01, -2.73402891e-01],\n",
       "         ...,\n",
       "         [-3.29039850e-01,  1.08834483e+00, -1.15179600e+00],\n",
       "         [ 7.98174180e-01,  5.16381985e-01, -8.70109748e-01],\n",
       "         [-1.40089104e-01, -8.12217601e-01,  1.10709729e+00]]],\n",
       "\n",
       "\n",
       "       [[[ 6.08196543e-01,  1.06289294e+00, -9.69151944e-02],\n",
       "         [ 1.69740322e-01,  9.36135669e-01, -1.44411316e+00],\n",
       "         [ 4.33079783e-01,  7.49725878e-01,  8.07589481e-01],\n",
       "         ...,\n",
       "         [-4.67327486e-01,  1.79099335e-01,  8.29903661e-01],\n",
       "         [-4.49205557e-01, -7.38184979e-01,  9.09022044e-01],\n",
       "         [ 3.56245405e-01, -3.11131827e+00,  8.01616640e-01]],\n",
       "\n",
       "        [[ 9.00528734e-02,  1.77091239e-01, -3.99808353e-01],\n",
       "         [ 2.69838987e-01, -7.95426448e-01,  1.28441184e+00],\n",
       "         [ 1.56148495e+00,  9.06661245e-01,  3.75438380e-01],\n",
       "         ...,\n",
       "         [ 4.05289081e-01,  1.69679663e+00,  9.81372382e-01],\n",
       "         [ 1.49688168e+00, -2.85495156e-01,  2.16816562e-02],\n",
       "         [-1.31834234e-01,  1.79781864e-01, -1.35704283e-01]],\n",
       "\n",
       "        [[ 1.21418114e+00,  1.70842524e+00, -1.72921113e-01],\n",
       "         [ 9.29308971e-01, -1.03257722e+00,  3.34059792e-02],\n",
       "         [ 3.80449806e-01,  1.07989665e+00, -6.61644015e-01],\n",
       "         ...,\n",
       "         [-1.58697441e-01, -1.74799895e-01,  7.65243278e-02],\n",
       "         [ 5.26690904e-01, -1.45306802e+00, -2.08608954e-01],\n",
       "         [-6.53630166e-01, -4.07020965e-01,  7.69115225e-01]],\n",
       "\n",
       "        ...,\n",
       "\n",
       "        [[-2.51127366e-01,  4.60314047e-01, -3.52681043e-01],\n",
       "         [ 1.30500497e+00, -4.15480378e-02,  3.44616979e-02],\n",
       "         [-1.60160023e+00, -9.90355546e-01, -2.92184089e-01],\n",
       "         ...,\n",
       "         [-6.61992359e-02, -3.13983856e-01, -1.08332246e+00],\n",
       "         [ 2.08728646e-01,  1.09752274e+00, -1.26457557e-01],\n",
       "         [ 1.27647157e+00,  1.52366172e+00, -7.58576863e-01]],\n",
       "\n",
       "        [[ 3.97828567e-01, -3.34137234e-01, -1.19102827e-01],\n",
       "         [-8.78754088e-01, -1.10867768e+00, -1.52715675e+00],\n",
       "         [-3.86450907e-01, -1.09898680e+00,  4.01631192e-01],\n",
       "         ...,\n",
       "         [-2.13965372e-01, -4.63897283e-01,  6.09208938e-02],\n",
       "         [-1.20420052e-01, -9.60579878e-01, -4.57059447e-02],\n",
       "         [-6.42947032e-01,  3.94089134e-01, -3.16751166e-01]],\n",
       "\n",
       "        [[-5.81323112e-01,  1.29729809e+00, -6.86282567e-01],\n",
       "         [-5.27689095e-01,  8.54972653e-01, -3.01559224e-01],\n",
       "         [-3.04933658e-01,  1.64099027e-01,  8.68602793e-01],\n",
       "         ...,\n",
       "         [-5.11218165e-01, -1.21560150e+00, -5.77419525e-01],\n",
       "         [-9.87079845e-02,  1.48577939e+00,  1.79986212e+00],\n",
       "         [-1.18939487e+00,  2.93743756e-01,  1.37057549e+00]]],\n",
       "\n",
       "\n",
       "       [[[ 8.62661527e-01,  1.10286016e+00,  9.41639077e-01],\n",
       "         [ 8.64596907e-01,  9.51994560e-01,  8.37183119e-02],\n",
       "         [-6.18775905e-01,  2.94409291e-01, -3.15161526e+00],\n",
       "         ...,\n",
       "         [ 1.17971105e+00, -9.35743069e-01, -1.14661774e+00],\n",
       "         [-1.35905478e+00,  2.49975590e-01,  2.77601754e-01],\n",
       "         [ 2.63043244e-01,  4.83897454e-01, -4.72365029e-01]],\n",
       "\n",
       "        [[ 1.42158330e-01,  2.96971118e-01, -7.38098966e-02],\n",
       "         [ 7.68512576e-01,  8.11109029e-01, -2.22056664e+00],\n",
       "         [ 1.08062692e+00, -1.83914951e+00,  5.45919937e-01],\n",
       "         ...,\n",
       "         [ 6.22008087e-01, -4.01384479e-01, -9.27905506e-01],\n",
       "         [-2.19740018e+00,  1.09451076e+00, -1.49005701e+00],\n",
       "         [-2.07575845e-01,  4.97638418e-01,  6.79255355e-01]],\n",
       "\n",
       "        [[-3.09014090e-01, -3.04450374e-01,  1.59357779e+00],\n",
       "         [ 6.46231851e-01,  1.22169971e+00,  1.62655524e+00],\n",
       "         [ 8.30364992e-01,  1.20570678e+00,  8.89216753e-01],\n",
       "         ...,\n",
       "         [-1.40724111e+00, -1.76913526e+00, -9.11488169e-01],\n",
       "         [ 4.36540584e-01, -1.85876721e+00, -3.00981993e-01],\n",
       "         [ 1.11072130e+00,  2.00731819e-01, -1.90744745e+00]],\n",
       "\n",
       "        ...,\n",
       "\n",
       "        [[-4.86259832e-02, -4.66686820e-01,  5.79123026e-01],\n",
       "         [-1.49445444e+00, -9.16069924e-01,  3.55255030e-01],\n",
       "         [-2.89201626e-01, -1.47488486e+00, -8.03694915e-01],\n",
       "         ...,\n",
       "         [ 1.18736607e+00, -3.91941736e-01, -6.50412930e-01],\n",
       "         [-5.43799479e-01, -2.21957005e+00,  1.34112549e+00],\n",
       "         [ 2.26104650e-01, -7.11818024e-01, -6.86082465e-01]],\n",
       "\n",
       "        [[ 5.99877186e-01, -3.80846468e-01, -1.49961117e+00],\n",
       "         [-4.10471784e-01, -1.69269191e-02, -2.55974405e+00],\n",
       "         [ 9.35669435e-01, -1.77197706e+00,  1.41918773e+00],\n",
       "         ...,\n",
       "         [ 1.01110931e+00, -3.38265271e-01,  3.83796835e-01],\n",
       "         [ 1.01541271e+00, -6.59041115e-01, -9.62996524e-02],\n",
       "         [ 2.08922918e+00, -5.38201578e-01,  4.15530716e-01]],\n",
       "\n",
       "        [[-8.82216887e-01,  1.80891201e+00, -8.86409528e-01],\n",
       "         [ 1.53659315e+00,  1.66986072e+00,  1.55780566e-01],\n",
       "         [-1.03169619e+00, -5.42413737e-01,  2.22780993e+00],\n",
       "         ...,\n",
       "         [-9.34536132e-01,  6.53478367e-01,  2.94445603e-01],\n",
       "         [ 8.35711646e-01,  1.70780523e+00,  1.35180142e+00],\n",
       "         [-4.54180795e-01, -1.58613088e-01, -1.03679270e+00]]],\n",
       "\n",
       "\n",
       "       ...,\n",
       "\n",
       "\n",
       "       [[[ 5.21105868e-01,  1.04002592e-01, -5.09662687e-01],\n",
       "         [-2.47491754e-01, -1.89793277e-01, -8.74458713e-01],\n",
       "         [-1.36314249e+00,  1.29456078e+00,  6.87455058e-01],\n",
       "         ...,\n",
       "         [ 7.93016818e-01,  1.86647451e-01,  2.35346447e+00],\n",
       "         [ 1.38240245e+00, -1.57755396e+00,  2.23509192e+00],\n",
       "         [-9.88008564e-01, -2.88613790e-01,  1.13117076e+00]],\n",
       "\n",
       "        [[-1.74667011e+00,  1.02232092e-01, -6.67515657e-01],\n",
       "         [-5.00882516e-01, -8.32038793e-01, -3.99025356e-01],\n",
       "         [-9.48853796e-01,  7.87830267e-01,  4.21759661e-01],\n",
       "         ...,\n",
       "         [-5.48751459e-01,  4.03868382e-01,  1.08177532e+00],\n",
       "         [-4.69081798e-02,  2.03653992e+00,  1.74771627e+00],\n",
       "         [-6.09619664e-01, -2.81371566e+00, -3.82926379e-01]],\n",
       "\n",
       "        [[ 9.83184891e-01,  6.94756366e-01,  4.90388517e-01],\n",
       "         [-8.05135901e-01,  1.49861803e+00, -1.51539913e-01],\n",
       "         [-4.46602397e-01, -9.97110488e-01,  3.10524176e-01],\n",
       "         ...,\n",
       "         [ 1.02860141e+00, -7.13539500e-01,  4.04843850e-01],\n",
       "         [ 1.40891225e+00,  1.95254336e+00, -1.40855093e+00],\n",
       "         [-7.66091464e-01, -1.47422355e+00, -4.33004511e-01]],\n",
       "\n",
       "        ...,\n",
       "\n",
       "        [[ 3.08375687e-01, -1.17960739e-01, -4.59299732e-02],\n",
       "         [ 8.04545831e-02, -1.70362819e+00, -1.39909064e+00],\n",
       "         [-1.66030115e+00,  4.53942071e-01,  9.80920098e-01],\n",
       "         ...,\n",
       "         [ 7.72801568e-01, -6.55388075e-01,  8.26046206e-01],\n",
       "         [-4.14238186e-01,  2.20554515e+00,  2.95249457e-01],\n",
       "         [ 2.58126772e-01,  6.70961800e-01, -4.59042623e-01]],\n",
       "\n",
       "        [[ 3.60831313e-01,  6.01875391e-01,  1.92802823e-01],\n",
       "         [-4.13168583e-01,  4.10463358e-01, -3.53106124e-01],\n",
       "         [ 1.03139814e+00,  4.45446976e-01,  4.56099867e-01],\n",
       "         ...,\n",
       "         [-2.31733519e+00, -2.22933629e+00, -1.35510439e-01],\n",
       "         [ 1.05433300e+00,  1.18603088e+00, -1.06486953e+00],\n",
       "         [-2.21737449e-01,  1.10811772e+00, -7.68058867e-01]],\n",
       "\n",
       "        [[-4.21429037e-01, -2.88661988e+00, -1.17126922e+00],\n",
       "         [ 5.24631280e-02,  3.83673281e-01,  8.21905664e-01],\n",
       "         [-2.77964416e-01,  2.33112944e-01,  5.01095560e-01],\n",
       "         ...,\n",
       "         [-9.91203559e-02,  2.32298390e-01, -1.53414064e+00],\n",
       "         [ 3.93177285e-01,  1.74540647e+00, -1.49084871e+00],\n",
       "         [-5.72180851e-01, -3.06187758e-01, -2.01736408e-01]]],\n",
       "\n",
       "\n",
       "       [[[-8.45360104e-01,  1.43448827e+00, -1.47133796e+00],\n",
       "         [ 3.16433829e-01, -3.17320953e-02,  1.19438435e+00],\n",
       "         [-1.39949250e+00, -6.52545246e-03,  8.82706142e-01],\n",
       "         ...,\n",
       "         [ 4.49249036e-01, -8.63654799e-02,  2.93621829e-02],\n",
       "         [-1.18233585e+00, -8.85652243e-01,  8.34093378e-01],\n",
       "         [ 7.86835793e-01,  1.69971588e+00, -2.23686034e+00]],\n",
       "\n",
       "        [[-9.99289297e-01,  1.48661708e+00, -2.03636131e-01],\n",
       "         [-9.38169236e-01,  1.25292668e-01, -5.99615443e-01],\n",
       "         [-1.03384824e+00, -8.70583337e-01, -1.14754155e+00],\n",
       "         ...,\n",
       "         [ 6.91352771e-01, -2.98131528e-01,  1.92069405e-02],\n",
       "         [-7.52904474e-02, -1.27981355e-02, -3.35434324e-01],\n",
       "         [-9.55485824e-02,  8.44234101e-02, -2.20067164e-01]],\n",
       "\n",
       "        [[ 2.57266074e-01, -1.75206471e+00, -4.26593030e-01],\n",
       "         [ 5.51794492e-02,  1.80492061e+00,  3.17103373e-01],\n",
       "         [ 1.74262372e+00,  9.09415859e-01, -4.23223872e-01],\n",
       "         ...,\n",
       "         [ 1.30499115e+00, -6.13242181e-01, -1.07284815e+00],\n",
       "         [-8.71336963e-01,  2.15461951e+00, -5.44599371e-01],\n",
       "         [ 3.51325092e-01,  1.59112503e+00,  4.48846916e-01]],\n",
       "\n",
       "        ...,\n",
       "\n",
       "        [[-1.10469968e+00,  2.45850256e-01, -1.01133457e+00],\n",
       "         [-6.04263548e-01, -1.01311569e+00, -2.62478086e-01],\n",
       "         [-1.94283890e-01,  1.09130117e-01, -8.95338125e-01],\n",
       "         ...,\n",
       "         [-5.53593368e-01, -8.87436383e-01, -2.10808562e+00],\n",
       "         [ 4.29527442e-01,  5.00269383e-01,  5.68478709e-01],\n",
       "         [ 1.48287377e+00, -1.25132206e+00,  1.17256764e+00]],\n",
       "\n",
       "        [[ 1.07239853e+00,  1.95943117e+00,  6.00630792e-01],\n",
       "         [-1.28194664e+00, -5.74567818e-01,  6.00804139e-01],\n",
       "         [-1.47001399e-01, -2.13293965e+00,  4.28649326e-01],\n",
       "         ...,\n",
       "         [ 7.04752966e-01,  8.12327388e-01,  5.30048941e-02],\n",
       "         [-4.48497384e-01, -4.20526584e-01, -1.43393450e+00],\n",
       "         [ 1.44504331e+00,  4.14114031e-01,  1.15343238e+00]],\n",
       "\n",
       "        [[-1.48362514e-01, -7.89984445e-01, -8.19383038e-01],\n",
       "         [-5.54157724e-01, -4.37248887e-01,  4.70097927e-01],\n",
       "         [-2.71972904e-01,  5.11347210e-02, -5.20825523e-01],\n",
       "         ...,\n",
       "         [ 1.55094283e-01, -4.79256711e-01,  6.64084517e-03],\n",
       "         [-1.22328020e-01, -8.76293490e-01,  1.23566037e+00],\n",
       "         [ 5.74885899e-01, -6.05451692e-01,  1.14643621e+00]]],\n",
       "\n",
       "\n",
       "       [[[-4.86386209e-01,  2.31318559e-01, -5.17830869e-01],\n",
       "         [ 5.31567790e-01, -7.17596940e-01,  7.84515974e-01],\n",
       "         [-1.11252065e+00, -9.32768451e-01,  1.16836944e+00],\n",
       "         ...,\n",
       "         [ 1.94974694e+00, -9.15020299e-01,  1.01647415e+00],\n",
       "         [-5.44679453e-01, -9.57462691e-01,  4.85347593e-01],\n",
       "         [-1.54548386e+00, -3.05839863e-01,  9.30774284e-01]],\n",
       "\n",
       "        [[ 1.56341694e-01,  4.02921824e-01, -1.00116868e+00],\n",
       "         [-7.37153998e-02, -1.25352145e+00, -1.07322691e+00],\n",
       "         [ 5.44903774e-01,  5.30200909e-01,  8.80338970e-01],\n",
       "         ...,\n",
       "         [ 3.71992781e-01, -1.61716637e+00, -3.98394338e-02],\n",
       "         [-2.29416353e+00, -1.66786103e+00, -2.94148803e-01],\n",
       "         [ 5.51381106e-01,  1.07517049e-01, -7.51794420e-01]],\n",
       "\n",
       "        [[ 8.29164466e-01, -1.07048246e-01,  5.28912979e-01],\n",
       "         [ 4.62975386e-01, -5.72215353e-01, -1.29175970e+00],\n",
       "         [ 1.96449606e-01, -2.74609191e+00, -1.23549303e+00],\n",
       "         ...,\n",
       "         [ 3.17936051e-01, -8.87872678e-01,  1.82979870e-01],\n",
       "         [-8.00560294e-01, -3.85457141e-01,  3.03056476e-01],\n",
       "         [ 7.06549046e-01,  4.22694362e-01, -1.61762598e+00]],\n",
       "\n",
       "        ...,\n",
       "\n",
       "        [[-1.39700433e-01,  7.61742010e-01,  1.79492241e+00],\n",
       "         [-6.87955770e-01,  7.66059784e-01,  6.42224812e-01],\n",
       "         [-1.20175464e+00, -2.96964651e-01, -1.22244865e+00],\n",
       "         ...,\n",
       "         [-1.84391905e+00, -2.61108556e-01, -4.77304276e-01],\n",
       "         [-5.39158612e-01, -2.01918683e-01, -2.46168910e-01],\n",
       "         [ 2.25700998e-01,  1.77830219e+00, -2.47394519e-01]],\n",
       "\n",
       "        [[-7.27148047e-01,  7.44281351e-01,  2.71673278e-02],\n",
       "         [-5.58145541e-01, -6.60143605e-01, -3.91620580e-01],\n",
       "         [ 2.99029689e-01,  5.77521707e-01, -1.47555402e-01],\n",
       "         ...,\n",
       "         [-5.76686601e-01,  8.35746362e-01, -6.25626341e-01],\n",
       "         [-7.88864722e-01,  9.25230630e-01, -1.06928604e+00],\n",
       "         [ 9.89144217e-01, -2.99453803e+00, -9.00025476e-01]],\n",
       "\n",
       "        [[ 3.51391168e-01,  1.66946903e-01,  5.73151193e-01],\n",
       "         [-1.26085322e+00,  4.99908866e-01, -6.70650110e-01],\n",
       "         [-2.32223323e+00, -1.02126842e+00,  3.77837298e-01],\n",
       "         ...,\n",
       "         [-4.15499180e-01, -6.09263737e-01,  1.08507223e+00],\n",
       "         [ 2.98265738e+00, -7.52705499e-01,  9.78120304e-01],\n",
       "         [ 2.77206893e-02, -4.84071833e-01, -8.04183744e-01]]]])"
      ]
     },
     "execution_count": 30,
     "metadata": {},
     "output_type": "execute_result"
    }
   ],
   "source": [
    "# Create Dummy Data\n",
    "image = np.random.randn(128, 256, 256, 3)\n",
    "image"
   ]
  },
  {
   "cell_type": "markdown",
   "metadata": {},
   "source": [
    "- height, width, and color depth.\n",
    "- samples, width,height,chanel (TensorFlow)\n"
   ]
  },
  {
   "cell_type": "code",
   "execution_count": 31,
   "metadata": {},
   "outputs": [
    {
     "data": {
      "text/plain": [
       "array([[[[-0.54484399, -3.25041107, -2.72150081],\n",
       "         [ 0.40810526, -0.67111202, -0.58623292],\n",
       "         [-0.81750476,  1.06913447, -0.08695556],\n",
       "         ...,\n",
       "         [ 0.83941092,  0.08584536, -0.18717053],\n",
       "         [ 2.28608482, -0.08184594,  0.90494508],\n",
       "         [-0.65878295,  0.88715889,  0.27919911]],\n",
       "\n",
       "        [[-1.56684521, -0.03139731,  1.07367065],\n",
       "         [-0.53276348, -0.68717079,  1.79692122],\n",
       "         [-1.01734186, -0.56857096, -0.92119631],\n",
       "         ...,\n",
       "         [ 1.31406185,  0.51984724,  0.03970333],\n",
       "         [ 0.8228006 ,  1.72545956, -1.16543811],\n",
       "         [-2.49707626, -0.38449985,  0.42574057]],\n",
       "\n",
       "        [[ 0.73379087, -0.67193413,  1.49891407],\n",
       "         [ 0.94533512, -0.59957909,  0.34708555],\n",
       "         [-0.76536691,  0.028777  , -0.6541012 ],\n",
       "         ...,\n",
       "         [ 0.58114717,  1.78357809, -1.13988668],\n",
       "         [ 0.7924158 ,  0.27453321,  2.29728535],\n",
       "         [ 0.76620751,  0.41938568,  0.35924883]],\n",
       "\n",
       "        ...,\n",
       "\n",
       "        [[-1.2802551 , -0.56186674, -0.79136356],\n",
       "         [ 0.86184201,  0.89221482, -0.94296533],\n",
       "         [-0.38324309,  0.76149058,  0.6544298 ],\n",
       "         ...,\n",
       "         [-0.54470698,  0.07260467, -0.27441312],\n",
       "         [-0.88186362, -0.23217716, -0.63435701],\n",
       "         [ 0.7832187 , -0.66114604,  0.81196888]],\n",
       "\n",
       "        [[-0.8907151 , -0.1050156 , -0.20357394],\n",
       "         [-1.85208688, -0.22047117,  1.2375505 ],\n",
       "         [-0.4010137 , -1.1002349 ,  0.34153872],\n",
       "         ...,\n",
       "         [ 0.49572741,  0.8394988 , -0.81199352],\n",
       "         [ 0.22489808, -0.99254288,  0.92154886],\n",
       "         [-0.29186227, -1.70503095, -1.07318201]],\n",
       "\n",
       "        [[-1.18838938,  0.88629449, -1.10642095],\n",
       "         [ 1.09723702,  0.16709503,  0.60098598],\n",
       "         [-0.02677125, -0.71872777,  0.12399384],\n",
       "         ...,\n",
       "         [ 0.4904485 , -0.98652296,  0.60389967],\n",
       "         [-1.08023068, -0.57463187,  1.80297713],\n",
       "         [ 1.52305032, -0.99031342,  0.19645351]]]])"
      ]
     },
     "execution_count": 31,
     "metadata": {},
     "output_type": "execute_result"
    }
   ],
   "source": [
    "data = np.random.randn(128, 256, 256, 3)\n",
    "data[:1]"
   ]
  },
  {
   "cell_type": "markdown",
   "metadata": {},
   "source": [
    "## 2.2.12 Video data"
   ]
  },
  {
   "cell_type": "markdown",
   "metadata": {},
   "source": [
    "- (samples, frames, height, width, color_depth)"
   ]
  },
  {
   "cell_type": "markdown",
   "metadata": {},
   "source": [
    "# 2.3 The gears of neural networks: tensor operations"
   ]
  },
  {
   "cell_type": "markdown",
   "metadata": {},
   "source": [
    " In our initial example, we were building our network by stacking Dense layers on\n",
    "top of each other. A Keras layer instance looks like this:"
   ]
  },
  {
   "cell_type": "code",
   "execution_count": 32,
   "metadata": {},
   "outputs": [
    {
     "data": {
      "text/plain": [
       "<keras.layers.core.Dense at 0x1ee6feea9b0>"
      ]
     },
     "execution_count": 32,
     "metadata": {},
     "output_type": "execute_result"
    }
   ],
   "source": [
    "import keras\n",
    "keras.layers.Dense(512, activation='relu')"
   ]
  },
  {
   "cell_type": "code",
   "execution_count": 33,
   "metadata": {
    "collapsed": true
   },
   "outputs": [],
   "source": [
    "def naive_relu(x):\n",
    "    assert len(x.shape) == 2\n",
    "    x = x.copy()\n",
    "    for i in range(x.shape[0]):\n",
    "        for j in range(x.shape[1]):\n",
    "            x[i, j] = max(x[i, j], 0)\n",
    "    return x"
   ]
  },
  {
   "cell_type": "code",
   "execution_count": 34,
   "metadata": {
    "collapsed": true
   },
   "outputs": [],
   "source": [
    "def naive_add(x, y):\n",
    "    assert len(x.shape) == 2\n",
    "    assert x.shape == y.shape\n",
    "    \n",
    "    x = x.copy()\n",
    "    for i in range(x.shape[0]):\n",
    "        for j in range(x.shape[1]):\n",
    "            x[i, j] += y[i, j]\n",
    "    return x"
   ]
  },
  {
   "cell_type": "markdown",
   "metadata": {},
   "source": [
    "So, in Numpy, you can do the following element-wise operation, and it will be blazing\n",
    "fast:\n"
   ]
  },
  {
   "cell_type": "raw",
   "metadata": {},
   "source": [
    "import numpy as np\n",
    "z=x+y\n",
    "z = np.maximum(z, 0.)"
   ]
  },
  {
   "cell_type": "markdown",
   "metadata": {},
   "source": [
    "# 2.3.2 Broadcasting"
   ]
  },
  {
   "cell_type": "markdown",
   "metadata": {},
   "source": [
    "the smaller tensor will be broadcasted to\n",
    "match the shape of the larger tensor.\n",
    "- Axes (called broadcast axes) are added to the smaller tensor to match the ndim of\n",
    "the larger tensor.\n",
    "- Axes (called broadcast axes) are added to the smaller tensor to match the ndim of\n",
    "the larger tensor.\n",
    "    - `X shape (32,10) <br> y shape (10,)<br> (1,10)<br>(32, 10), where Y[i, :] == y for i in range(0, 32)"
   ]
  },
  {
   "cell_type": "code",
   "execution_count": 35,
   "metadata": {
    "collapsed": true
   },
   "outputs": [],
   "source": [
    "def naive_add_matrix_and_vector(x, y):\n",
    "    assert len(x.shape) == 2\n",
    "    assert len(y.shape) == 1\n",
    "    assert x.shape[1] == y.shape[0]\n",
    "    x = x.copy()\n",
    "    for i in range(x.shape[0]):\n",
    "        for j in range(x.shape[1]):\n",
    "            x[i, j] += y[j]\n",
    "    return x"
   ]
  },
  {
   "cell_type": "code",
   "execution_count": 36,
   "metadata": {},
   "outputs": [],
   "source": [
    "import numpy as np\n",
    "x = np.random.random((64, 3, 32, 10))\n",
    "y = np.random.random((32, 10))\n",
    "z = np.maximum(x, y)\n"
   ]
  },
  {
   "cell_type": "markdown",
   "metadata": {},
   "source": [
    "The output z has shape\n",
    "(64, 3, 32, 10) like x."
   ]
  },
  {
   "cell_type": "markdown",
   "metadata": {},
   "source": [
    "## 2.3.3 Tensor dot"
   ]
  },
  {
   "cell_type": "markdown",
   "metadata": {},
   "source": [
    "The dot operation, also called a tensor product (not to be confused with an elementwise\n",
    "product) is the most common"
   ]
  },
  {
   "cell_type": "code",
   "execution_count": 39,
   "metadata": {},
   "outputs": [
    {
     "name": "stdout",
     "output_type": "stream",
     "text": [
      "[ 0.58386319 -2.46601155 -1.03957947  0.51098233  2.16006647 -0.4489828\n",
      " -1.49765792 -1.37595399  0.89232382  0.50296236]\n",
      "[ 0.63515969  0.74964143 -0.7989485  -0.17006047 -0.38002496  1.10598224\n",
      "  0.65979542  1.49194749  0.9233085  -0.41928712] In mathematical notation, you’d note the operation with a dot (.):\n"
     ]
    },
    {
     "data": {
      "text/plain": [
       "-4.479546093859882"
      ]
     },
     "execution_count": 39,
     "metadata": {},
     "output_type": "execute_result"
    }
   ],
   "source": [
    "import numpy as np\n",
    "x = np.random.randn(10)\n",
    "y = np.random.randn(10)\n",
    "z = np.dot(x, y)\n",
    "print(x)\n",
    "print(y,\"In mathematical notation, you’d note the operation with a dot (.):\")\n",
    "z"
   ]
  },
  {
   "cell_type": "markdown",
   "metadata": {},
   "source": [
    "In mathematical notation, you’d note the operation with a dot (.):"
   ]
  },
  {
   "cell_type": "code",
   "execution_count": 40,
   "metadata": {},
   "outputs": [],
   "source": [
    "# z = x . y\n",
    "\n",
    "def naive_vector_dot(x, y):\n",
    "    assert len(x.shape) == 1\n",
    "    assert len(y.shape) == 1\n",
    "    assert x.shape[0] == y.shape[0]\n",
    "    \n",
    "    z = 0.\n",
    "    for i in range(x.shape[0]):\n",
    "        z += x[i] * y[i]\n",
    "    return z\n"
   ]
  },
  {
   "cell_type": "code",
   "execution_count": 41,
   "metadata": {
    "collapsed": true
   },
   "outputs": [],
   "source": [
    "import numpy as np\n",
    "def naive_matrix_vector_dot(x, y):\n",
    "    assert len(x.shape) == 2\n",
    "    assert len(y.shape) == 1\n",
    "    assert x.shape[1] == y.shape[0]\n",
    "    z = np.zeros(x.shape[0])\n",
    "    for i in range(x.shape[0]):\n",
    "        for j in range(x.shape[1]):\n",
    "            z[i] += x[i, j] * y[j]\n",
    "    return z"
   ]
  },
  {
   "cell_type": "markdown",
   "metadata": {},
   "source": [
    "You could also reuse the code we wrote previously, which highlights the relationship\n",
    "between a matrix-vector product and a vector product:"
   ]
  },
  {
   "cell_type": "code",
   "execution_count": 42,
   "metadata": {
    "collapsed": true
   },
   "outputs": [],
   "source": [
    "def naive_matrix_vector_dot(x, y):\n",
    "    z = np.zeros(x.shape[0])\n",
    "    for i in range(x.shape[0]):\n",
    "        z[i] = naive_vector_dot(x[i, :], y)\n",
    "    return z"
   ]
  },
  {
   "cell_type": "code",
   "execution_count": 43,
   "metadata": {},
   "outputs": [],
   "source": [
    "def naive_matrix_dot(x, y):\n",
    "    assert len(x.shape) == 2\n",
    "    assert len(y.shape) == 2\n",
    "    assert x.shape[1] == y.shape[0]\n",
    "    z = np.zeros((x.shape[0], y.shape[1]))\n",
    "    for i in range(x.shape[0]):\n",
    "        for j in range(y.shape[1]):\n",
    "            row_x = x[i, :]\n",
    "            column_y = y[:, j]\n",
    "            z[i, j] = naive_vector_dot(row_x, column_y)\n",
    "    return z"
   ]
  },
  {
   "cell_type": "markdown",
   "metadata": {},
   "source": [
    "<img src='images/f2.5.png'>"
   ]
  },
  {
   "cell_type": "markdown",
   "metadata": {},
   "source": [
    "More generally, you can take the dot product between higher-dimensional tensors,\n",
    "following the same rules for shape compatibility as outlined earlier for the 2D case:\n",
    "```\n",
    "(a, b, c, d) . (d,) -> (a, b, c)\n",
    "(a, b, c, d) . (d, e) -> (a, b, c, e)\n",
    "```"
   ]
  },
  {
   "cell_type": "markdown",
   "metadata": {},
   "source": [
    "## 2.3.4 Tensor reshaping"
   ]
  },
  {
   "cell_type": "markdown",
   "metadata": {},
   "source": [
    " preprocessed the digits data before feeding it into our network\n",
    "```train_images = train_images.reshape((60000, 28 * 28)) ```"
   ]
  },
  {
   "cell_type": "code",
   "execution_count": 44,
   "metadata": {
    "collapsed": true
   },
   "outputs": [],
   "source": [
    "x = np.array([[0., 1.],\n",
    "[2., 3.],\n",
    "[4., 5.]])"
   ]
  },
  {
   "cell_type": "code",
   "execution_count": 45,
   "metadata": {},
   "outputs": [
    {
     "name": "stdout",
     "output_type": "stream",
     "text": [
      "(3, 2)\n"
     ]
    }
   ],
   "source": [
    " print(x.shape)"
   ]
  },
  {
   "cell_type": "code",
   "execution_count": 46,
   "metadata": {},
   "outputs": [
    {
     "data": {
      "text/plain": [
       "array([[0., 1., 2., 3., 4., 5.]])"
      ]
     },
     "execution_count": 46,
     "metadata": {},
     "output_type": "execute_result"
    }
   ],
   "source": [
    "x = x.reshape(1,6)\n",
    "x"
   ]
  },
  {
   "cell_type": "code",
   "execution_count": 47,
   "metadata": {},
   "outputs": [
    {
     "data": {
      "text/plain": [
       "array([[0.],\n",
       "       [1.],\n",
       "       [2.],\n",
       "       [3.],\n",
       "       [4.],\n",
       "       [5.]])"
      ]
     },
     "execution_count": 47,
     "metadata": {},
     "output_type": "execute_result"
    }
   ],
   "source": [
    "x = x.reshape(6,1)\n",
    "x"
   ]
  },
  {
   "cell_type": "code",
   "execution_count": 48,
   "metadata": {},
   "outputs": [
    {
     "name": "stdout",
     "output_type": "stream",
     "text": [
      "(20, 300)\n"
     ]
    }
   ],
   "source": [
    "x = np.zeros((300, 20))\n",
    "x = np.transpose(x)\n",
    "print(x.shape)"
   ]
  },
  {
   "cell_type": "markdown",
   "metadata": {},
   "source": [
    "## Geometric interpretation of tensor operations"
   ]
  },
  {
   "cell_type": "markdown",
   "metadata": {},
   "source": [
    "For instance, let’s consider addition. We’ll start with the following\n",
    "vector:\n",
    "` A = [0.5, 1]`\n",
    "<img src='images/f2.6.png'>"
   ]
  },
  {
   "cell_type": "markdown",
   "metadata": {},
   "source": [
    "Let’s consider a new point, B = [1, 0.25],\n",
    " the resulting location\n",
    "being the vector representing the sum of the previous two vectors (see figure 2.8).<img src='images/f2.8.png'>"
   ]
  },
  {
   "cell_type": "markdown",
   "metadata": {},
   "source": [
    "In general, elementary geometric operations such as affine transformations, rotations,\n",
    "scaling, and so on can be expressed as tensor operations. For instance, a rotation of a\n",
    "2D vector by an angle theta can be achieved via a dot product with a 2 × 2 matrix\n",
    "R = [u, v], where u and v are both vectors of the plane: u = [cos(theta),\n",
    "sin(theta)] and v = [-sin(theta), cos(theta)]. "
   ]
  },
  {
   "cell_type": "markdown",
   "metadata": {},
   "source": [
    "## 2.3.6 A geometric interpretation of deep learning"
   ]
  },
  {
   "cell_type": "markdown",
   "metadata": {},
   "source": [
    "<img src='images/f2.9.png'>\n",
    " Each layer in a deep network applies a transformation that\n",
    "disentangles the data a little—and a deep stack of layers makes tractable an extremely\n",
    "complicated disentanglement process. "
   ]
  },
  {
   "cell_type": "markdown",
   "metadata": {},
   "source": [
    "## 2.4 The engine of neural networks:<br>gradient-based optimization"
   ]
  },
  {
   "cell_type": "raw",
   "metadata": {},
   "source": [
    "This happens within what’s called a training loop, which works as follows. Repeat\n",
    "these steps in a loop, as long as necessary:\n",
    "1 Draw a batch of training samples x and corresponding targets y.\n",
    "2 Run the network on x (a step called the forward pass) to obtain predictions y_pred.\n",
    "3 Compute the loss of the network on the batch, a measure of the mismatch\n",
    "between y_pred and y.\n",
    "4 Update all weights of the network in a way that slightly reduces the loss on this\n",
    "batch."
   ]
  },
  {
   "cell_type": "markdown",
   "metadata": {},
   "source": [
    "## 2.4.1 What’s a derivative?"
   ]
  },
  {
   "cell_type": "markdown",
   "metadata": {},
   "source": [
    "```\n",
    "f(x + epsilon_x) = y + epsilon_y\n",
    "f(x + epsilon_x) = y + a * epsilon_x\n",
    "```\n",
    "Obviously, this linear approximation is valid only when x is close enough to p.\n",
    " The slope a is called the derivative of f in p. If a is negative, it means a small change\n",
    "of x around p will result in a decrease of f(x) (as shown in figure 2.10); and if a is positive,\n",
    "a small change in x will result in an increase of f(x). Further, the absolute value\n",
    "of a (the magnitude of the derivative) tells you how quickly this increase or decrease\n",
    "will happen.\n",
    "<img src='images/f2.10.png'>\n",
    " If you’re trying to update x by a factor epsilon_x in order to minimize f(x), and\n",
    "you know the derivative of f, then your job is done: the derivative completely\n",
    "describes how f(x) evolves as you change x. If you want to reduce the value of f(x),\n",
    "you just need to move x a little in the opposite direction from the derivative. "
   ]
  },
  {
   "cell_type": "markdown",
   "metadata": {},
   "source": [
    "## 2.4.2 Derivative of a tensor operation: the gradient"
   ]
  },
  {
   "cell_type": "markdown",
   "metadata": {},
   "source": [
    " Consider an input vector x, a matrix W, a target y, and a loss function loss. You can\n",
    "use W to compute a target candidate y_pred, and compute the loss, or mismatch,\n",
    "between the target candidate y_pred and the target y:\n",
    "<br>`y_pred = dot(W, x)`<br>\n",
    "`loss_value = loss(y_pred, y)`<br>\n",
    "If the data inputs x and y are frozen, then this can be interpreted as a function mapping\n",
    "values of W to loss values:<br>\n",
    "`loss_value = f(W)`"
   ]
  },
  {
   "cell_type": "markdown",
   "metadata": {},
   "source": [
    "## 2.4.3 Stochastic gradient descent"
   ]
  },
  {
   "cell_type": "markdown",
   "metadata": {},
   "source": [
    "1. Draw a batch of training samples x and corresponding targets y.\n",
    "2. Run the network on x to obtain predictions y_pred.\n",
    "3. Compute the loss of the network on the batch, a measure of the mismatch\n",
    "between y_pred and y.\n",
    "4. Compute the gradient of the loss with regard to the network’s parameters (a\n",
    "backward pass).\n",
    "5. Move the parameters a little in the opposite direction from the gradient—for\n",
    "example W -= step * gradient—thus reducing the loss on the batch a bit.\n",
    "<img src='images/f2.11.png'>\n",
    "<img src='images/f2.12.png'>\n",
    "<img src='images/f2.13.png'>"
   ]
  },
  {
   "cell_type": "raw",
   "metadata": {},
   "source": [
    "past_velocity = 0.\n",
    "momentum = 0.1\n",
    "while loss > 0.01:\n",
    "    w, loss, gradient = get_current_parameters()\n",
    "    velocity = past_velocity * momentum + learning_rate * gradient\n",
    "    w=w+ momentum * velocity - learning_rate * gradient\n",
    "    past_velocity = velocity\n",
    "    update_parameter(w)"
   ]
  },
  {
   "cell_type": "markdown",
   "metadata": {},
   "source": [
    "## 2.4.4 Chaining derivatives: the Backpropagation algorithm"
   ]
  },
  {
   "cell_type": "markdown",
   "metadata": {},
   "source": [
    "three tensor operations,\n",
    "a, b, and c, with weight matrices W1, W2, and W3:\n",
    "`f(W1, W2, W3) = a(W1, b(W2, c(W3)))`\n",
    "Calculus tells us that such a chain of functions can be derived using the following identity,\n",
    "called the chain rule: `f(g(x)) = f'(g(x)) * g'(x)`. Applying the chain rule to the\n",
    "computation of the gradient values of a neural network gives rise to an algorithm\n",
    "called Backpropagation (also sometimes called reverse-mode differentiation). Backpropagation\n",
    "starts with the final loss value and works backward from the top layers to the bottom\n",
    "layers, applying the chain rule to compute the contribution that each parameter\n",
    "had in the loss value."
   ]
  },
  {
   "cell_type": "markdown",
   "metadata": {},
   "source": [
    "## 2.5 Looking back at our first example"
   ]
  },
  {
   "cell_type": "markdown",
   "metadata": {},
   "source": [
    "You’ve reached the end of this chapter, and you should now have a general understanding\n",
    "of what’s going on behind the scenes in a neural network. Let’s go back to\n",
    "the first example and review each piece of it in the light of what you’ve learned in the\n",
    "previous three sections.\n",
    " This was the input data:\n"
   ]
  },
  {
   "cell_type": "code",
   "execution_count": 49,
   "metadata": {
    "collapsed": true
   },
   "outputs": [],
   "source": [
    "(train_images, train_labels), (test_images, test_labels) = mnist.load_data()\n",
    "train_images = train_images.reshape((60000, 28 * 28))\n",
    "train_images = train_images.astype('float32') / 255\n",
    "test_images = test_images.reshape((10000, 28 * 28))\n",
    "test_images = test_images.astype('float32') / 255\n",
    "\n",
    "\n",
    "from keras.utils import to_categorical\n",
    "train_labels = to_categorical(train_labels)\n",
    "test_labels = to_categorical(test_labels)"
   ]
  },
  {
   "cell_type": "markdown",
   "metadata": {},
   "source": [
    "Now you understand that the input images are stored in Numpy tensors, which are\n",
    "here formatted as float32 tensors of shape (60000, 784) (training data) and (10000,\n",
    "784) (test data), respectively.\n",
    " This was our network:"
   ]
  },
  {
   "cell_type": "code",
   "execution_count": 50,
   "metadata": {
    "collapsed": true
   },
   "outputs": [],
   "source": [
    "network = models.Sequential()\n",
    "network.add(layers.Dense(512, activation='relu', input_shape=(28 * 28,)))\n",
    "network.add(layers.Dense(10, activation='softmax'))"
   ]
  },
  {
   "cell_type": "markdown",
   "metadata": {},
   "source": [
    "Now you understand that this network consists of a chain of two Dense layers, that\n",
    "each layer applies a few simple tensor operations to the input data, and that these\n",
    "operations involve weight tensors. Weight tensors, which are attributes of the layers,\n",
    "are where the knowledge of the network persists.\n",
    " This was the network-compilation step:\n"
   ]
  },
  {
   "cell_type": "code",
   "execution_count": 51,
   "metadata": {
    "collapsed": true
   },
   "outputs": [],
   "source": [
    "network.compile(optimizer='rmsprop',\n",
    "                loss='categorical_crossentropy',\n",
    "                metrics=['accuracy'])\n"
   ]
  },
  {
   "cell_type": "code",
   "execution_count": 52,
   "metadata": {},
   "outputs": [
    {
     "name": "stdout",
     "output_type": "stream",
     "text": [
      "Epoch 1/5\n",
      "60000/60000 [==============================] - 8s - loss: 0.2570 - acc: 0.9246     \n",
      "Epoch 2/5\n",
      "60000/60000 [==============================] - 8s - loss: 0.1050 - acc: 0.9688     \n",
      "Epoch 3/5\n",
      "60000/60000 [==============================] - 8s - loss: 0.0692 - acc: 0.9786     \n",
      "Epoch 4/5\n",
      "60000/60000 [==============================] - 8s - loss: 0.0505 - acc: 0.9853     \n",
      "Epoch 5/5\n",
      "60000/60000 [==============================] - 9s - loss: 0.0371 - acc: 0.9885     \n"
     ]
    },
    {
     "data": {
      "text/plain": [
       "<keras.callbacks.History at 0x1ee0258fe48>"
      ]
     },
     "execution_count": 52,
     "metadata": {},
     "output_type": "execute_result"
    }
   ],
   "source": [
    "network.fit(train_images, train_labels, epochs=5, batch_size=128)\n",
    "#train_images.shape\n",
    "#train_labels.shape"
   ]
  },
  {
   "cell_type": "markdown",
   "metadata": {},
   "source": [
    "# Chapter summary\n",
    "1. Learning means finding a combination of model parameters that minimizes\n",
    "a loss function for a given set of training data samples and their corresponding\n",
    "targets.\n",
    "2. Learning happens by drawing random batches of data samples and their\n",
    "targets, and computing the gradient of the network parameters with\n",
    "respect to the loss on the batch. The network parameters are then moved\n",
    "a bit (the magnitude of the move is defined by the learning rate) in the\n",
    "opposite direction from the gradient.\n",
    "3. The entire learning process is made possible by the fact that neural networks\n",
    "are chains of differentiable tensor operations, and thus it’s possible\n",
    "to apply the chain rule of derivation to find the gradient function mapping\n",
    "the current parameters and current batch of data to a gradient value.\n",
    "4. Two key concepts you’ll see frequently in future chapters are loss and optimizers.\n",
    "These are the two things you need to define before you begin feeding\n",
    "data into a network.\n",
    "5. The loss is the quantity you’ll attempt to minimize during training, so it\n",
    "should represent a measure of success for the task you’re trying to solve.\n",
    "6. The optimizer specifies the exact way in which the gradient of the loss will\n",
    "be used to update parameters: for instance, it could be the RMSProp optimizer,\n",
    "SGD with momentum, and so on."
   ]
  }
 ],
 "metadata": {
  "kernelspec": {
   "display_name": "Python 3",
   "language": "python",
   "name": "python3"
  }
 },
 "nbformat": 4,
 "nbformat_minor": 2
}
