{
 "cells": [
  {
   "cell_type": "markdown",
   "metadata": {},
   "source": [
    "# Chapter 2\n",
    "### This chapter covers\n",
    "- A first example of a neural network\n",
    "- Tensors and tensor operations\n",
    "- How neural networks learn via backpropagation\n",
    "and gradient descent"
   ]
  },
  {
   "cell_type": "markdown",
   "metadata": {},
   "source": [
    "We simple learn mathmatical concept and, know about tensor, tensor operation and neural network"
   ]
  },
  {
   "cell_type": "markdown",
   "metadata": {},
   "source": [
    "## 2.1 A first look at a neural network\n"
   ]
  },
  {
   "cell_type": "markdown",
   "metadata": {},
   "source": [
    "- Classification Problem Hand writing number (0 to 9) 28X28 pixels\n",
    "- Use MNIST Data set\n",
    "- See some MNIST samples in figure 2.1"
   ]
  },
  {
   "cell_type": "markdown",
   "metadata": {},
   "source": [
    "#### Note on classes and labels\n",
    "In machine learning, a category in a classification problem is called a class. Data\n",
    "points are called samples. The class associated with a specific sample is called a\n",
    "label."
   ]
  },
  {
   "cell_type": "markdown",
   "metadata": {},
   "source": [
    "# <img src=\"images/f2.1.png\">"
   ]
  },
  {
   "cell_type": "markdown",
   "metadata": {},
   "source": [
    "# Use Keras to solve above problem "
   ]
  },
  {
   "cell_type": "code",
   "execution_count": 1,
   "metadata": {},
   "outputs": [
    {
     "name": "stderr",
     "output_type": "stream",
     "text": [
      "C:\\Users\\Muhammad Qasim\\Anaconda3\\lib\\site-packages\\h5py\\__init__.py:34: FutureWarning: Conversion of the second argument of issubdtype from `float` to `np.floating` is deprecated. In future, it will be treated as `np.float64 == np.dtype(float).type`.\n",
      "  from ._conv import register_converters as _register_converters\n",
      "Using TensorFlow backend.\n"
     ]
    }
   ],
   "source": [
    "# 2.1\n",
    "from keras.datasets import mnist\n",
    "(train_images, train_labels), (test_images, test_labels) = mnist.load_data()"
   ]
  },
  {
   "cell_type": "markdown",
   "metadata": {},
   "source": [
    "`mnist.load_data()` this function reuturn four values \n",
    "- train_data, train_labels (60% from all data)\n",
    "- test_data, test_labels (40% from all data)\n"
   ]
  },
  {
   "cell_type": "markdown",
   "metadata": {},
   "source": [
    "#### Our images convert in numpuy array with value of grayscale mode (R,G,B convert into GrayScale= R+G+B/3)\n",
    "#### Labels are in 0 to 9\n",
    "\n",
    "## About Train Data Details"
   ]
  },
  {
   "cell_type": "code",
   "execution_count": 2,
   "metadata": {},
   "outputs": [
    {
     "name": "stdout",
     "output_type": "stream",
     "text": [
      "Train Image Shape:  (60000, 28, 28)\n",
      "Len of train labels: 60000\n"
     ]
    },
    {
     "data": {
      "text/plain": [
       "array([5, 0, 4, ..., 5, 6, 8], dtype=uint8)"
      ]
     },
     "execution_count": 2,
     "metadata": {},
     "output_type": "execute_result"
    }
   ],
   "source": [
    "print(\"Train Image Shape: \", train_images.shape)\n",
    "print(\"Len of train labels:\", len(train_labels))\n",
    "train_labels"
   ]
  },
  {
   "cell_type": "markdown",
   "metadata": {},
   "source": [
    "## About Test Data Details"
   ]
  },
  {
   "cell_type": "code",
   "execution_count": 3,
   "metadata": {},
   "outputs": [
    {
     "name": "stdout",
     "output_type": "stream",
     "text": [
      "Train Image Shape:  (10000, 28, 28)\n",
      "Len of train labels: 10000\n"
     ]
    },
    {
     "data": {
      "text/plain": [
       "array([7, 2, 1, ..., 4, 5, 6], dtype=uint8)"
      ]
     },
     "execution_count": 3,
     "metadata": {},
     "output_type": "execute_result"
    }
   ],
   "source": [
    "print(\"Train Image Shape: \", test_images.shape)\n",
    "print(\"Len of train labels:\", len(test_labels))\n",
    "test_labels"
   ]
  },
  {
   "cell_type": "markdown",
   "metadata": {},
   "source": [
    "Lets Try to train our module \n",
    "- learn train label from train data\n",
    "- predict label on test data then match with test data labels"
   ]
  },
  {
   "cell_type": "markdown",
   "metadata": {},
   "source": [
    "## Listing 2.2 The network architecture"
   ]
  },
  {
   "cell_type": "code",
   "execution_count": 4,
   "metadata": {
    "collapsed": true
   },
   "outputs": [],
   "source": [
    "from keras import models\n",
    "from keras import layers\n",
    "network = models.Sequential()\n",
    "network.add(layers.Dense(512, activation='relu', input_shape=(28 * 28,)))\n",
    "network.add(layers.Dense(10, activation='softmax'))"
   ]
  },
  {
   "cell_type": "markdown",
   "metadata": {},
   "source": [
    "- core think in network is layer\n",
    "- every layer work like filter where data through in layer and it comes out in more usefull form\n",
    "-  layers extract representations out of the data fed into them\n",
    "- deep learning consists of chaining together simple layers that will implement a form\n",
    "of progressive data distillation.\n",
    "- Deep learning model like a sieve for data processing, made of a succession of increasingly refined data filters \n",
    "- <b>our network consists of a sequence of two Dense layers,</b>  which are densely\n",
    "connected (also called fully connected) neural layers. \n",
    "The second (and last) layer is a 10-way softmax layer, that return of 10 probility scores (suming to 1) each score probility the current digit image belong on of our 10 digit classes."
   ]
  },
  {
   "cell_type": "markdown",
   "metadata": {},
   "source": [
    " To make the network ready for training, we need to pick three more things, as part\n",
    "of the compilation step:\n",
    "- loss function\n",
    "- An optimizer\n",
    "- Metrics to monitor during training and testing"
   ]
  },
  {
   "cell_type": "markdown",
   "metadata": {},
   "source": [
    "## Listing 2.3 The compilation step\n"
   ]
  },
  {
   "cell_type": "code",
   "execution_count": 5,
   "metadata": {},
   "outputs": [
    {
     "name": "stdout",
     "output_type": "stream",
     "text": [
      "WARNING:tensorflow:From C:\\Users\\Muhammad Qasim\\Anaconda3\\lib\\site-packages\\keras\\backend\\tensorflow_backend.py:2755: calling reduce_sum (from tensorflow.python.ops.math_ops) with keep_dims is deprecated and will be removed in a future version.\n",
      "Instructions for updating:\n",
      "keep_dims is deprecated, use keepdims instead\n",
      "WARNING:tensorflow:From C:\\Users\\Muhammad Qasim\\Anaconda3\\lib\\site-packages\\keras\\backend\\tensorflow_backend.py:1290: calling reduce_mean (from tensorflow.python.ops.math_ops) with keep_dims is deprecated and will be removed in a future version.\n",
      "Instructions for updating:\n",
      "keep_dims is deprecated, use keepdims instead\n"
     ]
    }
   ],
   "source": [
    "network.compile(optimizer='rmsprop',\n",
    "                loss='categorical_crossentropy',\n",
    "                metrics=['accuracy'])\n"
   ]
  },
  {
   "cell_type": "raw",
   "metadata": {},
   "source": [
    "Before training, we’ll preprocess the data by reshaping it into the shape the network\n",
    "expects and scaling it so that all values are in the [0, 1] interval. Previously, our training\n",
    "images, for instance, were stored in an array of shape (60000, 28, 28) of type\n",
    "uint8 with values in the [0, 255] interval. We transform it into a float32 array of\n",
    "shape (60000, 28 * 28) with values between 0 and 1."
   ]
  },
  {
   "cell_type": "markdown",
   "metadata": {},
   "source": [
    "# Listing 2.4 Preparing the image data"
   ]
  },
  {
   "cell_type": "code",
   "execution_count": 6,
   "metadata": {
    "collapsed": true
   },
   "outputs": [],
   "source": [
    "train_images = train_images.reshape((60000, 28 * 28))\n",
    "train_images = train_images.astype('float32') / 255\n",
    "test_images = test_images.reshape((10000, 28 * 28))\n",
    "test_images = test_images.astype('float32') / 255\n"
   ]
  },
  {
   "cell_type": "markdown",
   "metadata": {},
   "source": [
    "# Listing 2.5 Preparing the labels"
   ]
  },
  {
   "cell_type": "code",
   "execution_count": 7,
   "metadata": {
    "collapsed": true
   },
   "outputs": [],
   "source": [
    "from keras.utils import to_categorical\n",
    "train_labels = to_categorical(train_labels)\n",
    "test_labels = to_categorical(test_labels)"
   ]
  },
  {
   "cell_type": "markdown",
   "metadata": {},
   "source": [
    "We’re now ready to train the network, which in Keras is done via a call to the network’s\n",
    "fit method—we fit the model to its training data:"
   ]
  },
  {
   "cell_type": "code",
   "execution_count": 8,
   "metadata": {},
   "outputs": [
    {
     "name": "stdout",
     "output_type": "stream",
     "text": [
      "Epoch 1/5\n",
      "60000/60000 [==============================] - 9s - loss: 0.2549 - acc: 0.9248     \n",
      "Epoch 2/5\n",
      "60000/60000 [==============================] - 9s - loss: 0.1025 - acc: 0.9693     \n",
      "Epoch 3/5\n",
      "60000/60000 [==============================] - 9s - loss: 0.0680 - acc: 0.9797     \n",
      "Epoch 4/5\n",
      "60000/60000 [==============================] - 9s - loss: 0.0491 - acc: 0.9847     \n",
      "Epoch 5/5\n",
      "60000/60000 [==============================] - 9s - loss: 0.0367 - acc: 0.9893     \n"
     ]
    },
    {
     "data": {
      "text/plain": [
       "<keras.callbacks.History at 0x17fc4199d30>"
      ]
     },
     "execution_count": 8,
     "metadata": {},
     "output_type": "execute_result"
    }
   ],
   "source": [
    " network.fit(train_images, train_labels, epochs=5, batch_size=128)"
   ]
  },
  {
   "cell_type": "markdown",
   "metadata": {},
   "source": [
    "We quickly reach an accuracy of 0.989 (98.9%) on the training data. Now let’s\n",
    "check that the model performs well on the test set, too:\n"
   ]
  },
  {
   "cell_type": "code",
   "execution_count": 9,
   "metadata": {},
   "outputs": [
    {
     "name": "stdout",
     "output_type": "stream",
     "text": [
      " 9664/10000 [===========================>..] - ETA: 0s"
     ]
    }
   ],
   "source": [
    " test_loss, test_acc = network.evaluate(test_images, test_labels)"
   ]
  },
  {
   "cell_type": "code",
   "execution_count": 10,
   "metadata": {},
   "outputs": [
    {
     "name": "stdout",
     "output_type": "stream",
     "text": [
      "test_acc: 0.9758\n"
     ]
    }
   ],
   "source": [
    "print('test_acc:', test_acc)"
   ]
  },
  {
   "cell_type": "markdown",
   "metadata": {},
   "source": [
    "what’s going on behind the scenes. You’ll learn about tensors, the data-storing objects\n",
    "going into the network; tensor operations, which layers are made of; and gradient\n",
    "descent, which allows your network to learn from its training examples"
   ]
  },
  {
   "cell_type": "markdown",
   "metadata": {},
   "source": [
    "# 2.2 Data representations for neural networks"
   ]
  },
  {
   "cell_type": "markdown",
   "metadata": {},
   "source": [
    "-  At its core, a tensor is a container for data—almost always numerical data.\n",
    "- which are 2D tensors:\n",
    "tensors are a generalization of matrices to an arbitrary number of dimensions\n",
    "(note that in the context of tensors, a dimension is often called an axis)."
   ]
  },
  {
   "cell_type": "markdown",
   "metadata": {},
   "source": [
    "## 2.2.1 Scalars (0D tensors)\n",
    "- A tensor that contain just one number is call Scalar\n",
    "- a scalar\n",
    "tensor has 0 axes (ndim == 0).The number of axes of a tensor is also called its rank.\n",
    "Here’s a Numpy scalar:\n"
   ]
  },
  {
   "cell_type": "code",
   "execution_count": 11,
   "metadata": {},
   "outputs": [
    {
     "data": {
      "text/plain": [
       "array(12)"
      ]
     },
     "execution_count": 11,
     "metadata": {},
     "output_type": "execute_result"
    }
   ],
   "source": [
    "import numpy as np\n",
    "x = np.array(12)\n",
    "x"
   ]
  },
  {
   "cell_type": "code",
   "execution_count": 12,
   "metadata": {},
   "outputs": [
    {
     "data": {
      "text/plain": [
       "0"
      ]
     },
     "execution_count": 12,
     "metadata": {},
     "output_type": "execute_result"
    }
   ],
   "source": [
    "x.ndim"
   ]
  },
  {
   "cell_type": "markdown",
   "metadata": {},
   "source": [
    "## 2.2.2 Vectors (1D tensors)"
   ]
  },
  {
   "cell_type": "markdown",
   "metadata": {},
   "source": [
    "- Array of numbers is called vector, id tensor, a ID tensor is said to have exactly one axis "
   ]
  },
  {
   "cell_type": "code",
   "execution_count": 13,
   "metadata": {},
   "outputs": [
    {
     "name": "stdout",
     "output_type": "stream",
     "text": [
      "[12  3  6 14]\n",
      "1\n"
     ]
    }
   ],
   "source": [
    "x = np.array([12,3,6,14])\n",
    "print(x)\n",
    "print(x.ndim)"
   ]
  },
  {
   "cell_type": "markdown",
   "metadata": {},
   "source": [
    "- This vector has five entries and so is called a 5-dimensional vector\n",
    "- whereas a 5D tensor has five axes  (and may have any number of dimensions\n",
    "along each axis).\n",
    "-  it’s technically more\n",
    "correct to talk about a tensor of rank 5 (the rank of a tensor being the number of axes),\n"
   ]
  },
  {
   "cell_type": "markdown",
   "metadata": {},
   "source": [
    "# 2.2.3 Matrices (2D tensors)\n",
    "- An array of vectors is a matrix, or 2D tensor. A matrix has two axes (often referred to\n",
    "rows and columns)."
   ]
  },
  {
   "cell_type": "code",
   "execution_count": 14,
   "metadata": {},
   "outputs": [
    {
     "data": {
      "text/plain": [
       "array([[ 5, 78,  2, 34,  0],\n",
       "       [ 6, 79,  3, 35,  1],\n",
       "       [ 7, 80,  4, 36,  2]])"
      ]
     },
     "execution_count": 14,
     "metadata": {},
     "output_type": "execute_result"
    }
   ],
   "source": [
    "x = np.array([[5, 78, 2, 34, 0],\n",
    "              [6, 79, 3, 35, 1],\n",
    "              [7, 80, 4, 36, 2]])\n",
    "x"
   ]
  },
  {
   "cell_type": "code",
   "execution_count": 15,
   "metadata": {},
   "outputs": [
    {
     "data": {
      "text/plain": [
       "2"
      ]
     },
     "execution_count": 15,
     "metadata": {},
     "output_type": "execute_result"
    }
   ],
   "source": [
    "x.ndim"
   ]
  },
  {
   "cell_type": "markdown",
   "metadata": {},
   "source": [
    "# 2.2.4 3D tensors and higher-dimensional tensors\n",
    "-  which you can visually\n",
    "interpret as a cube of numbers. Following is a Numpy 3D tensor:"
   ]
  },
  {
   "cell_type": "code",
   "execution_count": 16,
   "metadata": {},
   "outputs": [
    {
     "data": {
      "text/plain": [
       "array([[[ 5, 78,  2, 34,  0],\n",
       "        [ 6, 79,  3, 35,  1],\n",
       "        [ 7, 80,  4, 36,  2]],\n",
       "\n",
       "       [[ 5, 78,  2, 34,  0],\n",
       "        [ 6, 79,  3, 35,  1],\n",
       "        [ 7, 80,  4, 36,  2]],\n",
       "\n",
       "       [[ 5, 78,  2, 34,  0],\n",
       "        [ 6, 79,  3, 35,  1],\n",
       "        [ 7, 80,  4, 36,  2]]])"
      ]
     },
     "execution_count": 16,
     "metadata": {},
     "output_type": "execute_result"
    }
   ],
   "source": [
    "x = np.array([[[5, 78, 2, 34, 0],\n",
    "               [6, 79, 3, 35, 1],\n",
    "               [7, 80, 4, 36, 2]],\n",
    "              [[5, 78, 2, 34, 0],\n",
    "               [6, 79, 3, 35, 1],\n",
    "               [7, 80, 4, 36, 2]],\n",
    "              [[5, 78, 2, 34, 0],\n",
    "               [6, 79, 3, 35, 1],\n",
    "               [7, 80, 4, 36, 2]]])\n",
    "x"
   ]
  },
  {
   "cell_type": "code",
   "execution_count": 17,
   "metadata": {},
   "outputs": [
    {
     "data": {
      "text/plain": [
       "3"
      ]
     },
     "execution_count": 17,
     "metadata": {},
     "output_type": "execute_result"
    }
   ],
   "source": [
    "x.ndim"
   ]
  },
  {
   "cell_type": "markdown",
   "metadata": {},
   "source": [
    "# 2.2.5 Key attributes"
   ]
  },
  {
   "cell_type": "markdown",
   "metadata": {},
   "source": [
    "- A tensor is defined by three key attributes:\n",
    "- <b>Number of axes (rank)</b>:<br>For instance, a 3D tensor has three axes, and a matrix has\n",
    "two axes. This is also called the tensor’s ndim in Python libraries such as Numpy.\n",
    "- <b>Shape</b>:<br>shape\n",
    "(3, 5), and the 3D tensor example has shape (3, 3, 5). A vector has a shape\n",
    "with a single element, such as (5,), whereas a scalar has an empty shape, ().\n",
    "- <b>Data type</b>:\n",
    "     tensor’s type could be float32, uint8,\n",
    "float64, and so on. On rare occasions, you may see a char tensor. Note that\n",
    "string tensors don’t exist in Numpy (or in most other libraries),To make this more concrete, let’s look back at the data we processed in the MNIST\n",
    "example. First, we load the MNIST dataset:\n"
   ]
  },
  {
   "cell_type": "code",
   "execution_count": 18,
   "metadata": {
    "collapsed": true
   },
   "outputs": [],
   "source": [
    "from keras.datasets import mnist\n",
    "(train_images, train_labels), (test_images, test_labels) = mnist.load_data()"
   ]
  },
  {
   "cell_type": "markdown",
   "metadata": {},
   "source": [
    "Next, we display the number of axes of the tensor train_images, the ndim attribute:"
   ]
  },
  {
   "cell_type": "code",
   "execution_count": 19,
   "metadata": {},
   "outputs": [
    {
     "name": "stdout",
     "output_type": "stream",
     "text": [
      "3\n"
     ]
    }
   ],
   "source": [
    "print(train_images.ndim)"
   ]
  },
  {
   "cell_type": "code",
   "execution_count": 20,
   "metadata": {},
   "outputs": [
    {
     "name": "stdout",
     "output_type": "stream",
     "text": [
      "(60000, 28, 28)\n"
     ]
    }
   ],
   "source": [
    "print(train_images.shape)"
   ]
  },
  {
   "cell_type": "code",
   "execution_count": 21,
   "metadata": {},
   "outputs": [
    {
     "data": {
      "text/plain": [
       "numpy.ndarray"
      ]
     },
     "execution_count": 21,
     "metadata": {},
     "output_type": "execute_result"
    }
   ],
   "source": [
    "type(train_images)"
   ]
  },
  {
   "cell_type": "code",
   "execution_count": 22,
   "metadata": {},
   "outputs": [
    {
     "name": "stdout",
     "output_type": "stream",
     "text": [
      "uint8\n"
     ]
    }
   ],
   "source": [
    "print(train_images.dtype)"
   ]
  },
  {
   "cell_type": "markdown",
   "metadata": {},
   "source": [
    "So what we have here is a 3D tensor of 8-bit integers. More precisely, it’s an array of\n",
    "60,000 matrices of 28 × 8 integers. Each such matrix is a grayscale image, with coefficients\n",
    "between 0 and 255.\n",
    " Let’s display the fourth digit in this 3D tensor, using the library Matplotlib (part of\n",
    "the standard scientific Python suite); see figure 2.2. "
   ]
  },
  {
   "cell_type": "markdown",
   "metadata": {},
   "source": [
    "## Listing 2.6 Displaying the fourth digit"
   ]
  },
  {
   "cell_type": "code",
   "execution_count": 23,
   "metadata": {},
   "outputs": [
    {
     "data": {
      "image/png": "[encoded data removed]",
      "text/plain": [
       "<matplotlib.figure.Figure at 0x17fc59544a8>"
      ]
     },
     "metadata": {},
     "output_type": "display_data"
    }
   ],
   "source": [
    "digit = train_images[4]\n",
    "\n",
    "import matplotlib.pyplot as plt\n",
    "plt.imshow(digit, cmap=plt.cm.binary)\n",
    "plt.show()"
   ]
  },
  {
   "cell_type": "markdown",
   "metadata": {},
   "source": [
    "## 2.2.6 Manipulating tensors in Numpy"
   ]
  },
  {
   "cell_type": "code",
   "execution_count": 24,
   "metadata": {},
   "outputs": [
    {
     "data": {
      "text/plain": [
       "(90, 28, 28)"
      ]
     },
     "execution_count": 24,
     "metadata": {},
     "output_type": "execute_result"
    }
   ],
   "source": [
    "my_slice = train_images[10:100]\n",
    "my_slice.shape"
   ]
  },
  {
   "cell_type": "code",
   "execution_count": 25,
   "metadata": {},
   "outputs": [
    {
     "data": {
      "text/plain": [
       "(90, 28, 28)"
      ]
     },
     "execution_count": 25,
     "metadata": {},
     "output_type": "execute_result"
    }
   ],
   "source": [
    "my_slice = train_images[10:100, :, :]\n",
    "my_slice.shape"
   ]
  },
  {
   "cell_type": "code",
   "execution_count": 26,
   "metadata": {},
   "outputs": [
    {
     "data": {
      "text/plain": [
       "(90, 28, 28)"
      ]
     },
     "execution_count": 26,
     "metadata": {},
     "output_type": "execute_result"
    }
   ],
   "source": [
    "my_slice = train_images[10:100, 0:28, 0:28]\n",
    "my_slice.shape"
   ]
  },
  {
   "cell_type": "markdown",
   "metadata": {},
   "source": [
    "It’s also possible to use negative indices. Much like negative indices in Python lists,\n",
    "they indicate a position relative to the end of the current axis. In order to crop the\n",
    "images to patches of 14 × 14 pixels centered in the middle, you do this:"
   ]
  },
  {
   "cell_type": "code",
   "execution_count": 27,
   "metadata": {},
   "outputs": [
    {
     "data": {
      "text/plain": [
       "(60000, 14, 14)"
      ]
     },
     "execution_count": 27,
     "metadata": {},
     "output_type": "execute_result"
    }
   ],
   "source": [
    "my_slice = train_images[:, 7:-7, 7:-7]\n",
    "my_slice.shape"
   ]
  },
  {
   "cell_type": "markdown",
   "metadata": {},
   "source": [
    "## 2.2.7 The notion of data batches"
   ]
  },
  {
   "cell_type": "markdown",
   "metadata": {},
   "source": [
    "In general, the first axis (axis 0, because indexing starts at 0) in all data tensors you’ll\n",
    "come across in deep learning will be the samples axis (sometimes called the samples\n",
    "dimension). \n",
    "-  In addition, deep-learning models don’t process an entire dataset at once; rather,\n",
    "they break the data into small batches. Concretely, here’s one batch of our MNIST digits,\n",
    "with batch size of 128:"
   ]
  },
  {
   "cell_type": "code",
   "execution_count": 30,
   "metadata": {},
   "outputs": [
    {
     "data": {
      "text/plain": [
       "array([[[0, 0, 0, ..., 0, 0, 0],\n",
       "        [0, 0, 0, ..., 0, 0, 0],\n",
       "        [0, 0, 0, ..., 0, 0, 0],\n",
       "        ...,\n",
       "        [0, 0, 0, ..., 0, 0, 0],\n",
       "        [0, 0, 0, ..., 0, 0, 0],\n",
       "        [0, 0, 0, ..., 0, 0, 0]],\n",
       "\n",
       "       [[0, 0, 0, ..., 0, 0, 0],\n",
       "        [0, 0, 0, ..., 0, 0, 0],\n",
       "        [0, 0, 0, ..., 0, 0, 0],\n",
       "        ...,\n",
       "        [0, 0, 0, ..., 0, 0, 0],\n",
       "        [0, 0, 0, ..., 0, 0, 0],\n",
       "        [0, 0, 0, ..., 0, 0, 0]],\n",
       "\n",
       "       [[0, 0, 0, ..., 0, 0, 0],\n",
       "        [0, 0, 0, ..., 0, 0, 0],\n",
       "        [0, 0, 0, ..., 0, 0, 0],\n",
       "        ...,\n",
       "        [0, 0, 0, ..., 0, 0, 0],\n",
       "        [0, 0, 0, ..., 0, 0, 0],\n",
       "        [0, 0, 0, ..., 0, 0, 0]],\n",
       "\n",
       "       ...,\n",
       "\n",
       "       [[0, 0, 0, ..., 0, 0, 0],\n",
       "        [0, 0, 0, ..., 0, 0, 0],\n",
       "        [0, 0, 0, ..., 0, 0, 0],\n",
       "        ...,\n",
       "        [0, 0, 0, ..., 0, 0, 0],\n",
       "        [0, 0, 0, ..., 0, 0, 0],\n",
       "        [0, 0, 0, ..., 0, 0, 0]],\n",
       "\n",
       "       [[0, 0, 0, ..., 0, 0, 0],\n",
       "        [0, 0, 0, ..., 0, 0, 0],\n",
       "        [0, 0, 0, ..., 0, 0, 0],\n",
       "        ...,\n",
       "        [0, 0, 0, ..., 0, 0, 0],\n",
       "        [0, 0, 0, ..., 0, 0, 0],\n",
       "        [0, 0, 0, ..., 0, 0, 0]],\n",
       "\n",
       "       [[0, 0, 0, ..., 0, 0, 0],\n",
       "        [0, 0, 0, ..., 0, 0, 0],\n",
       "        [0, 0, 0, ..., 0, 0, 0],\n",
       "        ...,\n",
       "        [0, 0, 0, ..., 0, 0, 0],\n",
       "        [0, 0, 0, ..., 0, 0, 0],\n",
       "        [0, 0, 0, ..., 0, 0, 0]]], dtype=uint8)"
      ]
     },
     "execution_count": 30,
     "metadata": {},
     "output_type": "execute_result"
    }
   ],
   "source": [
    "batch = train_images[:128]\n",
    "batch"
   ]
  },
  {
   "cell_type": "markdown",
   "metadata": {},
   "source": [
    "And here’s the next batch:"
   ]
  },
  {
   "cell_type": "code",
   "execution_count": 31,
   "metadata": {
    "collapsed": true
   },
   "outputs": [],
   "source": [
    "batch = train_images[128:256]"
   ]
  },
  {
   "cell_type": "markdown",
   "metadata": {},
   "source": [
    "And the nth batch:"
   ]
  },
  {
   "cell_type": "code",
   "execution_count": null,
   "metadata": {
    "collapsed": true
   },
   "outputs": [],
   "source": [
    "batch = train_images[128 * n:128 * (n + 1)]"
   ]
  },
  {
   "cell_type": "markdown",
   "metadata": {},
   "source": [
    "- <b>, the first axis (axis 0) is called the batch axis or\n",
    "batch dimension. </b>"
   ]
  },
  {
   "cell_type": "markdown",
   "metadata": {},
   "source": [
    "## 2.2.8 Real-world examples of data tensors"
   ]
  },
  {
   "cell_type": "markdown",
   "metadata": {},
   "source": [
    "Let’s make data tensors more concrete with a few examples similar to what you’ll\n",
    "encounter later. The data you’ll manipulate will almost always fall into one of the following\n",
    "categories:\n",
    "- <b>Vector data—2D</b> tensors of shape (samples, features)\n",
    "- <b>Timeseries data</b> or sequence data—3D tensors of shape (samples, timesteps,\n",
    "features)\n",
    "- <b>Images—4D tensors</b> of shape (samples, height, width, channels) or (samples,\n",
    "channels, height, width)\n",
    "- <b>Video—5D tensors</b> of shape (samples, frames, height, width, channels) or\n",
    "(samples, frames, channels, height, width)"
   ]
  },
  {
   "cell_type": "markdown",
   "metadata": {},
   "source": [
    "## 2.2.9 Vector data"
   ]
  },
  {
   "cell_type": "markdown",
   "metadata": {},
   "source": [
    "(that is, an array of\n",
    "vectors), where the first axis is the samples axis and the second axis is the features axis.\n",
    " Let’s take a look at two examples:\n",
    "-  person’s age, ZIP code,\n",
    "and income.\n",
    "    - 100,000 people can be stored in a 2D tensor of shape\n",
    "(100000, 3)\n",
    "- A dataset of text documents, where we represent each document by the counts\n",
    "of how many times each word appears in it (out of a dictionary of 20,000 common\n",
    "words). Each document can be encoded as a vector of 20,000 values (one\n",
    "count per word in the dictionary), and thus an entire dataset of 500 documents\n",
    "can be stored in a tensor of shape (500, 20000)"
   ]
  },
  {
   "cell_type": "markdown",
   "metadata": {},
   "source": [
    "## 2.2.10 Timeseries data or sequence data"
   ]
  },
  {
   "cell_type": "markdown",
   "metadata": {},
   "source": [
    "Each sample can be encoded as a\n",
    "sequence of vectors (a 2D tensor), and thus a batch of data will be encoded as a 3D\n",
    "tensor (see figure 2.3).<img src='images/f2.3.png'>"
   ]
  },
  {
   "cell_type": "markdown",
   "metadata": {},
   "source": [
    "- The time axis is always the second axis (axis of index 1), by convention. Let’s look at a\n",
    "few examples:"
   ]
  },
  {
   "cell_type": "markdown",
   "metadata": {},
   "source": [
    "- Thus every minute is encoded as a 3D vector, an entire day of trading is\n",
    "encoded as a 2D tensor of shape (390, 3) (there are 390 minutes in a trading\n",
    "day), and 250 days’ worth of data can be stored in a 3D tensor of shape (250,\n",
    "390, 3). Here, each sample would be one day’s worth of data."
   ]
  },
  {
   "cell_type": "markdown",
   "metadata": {},
   "source": [
    "- Then each tweet can be encoded\n",
    "as a 2D tensor of shape (280, 128), and a dataset of 1 million tweets can be\n",
    "stored in a tensor of shape (1000000, 280, 128).`"
   ]
  },
  {
   "cell_type": "markdown",
   "metadata": {},
   "source": [
    "## 2.2.11 Image data\n",
    "<img src='images/f2.4.png'>"
   ]
  },
  {
   "cell_type": "code",
   "execution_count": 47,
   "metadata": {},
   "outputs": [
    {
     "data": {
      "text/plain": [
       "array([[[[-2.96541772e-01,  1.31212449e+00, -7.87145462e-01],\n",
       "         [-6.29632644e-02,  1.37024931e-01, -1.32418117e+00],\n",
       "         [-4.37868945e-01, -1.52984691e-02, -2.26295517e-02],\n",
       "         ...,\n",
       "         [ 8.01690223e-01,  3.91865635e-02, -9.43822856e-01],\n",
       "         [ 3.88306344e-01,  8.75155010e-01,  1.17695545e-01],\n",
       "         [ 1.02642558e+00, -1.86051637e-01, -1.66862449e+00]],\n",
       "\n",
       "        [[ 4.37646933e-01,  3.20034270e-01, -1.34737471e+00],\n",
       "         [-2.77406505e+00, -2.99599075e-01, -9.64348786e-01],\n",
       "         [-1.04913466e+00, -1.40168674e-01, -2.84238466e-01],\n",
       "         ...,\n",
       "         [-2.30521493e-01,  4.49454465e-01,  1.25324756e+00],\n",
       "         [-9.07306966e-01, -5.57428476e-01,  1.24721752e+00],\n",
       "         [-1.01997967e+00, -1.74886667e+00,  1.54294857e+00]],\n",
       "\n",
       "        [[-1.66436811e+00, -7.62448039e-01,  1.39907989e+00],\n",
       "         [ 7.23331870e-01,  1.24593499e+00,  3.67173246e-01],\n",
       "         [ 1.47835787e+00, -9.13692951e-01, -9.71907608e-01],\n",
       "         ...,\n",
       "         [-5.58613949e-01, -2.64851556e-01, -3.39008928e-01],\n",
       "         [-1.03906039e+00, -1.45375829e+00,  7.46261042e-01],\n",
       "         [-3.11701580e-01, -8.29742437e-01, -2.10755067e+00]],\n",
       "\n",
       "        ...,\n",
       "\n",
       "        [[-2.10726792e-01,  5.81281427e-01, -1.02468055e+00],\n",
       "         [-3.70385040e-01, -1.44571119e+00, -1.55247912e+00],\n",
       "         [ 2.36741987e+00,  6.14296543e-01, -1.38075383e+00],\n",
       "         ...,\n",
       "         [-1.73918728e+00, -1.16916443e+00,  9.56881350e-01],\n",
       "         [ 2.00525009e-01, -1.32042778e+00, -4.18260492e-01],\n",
       "         [ 9.45962742e-01,  1.10563045e+00, -1.77488723e+00]],\n",
       "\n",
       "        [[ 1.61630684e+00,  1.46239187e+00, -9.43606874e-01],\n",
       "         [ 2.03139884e-01, -6.07074825e-01,  5.24552847e-01],\n",
       "         [ 1.29443731e+00,  1.38967624e+00, -1.51438204e+00],\n",
       "         ...,\n",
       "         [-8.12547587e-02, -1.28034438e+00, -7.01433694e-01],\n",
       "         [ 2.85775044e-01,  1.42549089e+00,  6.69162256e-01],\n",
       "         [ 2.13739085e-01,  4.82400170e-01, -4.85985130e-01]],\n",
       "\n",
       "        [[-8.22102033e-01,  6.70972833e-02, -1.55742617e+00],\n",
       "         [ 2.59512495e+00,  6.66486056e-01, -1.05063475e-01],\n",
       "         [-2.31113736e-01, -6.40023287e-01, -4.19017478e-01],\n",
       "         ...,\n",
       "         [-9.92168336e-01,  1.25564895e+00, -1.27964673e+00],\n",
       "         [-1.70774758e-01,  4.60331617e-01,  1.15318484e+00],\n",
       "         [-1.21624729e+00,  3.85554365e-01,  9.64872421e-01]]],\n",
       "\n",
       "\n",
       "       [[[-2.82086388e-02,  4.97937798e-01,  9.99344481e-01],\n",
       "         [-1.03282969e+00, -1.35882939e+00,  1.43435640e+00],\n",
       "         [-1.94180421e+00, -2.85801309e-01,  7.61379247e-02],\n",
       "         ...,\n",
       "         [-6.31585303e-01, -2.32796784e-01, -4.37406253e-01],\n",
       "         [ 7.07997630e-01,  1.98738739e+00,  6.27346115e-01],\n",
       "         [ 1.08349063e-01,  4.43566707e-02, -5.06238454e-01]],\n",
       "\n",
       "        [[ 1.20952116e-01,  9.47893536e-01, -6.85532856e-01],\n",
       "         [-9.06151361e-02,  5.93853871e-02,  1.09195376e+00],\n",
       "         [-1.32620517e+00, -6.16044125e-01, -4.30921736e-01],\n",
       "         ...,\n",
       "         [ 1.71855790e+00,  2.36932195e-01, -6.45946128e-01],\n",
       "         [ 7.08776920e-01, -6.78027173e-01,  6.72694835e-01],\n",
       "         [-1.31934114e+00, -7.20137446e-01, -3.86059445e-01]],\n",
       "\n",
       "        [[ 6.69678494e-01, -1.44847737e-01, -1.00652804e-02],\n",
       "         [-2.97102645e-01,  6.52153777e-01, -1.12222840e+00],\n",
       "         [ 9.00011879e-01,  6.68867121e-01,  1.81631979e+00],\n",
       "         ...,\n",
       "         [-2.60634077e-01, -6.79852609e-01,  2.75488273e-01],\n",
       "         [-2.52509961e-01, -2.69394448e+00, -3.03272944e-01],\n",
       "         [-5.74449591e-01,  1.54854982e-01, -1.93927491e+00]],\n",
       "\n",
       "        ...,\n",
       "\n",
       "        [[-7.65494789e-01,  4.47878595e-01,  9.27781728e-01],\n",
       "         [ 2.23658445e-01,  1.36523335e+00,  2.83199491e-01],\n",
       "         [ 3.87270040e-01,  1.47559409e-01,  1.45525648e-01],\n",
       "         ...,\n",
       "         [-1.65468157e+00,  3.31301460e-01, -1.24268519e+00],\n",
       "         [-3.76255331e-01, -3.25394952e-01,  2.75626047e+00],\n",
       "         [ 2.56131141e-01, -2.00449045e-02, -3.04179486e-01]],\n",
       "\n",
       "        [[ 5.57658429e-01,  8.20159756e-01,  2.33345508e-02],\n",
       "         [ 1.51064877e+00, -1.43393694e+00,  2.26399191e-01],\n",
       "         [ 1.81702732e+00, -4.85585484e-01,  2.10108477e+00],\n",
       "         ...,\n",
       "         [-3.19181444e-01,  2.03880199e+00,  2.36163884e-01],\n",
       "         [ 1.17762642e+00,  5.62924081e-01, -7.75603577e-02],\n",
       "         [-1.02849510e+00, -1.44193902e+00,  9.17827420e-02]],\n",
       "\n",
       "        [[-4.72492954e-01, -1.84302909e-01, -1.23310092e+00],\n",
       "         [ 5.23063312e-02,  7.63031008e-01,  6.73958819e-01],\n",
       "         [-3.45019942e-01,  9.71794964e-01, -1.51179062e+00],\n",
       "         ...,\n",
       "         [ 8.96540657e-01,  2.04892658e+00, -3.82093597e-01],\n",
       "         [ 3.16843389e-01,  7.95040718e-01,  1.68923033e+00],\n",
       "         [ 1.11538954e+00,  3.62933677e-01, -1.33265430e+00]]],\n",
       "\n",
       "\n",
       "       [[[-5.11960718e-01, -5.94831795e-01,  4.34460561e-01],\n",
       "         [-1.71622541e+00, -2.52594523e+00, -3.19602649e-01],\n",
       "         [-2.03586219e+00, -1.40722480e+00, -1.48046652e+00],\n",
       "         ...,\n",
       "         [ 1.61839046e+00,  4.88394027e-01, -4.05649510e-01],\n",
       "         [-1.40008750e+00, -3.73900521e-01, -1.62612678e+00],\n",
       "         [ 2.93334618e-02, -7.68052176e-01,  4.91088825e-01]],\n",
       "\n",
       "        [[-2.97991058e-01, -4.19640013e-01,  6.48415719e-01],\n",
       "         [-4.68453913e-01, -2.91392569e-01, -1.33425065e+00],\n",
       "         [-1.22404770e-01,  8.95896756e-02, -8.88601102e-01],\n",
       "         ...,\n",
       "         [-3.68764050e-01, -2.09100077e+00, -7.58507227e-01],\n",
       "         [-4.93058374e-01,  2.63070116e-02, -4.42337535e-01],\n",
       "         [ 4.13974572e-01, -8.66954162e-01, -1.07366738e+00]],\n",
       "\n",
       "        [[ 7.95081897e-01,  3.65955562e-01,  8.58992032e-01],\n",
       "         [-1.72509093e-01,  3.33595205e-01,  1.90038695e-01],\n",
       "         [ 4.62302432e-01,  7.68074936e-01, -3.78983984e-01],\n",
       "         ...,\n",
       "         [-7.21952057e-01, -9.24298334e-01,  4.03226023e-01],\n",
       "         [ 1.64600239e+00,  1.29363541e+00, -6.28268420e-01],\n",
       "         [ 3.47012612e-01, -4.10022144e-01,  2.14276899e+00]],\n",
       "\n",
       "        ...,\n",
       "\n",
       "        [[-1.86066626e-01,  1.08915869e+00,  2.50430303e-01],\n",
       "         [-3.37100569e-01, -1.29644692e-01,  1.44865685e-02],\n",
       "         [ 5.34586724e-01, -6.25194363e-01,  4.16175491e-01],\n",
       "         ...,\n",
       "         [ 1.31861153e+00, -1.31744791e+00,  1.73194895e+00],\n",
       "         [ 3.70752383e-01, -9.06508957e-01,  2.14467274e+00],\n",
       "         [ 2.04898333e-01, -3.54953762e-01, -1.47562338e+00]],\n",
       "\n",
       "        [[ 2.92866952e-01, -2.81790148e-01,  1.20345755e+00],\n",
       "         [ 8.95624516e-01,  8.90610965e-01,  4.83661361e-01],\n",
       "         [ 4.89570600e-01, -1.65419771e+00,  7.31464711e-01],\n",
       "         ...,\n",
       "         [ 6.32273955e-01,  1.50713465e+00, -5.11990085e-01],\n",
       "         [ 2.42223099e-01,  1.97235547e+00,  3.39560776e-01],\n",
       "         [ 2.29841791e-01, -5.46495995e-01,  6.39445909e-01]],\n",
       "\n",
       "        [[ 1.48975692e+00, -1.29721090e+00,  1.97357272e+00],\n",
       "         [-1.42223253e+00,  6.07603751e-02, -1.03862761e+00],\n",
       "         [-6.94682560e-01, -1.45240090e-01,  1.59592195e-01],\n",
       "         ...,\n",
       "         [ 2.43749542e-01, -5.41847469e-01, -3.98771570e-01],\n",
       "         [-2.31530154e-01,  7.05919636e-02,  2.76658801e-01],\n",
       "         [ 5.04593231e-02, -9.92176406e-02,  4.24968890e-03]]],\n",
       "\n",
       "\n",
       "       ...,\n",
       "\n",
       "\n",
       "       [[[ 9.53810611e-01, -7.34446709e-01,  4.64036102e-01],\n",
       "         [ 1.05025728e+00,  9.68642169e-01,  9.10333132e-01],\n",
       "         [ 5.04951327e-01,  1.26837089e+00, -1.79744383e+00],\n",
       "         ...,\n",
       "         [ 1.82518961e+00, -1.98413983e+00, -2.02345709e+00],\n",
       "         [-2.17550489e-01, -9.10569458e-01, -1.33181006e+00],\n",
       "         [ 2.11437626e+00, -1.43683341e+00,  2.83167350e-01]],\n",
       "\n",
       "        [[ 5.02410548e-01,  7.72276878e-01, -3.09512346e-01],\n",
       "         [-1.40515943e+00, -8.00427865e-01, -5.45177656e-01],\n",
       "         [-6.22741468e-01, -5.81710157e-01, -1.14924158e-01],\n",
       "         ...,\n",
       "         [-1.65343809e+00, -6.10491428e-01, -1.21343725e-01],\n",
       "         [-5.80427116e-01,  1.57598673e-01, -1.84576930e-01],\n",
       "         [-8.79908230e-01,  9.55256388e-01, -2.56202511e-01]],\n",
       "\n",
       "        [[-1.62691098e-01,  7.57969005e-01,  4.31622742e-01],\n",
       "         [ 3.48066598e-01,  7.90947361e-01,  4.67049516e-01],\n",
       "         [-2.12568886e+00, -1.00181235e+00, -2.04146247e-01],\n",
       "         ...,\n",
       "         [-2.62584358e-01,  1.09160960e+00, -2.00954221e+00],\n",
       "         [ 8.96323381e-02, -7.74871124e-01,  1.27332171e+00],\n",
       "         [ 7.77618524e-01, -3.30316813e-01,  2.42108842e-01]],\n",
       "\n",
       "        ...,\n",
       "\n",
       "        [[-3.23711921e-01, -1.02583281e+00,  7.16616862e-02],\n",
       "         [ 4.60809589e-02,  1.45649028e+00,  1.32206769e+00],\n",
       "         [ 5.23854421e-01, -1.00633570e-01,  2.07797885e-02],\n",
       "         ...,\n",
       "         [-2.55256440e-01, -1.65274016e+00,  1.58991638e+00],\n",
       "         [ 3.79099088e-01,  5.39751801e-01,  2.08406275e+00],\n",
       "         [ 3.54883450e-01, -9.46631625e-01, -8.36442982e-02]],\n",
       "\n",
       "        [[ 8.70264415e-01, -9.99083500e-02,  1.66661931e+00],\n",
       "         [-7.80263076e-01, -1.00581073e-01, -1.08853133e+00],\n",
       "         [ 9.02408126e-01,  5.20311021e-01, -7.27253183e-01],\n",
       "         ...,\n",
       "         [ 5.56135826e-01,  1.50950878e+00,  2.99640395e-01],\n",
       "         [-3.54032468e+00,  1.77246297e-01,  9.30149775e-01],\n",
       "         [-7.70063829e-01,  5.96408643e-01, -1.03051311e+00]],\n",
       "\n",
       "        [[-1.27338337e+00,  1.59776464e-01,  4.13255940e-01],\n",
       "         [ 5.95521097e-01,  7.48854483e-01, -7.37267022e-01],\n",
       "         [-7.25275375e-02,  2.18228101e+00,  1.47186045e+00],\n",
       "         ...,\n",
       "         [ 1.12471018e+00,  3.22302484e-01, -3.46713827e-02],\n",
       "         [ 3.71263996e-01,  8.38355376e-01, -1.47453074e+00],\n",
       "         [-5.69559103e-01, -1.71009845e+00,  2.03485637e-01]]],\n",
       "\n",
       "\n",
       "       [[[ 1.89499814e-01, -8.60241211e-01, -1.55893364e+00],\n",
       "         [-1.13109746e-01, -7.83835410e-01, -1.66043915e-01],\n",
       "         [ 7.75251815e-01,  9.84578712e-02,  1.45022783e+00],\n",
       "         ...,\n",
       "         [-5.85761572e-01,  3.65446373e-01,  2.96106802e-01],\n",
       "         [-1.84265012e-01, -1.14843739e+00,  3.33879813e-01],\n",
       "         [-1.07453903e-01, -1.25600930e+00,  1.48330970e-01]],\n",
       "\n",
       "        [[ 3.39503106e-01, -1.66241370e+00, -7.55008315e-01],\n",
       "         [ 8.01806796e-01, -9.01339874e-02, -7.86109917e-01],\n",
       "         [ 5.49624839e-01, -2.61323459e-01, -5.13828727e-01],\n",
       "         ...,\n",
       "         [ 1.28671734e-03,  2.83460349e-01, -2.21363775e+00],\n",
       "         [-6.46842541e-01, -4.42395164e-01,  9.40924969e-01],\n",
       "         [ 6.53537900e-02, -1.87950937e+00, -4.99786168e-01]],\n",
       "\n",
       "        [[ 7.03129535e-01,  3.96747975e-01,  1.87944510e+00],\n",
       "         [ 1.43291580e+00,  1.12827594e-01, -1.36299074e+00],\n",
       "         [-2.33729189e-01,  1.15710657e+00,  5.03234283e-01],\n",
       "         ...,\n",
       "         [-5.65672383e-01, -1.09909786e+00,  6.83690533e-01],\n",
       "         [ 3.03883049e-01, -1.95184186e+00, -1.22782510e+00],\n",
       "         [ 3.05586372e-01, -2.60499920e+00, -1.10605108e+00]],\n",
       "\n",
       "        ...,\n",
       "\n",
       "        [[-2.15639385e+00, -6.06928759e-01,  5.66830665e-02],\n",
       "         [ 9.93202806e-01, -2.18082325e-01, -1.36406228e-01],\n",
       "         [ 1.91197793e+00, -3.91957941e-01, -3.38291652e-01],\n",
       "         ...,\n",
       "         [-1.24554632e+00, -1.32165211e-01,  1.12826938e+00],\n",
       "         [ 1.81085026e+00,  6.50643009e-01, -2.01914460e+00],\n",
       "         [ 3.68076986e-01, -4.92356908e-01,  8.34803391e-01]],\n",
       "\n",
       "        [[-1.34051928e+00,  5.24950895e-01,  4.68383791e-01],\n",
       "         [-4.41532100e-01,  1.68299245e-01, -7.08471786e-01],\n",
       "         [ 9.31367750e-01,  1.08890605e+00, -1.94550181e+00],\n",
       "         ...,\n",
       "         [ 8.95502273e-01, -3.07294613e-01,  4.53507744e-01],\n",
       "         [ 8.50302949e-01, -8.90935638e-02, -7.57955372e-01],\n",
       "         [-4.01953503e-01,  1.74876923e+00, -3.67837294e-01]],\n",
       "\n",
       "        [[ 6.92760041e-01,  6.50685478e-01, -2.22597390e+00],\n",
       "         [-1.60511915e+00, -3.31380040e-01, -1.62161485e+00],\n",
       "         [ 4.03824468e-02,  7.35678971e-02,  2.18972565e-01],\n",
       "         ...,\n",
       "         [-2.01166540e-03, -3.80270732e-01,  1.21097571e+00],\n",
       "         [ 1.39452547e+00, -3.63896991e-01, -1.24297418e+00],\n",
       "         [-2.42142959e-01, -7.60059664e-01, -1.43244897e+00]]],\n",
       "\n",
       "\n",
       "       [[[-1.47141694e+00,  1.14698057e+00, -2.51775048e-01],\n",
       "         [-4.33332237e-01, -5.06097140e-01, -1.84549607e-01],\n",
       "         [-8.88574346e-02, -4.43581477e-01,  2.32999306e-01],\n",
       "         ...,\n",
       "         [ 3.24480221e-01, -2.00637678e+00,  9.41413486e-01],\n",
       "         [ 1.35512533e+00, -1.09884355e+00, -4.10571795e-01],\n",
       "         [-1.01351958e+00,  3.63843636e-01,  1.31917936e+00]],\n",
       "\n",
       "        [[ 4.02154580e-01, -6.04672545e-01, -4.97982944e-01],\n",
       "         [-7.54584936e-01, -1.53696240e+00, -5.63246325e-01],\n",
       "         [-3.05018805e-01,  3.65294068e-01, -2.36686912e+00],\n",
       "         ...,\n",
       "         [-6.69116726e-01, -8.36911334e-01, -9.90174977e-01],\n",
       "         [ 1.74565817e+00, -1.05746850e+00, -3.89283132e-01],\n",
       "         [-2.95857061e-01, -2.68449766e-01, -1.09442703e+00]],\n",
       "\n",
       "        [[-6.78931272e-01,  2.24124780e-02, -4.32414984e-01],\n",
       "         [ 1.32593487e+00, -1.11179607e+00,  7.64264521e-01],\n",
       "         [-2.57647393e-01,  9.38670955e-01,  2.48750359e-01],\n",
       "         ...,\n",
       "         [ 1.11011961e+00, -9.22708803e-01, -3.80140026e-02],\n",
       "         [ 1.24862213e+00,  2.26220141e+00, -1.05431350e+00],\n",
       "         [-9.41321741e-01,  2.87709443e-01, -1.86896807e+00]],\n",
       "\n",
       "        ...,\n",
       "\n",
       "        [[ 1.37763478e+00,  7.90615349e-01,  1.98014436e-02],\n",
       "         [-2.99149200e-01, -1.69560688e+00,  1.75093108e+00],\n",
       "         [-1.11383430e+00, -8.46891231e-01, -1.04850543e+00],\n",
       "         ...,\n",
       "         [-9.40863570e-01, -3.07958569e-01, -7.13451599e-01],\n",
       "         [-1.55588336e+00, -1.85198435e+00,  1.04056329e+00],\n",
       "         [ 1.66122485e+00, -1.34406757e+00, -5.52158909e-01]],\n",
       "\n",
       "        [[-3.65009275e-01,  2.11266658e-02, -6.72376775e-02],\n",
       "         [ 1.52927948e+00,  4.58029743e-02, -7.56404670e-01],\n",
       "         [-8.79171626e-02, -9.31678752e-02,  1.27659180e+00],\n",
       "         ...,\n",
       "         [-9.15160206e-01, -4.58091432e-01, -9.35209036e-01],\n",
       "         [-2.03522366e-02, -1.71925381e+00, -1.48671205e+00],\n",
       "         [-7.01434565e-01, -1.75809883e+00,  1.13239105e+00]],\n",
       "\n",
       "        [[ 1.26227099e-01,  1.34116743e+00, -2.75464914e-01],\n",
       "         [ 1.21554447e+00, -1.19104866e+00,  5.54013454e-01],\n",
       "         [-2.39686342e+00, -7.58623313e-01,  1.44372950e+00],\n",
       "         ...,\n",
       "         [ 9.74619528e-01,  1.84863130e+00,  1.24759233e+00],\n",
       "         [ 2.29850593e-02,  1.12926456e+00,  1.45584312e+00],\n",
       "         [ 1.13577063e-01,  1.65185789e+00, -1.15997469e+00]]]])"
      ]
     },
     "execution_count": 47,
     "metadata": {},
     "output_type": "execute_result"
    }
   ],
   "source": [
    "# Create Dummy Data\n",
    "image = np.random.randn(128, 256, 256, 3)\n",
    "image"
   ]
  },
  {
   "cell_type": "markdown",
   "metadata": {},
   "source": [
    "- height, width, and color depth.\n",
    "- samples, width,height,chanel (TensorFlow)\n"
   ]
  },
  {
   "cell_type": "code",
   "execution_count": 49,
   "metadata": {},
   "outputs": [
    {
     "data": {
      "text/plain": [
       "array([[[[-0.28951608, -0.51137274,  1.29270207],\n",
       "         [ 0.40699155, -0.49992044,  0.6154083 ],\n",
       "         [-0.25954697,  0.00805565,  0.44374543],\n",
       "         ...,\n",
       "         [ 0.96918629, -0.77704637,  1.40843903],\n",
       "         [-0.03938198, -0.18046141,  0.22175316],\n",
       "         [-1.04848133,  0.69854102, -0.09423413]],\n",
       "\n",
       "        [[-1.20981414, -0.19589459, -1.26138927],\n",
       "         [-0.7733824 ,  0.54623093,  0.28721401],\n",
       "         [ 0.3746943 ,  0.89980167,  1.61705483],\n",
       "         ...,\n",
       "         [ 0.57036952,  1.23359489,  1.65596626],\n",
       "         [-0.62577311,  1.95459483, -0.37619882],\n",
       "         [ 0.07449669,  0.64760072, -0.49564169]],\n",
       "\n",
       "        [[-0.0133743 ,  1.14604145,  0.1062289 ],\n",
       "         [ 0.81908082, -0.13675169,  0.00831016],\n",
       "         [-0.19064037,  0.22369927, -2.22835922],\n",
       "         ...,\n",
       "         [-1.57699445, -1.0053116 , -0.20711721],\n",
       "         [ 0.05168046,  0.83185636,  0.13972707],\n",
       "         [ 0.29779516,  0.37544165, -0.8169395 ]],\n",
       "\n",
       "        ...,\n",
       "\n",
       "        [[ 1.65089853,  0.89350197, -0.74032854],\n",
       "         [ 2.25112643,  1.51998694,  1.16125682],\n",
       "         [-1.06392373,  0.3086309 ,  0.50903815],\n",
       "         ...,\n",
       "         [ 0.74547737, -0.66144521,  1.064057  ],\n",
       "         [ 0.15054008, -1.38610175,  0.37802292],\n",
       "         [-0.67267961, -0.0080813 ,  0.3184807 ]],\n",
       "\n",
       "        [[-0.40679293, -0.96398291,  0.64877324],\n",
       "         [-1.46043716,  2.13859604, -1.37397876],\n",
       "         [ 0.71334679, -0.06780669,  0.52113201],\n",
       "         ...,\n",
       "         [ 1.24154838, -0.16937087,  1.75903559],\n",
       "         [-0.50848855, -0.96542323,  0.95341042],\n",
       "         [ 0.41758744, -0.77091798, -1.25572539]],\n",
       "\n",
       "        [[ 3.11208228, -1.98308089, -1.20779816],\n",
       "         [-0.05778231,  1.08022466,  1.1277667 ],\n",
       "         [ 1.14961476,  0.03678369,  1.52548307],\n",
       "         ...,\n",
       "         [-0.95780651,  1.92733353,  1.18055502],\n",
       "         [ 1.09469999, -0.70196364, -0.87910993],\n",
       "         [-1.44501891,  0.7159488 , -1.80626046]]]])"
      ]
     },
     "execution_count": 49,
     "metadata": {},
     "output_type": "execute_result"
    }
   ],
   "source": [
    "data = np.random.randn(128, 256, 256, 3)\n",
    "data[:1]"
   ]
  },
  {
   "cell_type": "markdown",
   "metadata": {},
   "source": [
    "## 2.2.12 Video data"
   ]
  },
  {
   "cell_type": "markdown",
   "metadata": {},
   "source": [
    "- (samples, frames, height, width, color_depth)"
   ]
  },
  {
   "cell_type": "markdown",
   "metadata": {},
   "source": [
    "# 2.3 The gears of neural networks: tensor operations"
   ]
  },
  {
   "cell_type": "markdown",
   "metadata": {},
   "source": [
    " In our initial example, we were building our network by stacking Dense layers on\n",
    "top of each other. A Keras layer instance looks like this:"
   ]
  },
  {
   "cell_type": "code",
   "execution_count": 52,
   "metadata": {},
   "outputs": [
    {
     "data": {
      "text/plain": [
       "<keras.layers.core.Dense at 0x17fc5dec860>"
      ]
     },
     "execution_count": 52,
     "metadata": {},
     "output_type": "execute_result"
    }
   ],
   "source": [
    "import keras\n",
    "keras.layers.Dense(512, activation='relu')"
   ]
  },
  {
   "cell_type": "code",
   "execution_count": 53,
   "metadata": {
    "collapsed": true
   },
   "outputs": [],
   "source": [
    "def naive_relu(x):\n",
    "    assert len(x.shape) == 2\n",
    "    x = x.copy()\n",
    "    for i in range(x.shape[0]):\n",
    "        for j in range(x.shape[1]):\n",
    "            x[i, j] = max(x[i, j], 0)\n",
    "    return x"
   ]
  },
  {
   "cell_type": "code",
   "execution_count": 54,
   "metadata": {
    "collapsed": true
   },
   "outputs": [],
   "source": [
    "def naive_add(x, y):\n",
    "    assert len(x.shape) == 2\n",
    "    assert x.shape == y.shape\n",
    "    \n",
    "    x = x.copy()\n",
    "    for i in range(x.shape[0]):\n",
    "        for j in range(x.shape[1]):\n",
    "            x[i, j] += y[i, j]\n",
    "    return x"
   ]
  },
  {
   "cell_type": "markdown",
   "metadata": {},
   "source": [
    "So, in Numpy, you can do the following element-wise operation, and it will be blazing\n",
    "fast:\n"
   ]
  },
  {
   "cell_type": "raw",
   "metadata": {},
   "source": [
    "import numpy as np\n",
    "z=x+y\n",
    "z = np.maximum(z, 0.)"
   ]
  },
  {
   "cell_type": "markdown",
   "metadata": {},
   "source": [
    "# 2.3.2 Broadcasting"
   ]
  },
  {
   "cell_type": "markdown",
   "metadata": {},
   "source": [
    "the smaller tensor will be broadcasted to\n",
    "match the shape of the larger tensor.\n",
    "- Axes (called broadcast axes) are added to the smaller tensor to match the ndim of\n",
    "the larger tensor.\n",
    "- Axes (called broadcast axes) are added to the smaller tensor to match the ndim of\n",
    "the larger tensor.\n",
    "    - `X shape (32,10) <br> y shape (10,)<br> (1,10)<br>(32, 10), where Y[i, :] == y for i in range(0, 32)"
   ]
  },
  {
   "cell_type": "code",
   "execution_count": 56,
   "metadata": {
    "collapsed": true
   },
   "outputs": [],
   "source": [
    "def naive_add_matrix_and_vector(x, y):\n",
    "    assert len(x.shape) == 2\n",
    "    assert len(y.shape) == 1\n",
    "    assert x.shape[1] == y.shape[0]\n",
    "    x = x.copy()\n",
    "    for i in range(x.shape[0]):\n",
    "        for j in range(x.shape[1]):\n",
    "            x[i, j] += y[j]\n",
    "    return x"
   ]
  },
  {
   "cell_type": "code",
   "execution_count": 59,
   "metadata": {},
   "outputs": [],
   "source": [
    "import numpy as np\n",
    "x = np.random.random((64, 3, 32, 10))\n",
    "y = np.random.random((32, 10))\n",
    "z = np.maximum(x, y)\n"
   ]
  },
  {
   "cell_type": "markdown",
   "metadata": {},
   "source": [
    "The output z has shape\n",
    "(64, 3, 32, 10) like x."
   ]
  },
  {
   "cell_type": "markdown",
   "metadata": {},
   "source": [
    "## 2.3.3 Tensor dot"
   ]
  },
  {
   "cell_type": "markdown",
   "metadata": {},
   "source": [
    "The dot operation, also called a tensor product (not to be confused with an elementwise\n",
    "product) is the most common"
   ]
  },
  {
   "cell_type": "code",
   "execution_count": 67,
   "metadata": {},
   "outputs": [
    {
     "name": "stdout",
     "output_type": "stream",
     "text": [
      "[ 0.17646738 -0.89400441 -0.54967337  0.54841769  1.75690965  0.48839138\n",
      "  0.888823    0.61491143  0.63874839  1.23332906]\n",
      "[ 0.19196151 -0.33457981 -0.43458082 -0.54546195 -1.07526243 -0.48268035\n",
      "  1.58367326  0.63278868  0.05475148  2.30346012]\n"
     ]
    },
    {
     "data": {
      "text/plain": [
       "2.8204623807329767"
      ]
     },
     "execution_count": 67,
     "metadata": {},
     "output_type": "execute_result"
    }
   ],
   "source": [
    "import numpy as np\n",
    "x = np.random.randn(10)\n",
    "y = np.random.randn(10)\n",
    "z = np.dot(x, y)\n",
    "print(x)\n",
    "print(yIn mathematical notation, you’d note the operation with a dot (.):)\n",
    "z"
   ]
  },
  {
   "cell_type": "markdown",
   "metadata": {},
   "source": [
    "In mathematical notation, you’d note the operation with a dot (.):"
   ]
  },
  {
   "cell_type": "code",
   "execution_count": 71,
   "metadata": {},
   "outputs": [],
   "source": [
    "# z = x . y\n",
    "\n",
    "def naive_vector_dot(x, y):\n",
    "    assert len(x.shape) == 1\n",
    "    assert len(y.shape) == 1\n",
    "    assert x.shape[0] == y.shape[0]\n",
    "    \n",
    "    z = 0.\n",
    "    for i in range(x.shape[0]):\n",
    "        z += x[i] * y[i]\n",
    "    return z\n"
   ]
  },
  {
   "cell_type": "code",
   "execution_count": 72,
   "metadata": {
    "collapsed": true
   },
   "outputs": [],
   "source": [
    "import numpy as np\n",
    "def naive_matrix_vector_dot(x, y):\n",
    "    assert len(x.shape) == 2\n",
    "    assert len(y.shape) == 1\n",
    "    assert x.shape[1] == y.shape[0]\n",
    "    z = np.zeros(x.shape[0])\n",
    "    for i in range(x.shape[0]):\n",
    "        for j in range(x.shape[1]):\n",
    "            z[i] += x[i, j] * y[j]\n",
    "    return z"
   ]
  },
  {
   "cell_type": "markdown",
   "metadata": {},
   "source": [
    "You could also reuse the code we wrote previously, which highlights the relationship\n",
    "between a matrix-vector product and a vector product:"
   ]
  },
  {
   "cell_type": "code",
   "execution_count": 73,
   "metadata": {
    "collapsed": true
   },
   "outputs": [],
   "source": [
    "def naive_matrix_vector_dot(x, y):\n",
    "    z = np.zeros(x.shape[0])\n",
    "    for i in range(x.shape[0]):\n",
    "        z[i] = naive_vector_dot(x[i, :], y)\n",
    "    return z"
   ]
  },
  {
   "cell_type": "code",
   "execution_count": 75,
   "metadata": {},
   "outputs": [],
   "source": [
    "def naive_matrix_dot(x, y):\n",
    "    assert len(x.shape) == 2\n",
    "    assert len(y.shape) == 2\n",
    "    assert x.shape[1] == y.shape[0]\n",
    "    z = np.zeros((x.shape[0], y.shape[1]))\n",
    "    for i in range(x.shape[0]):\n",
    "        for j in range(y.shape[1]):\n",
    "            row_x = x[i, :]\n",
    "            column_y = y[:, j]\n",
    "            z[i, j] = naive_vector_dot(row_x, column_y)\n",
    "    return z"
   ]
  },
  {
   "cell_type": "markdown",
   "metadata": {},
   "source": [
    "<img src='images/f2.5.png'>"
   ]
  },
  {
   "cell_type": "markdown",
   "metadata": {},
   "source": [
    "More generally, you can take the dot product between higher-dimensional tensors,\n",
    "following the same rules for shape compatibility as outlined earlier for the 2D case:\n",
    "```\n",
    "(a, b, c, d) . (d,) -> (a, b, c)\n",
    "(a, b, c, d) . (d, e) -> (a, b, c, e)\n",
    "```"
   ]
  },
  {
   "cell_type": "markdown",
   "metadata": {},
   "source": [
    "## 2.3.4 Tensor reshaping"
   ]
  },
  {
   "cell_type": "markdown",
   "metadata": {},
   "source": [
    " preprocessed the digits data before feeding it into our network\n",
    "```train_images = train_images.reshape((60000, 28 * 28)) ```"
   ]
  },
  {
   "cell_type": "code",
   "execution_count": 76,
   "metadata": {
    "collapsed": true
   },
   "outputs": [],
   "source": [
    "x = np.array([[0., 1.],\n",
    "[2., 3.],\n",
    "[4., 5.]])"
   ]
  },
  {
   "cell_type": "code",
   "execution_count": 77,
   "metadata": {},
   "outputs": [
    {
     "name": "stdout",
     "output_type": "stream",
     "text": [
      "(3, 2)\n"
     ]
    }
   ],
   "source": [
    " print(x.shape)"
   ]
  },
  {
   "cell_type": "code",
   "execution_count": 78,
   "metadata": {},
   "outputs": [
    {
     "data": {
      "text/plain": [
       "array([[0., 1., 2., 3., 4., 5.]])"
      ]
     },
     "execution_count": 78,
     "metadata": {},
     "output_type": "execute_result"
    }
   ],
   "source": [
    "x = x.reshape(1,6)\n",
    "x"
   ]
  },
  {
   "cell_type": "code",
   "execution_count": 80,
   "metadata": {},
   "outputs": [
    {
     "data": {
      "text/plain": [
       "array([[0.],\n",
       "       [1.],\n",
       "       [2.],\n",
       "       [3.],\n",
       "       [4.],\n",
       "       [5.]])"
      ]
     },
     "execution_count": 80,
     "metadata": {},
     "output_type": "execute_result"
    }
   ],
   "source": [
    "x = x.reshape(6,1)\n",
    "x"
   ]
  },
  {
   "cell_type": "code",
   "execution_count": 81,
   "metadata": {},
   "outputs": [
    {
     "name": "stdout",
     "output_type": "stream",
     "text": [
      "(20, 300)\n"
     ]
    }
   ],
   "source": [
    "x = np.zeros((300, 20))\n",
    "x = np.transpose(x)\n",
    "print(x.shape)"
   ]
  },
  {
   "cell_type": "markdown",
   "metadata": {},
   "source": [
    "## Geometric interpretation of tensor operations"
   ]
  },
  {
   "cell_type": "markdown",
   "metadata": {},
   "source": [
    "For instance, let’s consider addition. We’ll start with the following\n",
    "vector:\n",
    "` A = [0.5, 1]`\n",
    "<img src='images/f2.6.png'>"
   ]
  },
  {
   "cell_type": "markdown",
   "metadata": {},
   "source": [
    "Let’s consider a new point, B = [1, 0.25],\n",
    " the resulting location\n",
    "being the vector representing the sum of the previous two vectors (see figure 2.8).<img src='images/f2.8.png'>"
   ]
  },
  {
   "cell_type": "markdown",
   "metadata": {},
   "source": [
    "In general, elementary geometric operations such as affine transformations, rotations,\n",
    "scaling, and so on can be expressed as tensor operations. For instance, a rotation of a\n",
    "2D vector by an angle theta can be achieved via a dot product with a 2 × 2 matrix\n",
    "R = [u, v], where u and v are both vectors of the plane: u = [cos(theta),\n",
    "sin(theta)] and v = [-sin(theta), cos(theta)]. "
   ]
  },
  {
   "cell_type": "markdown",
   "metadata": {},
   "source": [
    "## 2.3.6 A geometric interpretation of deep learning"
   ]
  },
  {
   "cell_type": "markdown",
   "metadata": {},
   "source": [
    "<img src='images/f2.9.png'>\n",
    " Each layer in a deep network applies a transformation that\n",
    "disentangles the data a little—and a deep stack of layers makes tractable an extremely\n",
    "complicated disentanglement process. "
   ]
  },
  {
   "cell_type": "markdown",
   "metadata": {},
   "source": [
    "## 2.4 The engine of neural networks:<br>gradient-based optimization"
   ]
  },
  {
   "cell_type": "raw",
   "metadata": {},
   "source": [
    "This happens within what’s called a training loop, which works as follows. Repeat\n",
    "these steps in a loop, as long as necessary:\n",
    "1 Draw a batch of training samples x and corresponding targets y.\n",
    "2 Run the network on x (a step called the forward pass) to obtain predictions y_pred.\n",
    "3 Compute the loss of the network on the batch, a measure of the mismatch\n",
    "between y_pred and y.\n",
    "4 Update all weights of the network in a way that slightly reduces the loss on this\n",
    "batch."
   ]
  },
  {
   "cell_type": "markdown",
   "metadata": {},
   "source": [
    "## 2.4.1 What’s a derivative?"
   ]
  },
  {
   "cell_type": "markdown",
   "metadata": {},
   "source": [
    "```\n",
    "f(x + epsilon_x) = y + epsilon_y\n",
    "f(x + epsilon_x) = y + a * epsilon_x\n",
    "```\n",
    "Obviously, this linear approximation is valid only when x is close enough to p.\n",
    " The slope a is called the derivative of f in p. If a is negative, it means a small change\n",
    "of x around p will result in a decrease of f(x) (as shown in figure 2.10); and if a is positive,\n",
    "a small change in x will result in an increase of f(x). Further, the absolute value\n",
    "of a (the magnitude of the derivative) tells you how quickly this increase or decrease\n",
    "will happen.\n",
    "<img src='images/f2.10.png'>\n",
    " If you’re trying to update x by a factor epsilon_x in order to minimize f(x), and\n",
    "you know the derivative of f, then your job is done: the derivative completely\n",
    "describes how f(x) evolves as you change x. If you want to reduce the value of f(x),\n",
    "you just need to move x a little in the opposite direction from the derivative. "
   ]
  },
  {
   "cell_type": "markdown",
   "metadata": {},
   "source": [
    "## 2.4.2 Derivative of a tensor operation: the gradient"
   ]
  },
  {
   "cell_type": "markdown",
   "metadata": {},
   "source": [
    " Consider an input vector x, a matrix W, a target y, and a loss function loss. You can\n",
    "use W to compute a target candidate y_pred, and compute the loss, or mismatch,\n",
    "between the target candidate y_pred and the target y:\n",
    "<br>`y_pred = dot(W, x)`<br>\n",
    "`loss_value = loss(y_pred, y)`<br>\n",
    "If the data inputs x and y are frozen, then this can be interpreted as a function mapping\n",
    "values of W to loss values:<br>\n",
    "`loss_value = f(W)`"
   ]
  },
  {
   "cell_type": "markdown",
   "metadata": {},
   "source": [
    "## 2.4.3 Stochastic gradient descent"
   ]
  },
  {
   "cell_type": "markdown",
   "metadata": {},
   "source": [
    "1. Draw a batch of training samples x and corresponding targets y.\n",
    "2. Run the network on x to obtain predictions y_pred.\n",
    "3. Compute the loss of the network on the batch, a measure of the mismatch\n",
    "between y_pred and y.\n",
    "4. Compute the gradient of the loss with regard to the network’s parameters (a\n",
    "backward pass).\n",
    "5. Move the parameters a little in the opposite direction from the gradient—for\n",
    "example W -= step * gradient—thus reducing the loss on the batch a bit.\n",
    "<img src='images/f2.11.png'>\n",
    "<img src='images/f2.12.png'>\n",
    "<img src='images/f2.13.png'>"
   ]
  },
  {
   "cell_type": "raw",
   "metadata": {},
   "source": [
    "past_velocity = 0.\n",
    "momentum = 0.1\n",
    "while loss > 0.01:\n",
    "    w, loss, gradient = get_current_parameters()\n",
    "    velocity = past_velocity * momentum + learning_rate * gradient\n",
    "    w=w+ momentum * velocity - learning_rate * gradient\n",
    "    past_velocity = velocity\n",
    "    update_parameter(w)"
   ]
  },
  {
   "cell_type": "markdown",
   "metadata": {},
   "source": [
    "## 2.4.4 Chaining derivatives: the Backpropagation algorithm"
   ]
  },
  {
   "cell_type": "markdown",
   "metadata": {},
   "source": [
    "three tensor operations,\n",
    "a, b, and c, with weight matrices W1, W2, and W3:\n",
    "`f(W1, W2, W3) = a(W1, b(W2, c(W3)))`\n",
    "Calculus tells us that such a chain of functions can be derived using the following identity,\n",
    "called the chain rule: `f(g(x)) = f'(g(x)) * g'(x)`. Applying the chain rule to the\n",
    "computation of the gradient values of a neural network gives rise to an algorithm\n",
    "called Backpropagation (also sometimes called reverse-mode differentiation). Backpropagation\n",
    "starts with the final loss value and works backward from the top layers to the bottom\n",
    "layers, applying the chain rule to compute the contribution that each parameter\n",
    "had in the loss value."
   ]
  },
  {
   "cell_type": "markdown",
   "metadata": {},
   "source": [
    "## 2.5 Looking back at our first example"
   ]
  },
  {
   "cell_type": "markdown",
   "metadata": {},
   "source": [
    "You’ve reached the end of this chapter, and you should now have a general understanding\n",
    "of what’s going on behind the scenes in a neural network. Let’s go back to\n",
    "the first example and review each piece of it in the light of what you’ve learned in the\n",
    "previous three sections.\n",
    " This was the input data:\n"
   ]
  },
  {
   "cell_type": "code",
   "execution_count": 103,
   "metadata": {
    "collapsed": true
   },
   "outputs": [],
   "source": [
    "(train_images, train_labels), (test_images, test_labels) = mnist.load_data()\n",
    "train_images = train_images.reshape((60000, 28 * 28))\n",
    "train_images = train_images.astype('float32') / 255\n",
    "test_images = test_images.reshape((10000, 28 * 28))\n",
    "test_images = test_images.astype('float32') / 255\n",
    "\n",
    "\n",
    "from keras.utils import to_categorical\n",
    "train_labels = to_categorical(train_labels)\n",
    "test_labels = to_categorical(test_labels)"
   ]
  },
  {
   "cell_type": "markdown",
   "metadata": {},
   "source": [
    "Now you understand that the input images are stored in Numpy tensors, which are\n",
    "here formatted as float32 tensors of shape (60000, 784) (training data) and (10000,\n",
    "784) (test data), respectively.\n",
    " This was our network:"
   ]
  },
  {
   "cell_type": "code",
   "execution_count": 104,
   "metadata": {
    "collapsed": true
   },
   "outputs": [],
   "source": [
    "network = models.Sequential()\n",
    "network.add(layers.Dense(512, activation='relu', input_shape=(28 * 28,)))\n",
    "network.add(layers.Dense(10, activation='softmax'))"
   ]
  },
  {
   "cell_type": "markdown",
   "metadata": {},
   "source": [
    "Now you understand that this network consists of a chain of two Dense layers, that\n",
    "each layer applies a few simple tensor operations to the input data, and that these\n",
    "operations involve weight tensors. Weight tensors, which are attributes of the layers,\n",
    "are where the knowledge of the network persists.\n",
    " This was the network-compilation step:\n"
   ]
  },
  {
   "cell_type": "code",
   "execution_count": 105,
   "metadata": {
    "collapsed": true
   },
   "outputs": [],
   "source": [
    "network.compile(optimizer='rmsprop',\n",
    "                loss='categorical_crossentropy',\n",
    "                metrics=['accuracy'])\n"
   ]
  },
  {
   "cell_type": "code",
   "execution_count": 107,
   "metadata": {},
   "outputs": [
    {
     "name": "stdout",
     "output_type": "stream",
     "text": [
      "Epoch 1/5\n",
      "60000/60000 [==============================] - 9s - loss: 0.2559 - acc: 0.9250     \n",
      "Epoch 2/5\n",
      "60000/60000 [==============================] - 8s - loss: 0.1051 - acc: 0.9683     \n",
      "Epoch 3/5\n",
      "60000/60000 [==============================] - 8s - loss: 0.0696 - acc: 0.9788     \n",
      "Epoch 4/5\n",
      "60000/60000 [==============================] - 9s - loss: 0.0505 - acc: 0.9845     \n",
      "Epoch 5/5\n",
      "60000/60000 [==============================] - 8s - loss: 0.0380 - acc: 0.9882     \n"
     ]
    },
    {
     "data": {
      "text/plain": [
       "(60000, 784)"
      ]
     },
     "execution_count": 107,
     "metadata": {},
     "output_type": "execute_result"
    }
   ],
   "source": [
    "network.fit(train_images, train_labels, epochs=5, batch_size=128)\n",
    "#train_images.shape\n",
    "#train_labels.shape"
   ]
  },
  {
   "cell_type": "markdown",
   "metadata": {},
   "source": [
    "# Chapter summary\n",
    "1. Learning means finding a combination of model parameters that minimizes\n",
    "a loss function for a given set of training data samples and their corresponding\n",
    "targets.\n",
    "2. Learning happens by drawing random batches of data samples and their\n",
    "targets, and computing the gradient of the network parameters with\n",
    "respect to the loss on the batch. The network parameters are then moved\n",
    "a bit (the magnitude of the move is defined by the learning rate) in the\n",
    "opposite direction from the gradient.\n",
    "3. The entire learning process is made possible by the fact that neural networks\n",
    "are chains of differentiable tensor operations, and thus it’s possible\n",
    "to apply the chain rule of derivation to find the gradient function mapping\n",
    "the current parameters and current batch of data to a gradient value.\n",
    "4. Two key concepts you’ll see frequently in future chapters are loss and optimizers.\n",
    "These are the two things you need to define before you begin feeding\n",
    "data into a network.\n",
    "5. The loss is the quantity you’ll attempt to minimize during training, so it\n",
    "should represent a measure of success for the task you’re trying to solve.\n",
    "6. The optimizer specifies the exact way in which the gradient of the loss will\n",
    "be used to update parameters: for instance, it could be the RMSProp optimizer,\n",
    "SGD with momentum, and so on."
   ]
  }
 ],
 "metadata": {
  "kernelspec": {
   "display_name": "Python 3",
   "language": "python",
   "name": "python3"
  },
  "language_info": {
   "codemirror_mode": {
    "name": "ipython",
    "version": 3
   },
   "file_extension": ".py",
   "mimetype": "text/x-python",
   "name": "python",
   "nbconvert_exporter": "python",
   "pygments_lexer": "ipython3",
   "version": "3.5.4"
  }
 },
 "nbformat": 4,
 "nbformat_minor": 2
}
